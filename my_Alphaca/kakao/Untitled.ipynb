{
 "cells": [
  {
   "cell_type": "code",
   "execution_count": null,
   "id": "eb1a5123",
   "metadata": {},
   "outputs": [],
   "source": [
    "# 예 1\n",
    "id_list = [\"muzi\", \"frodo\", \"apeach\", \"neo\"]\n",
    "report = [\"muzi frodo\",\"apeach frodo\",\"frodo neo\",\"muzi neo\",\"apeach muzi\"]\n",
    "k = 2\n",
    "# result = [2,1,1,0]"
   ]
  },
  {
   "cell_type": "code",
   "execution_count": null,
   "id": "f516cafe",
   "metadata": {},
   "outputs": [],
   "source": [
    "# 예 2\n",
    "id_list = [\"muzi\", \"frodo\", \"apeach\", \"neo\"]\n",
    "report = [\"muzi frodo\",\"apeach frodo\",\"frodo neo\",\"muzi neo\",\"apeach muzi\"]\n",
    "k = 2\n",
    "# result = [0,0]"
   ]
  },
  {
   "cell_type": "code",
   "execution_count": null,
   "id": "483bb1e4",
   "metadata": {},
   "outputs": [],
   "source": [
    "for i in report:\n",
    "        i = i.split()\n",
    "#         print(i[0])   # 신고 한 사람 목록\n",
    "        print(i[1])   # 신고 안한 사람 목록"
   ]
  },
  {
   "cell_type": "code",
   "execution_count": null,
   "id": "d4de7207",
   "metadata": {},
   "outputs": [],
   "source": [
    "# 1차저장 : 신고당한사람 목록 list 반환\n",
    "def solution(id_list, report, k):\n",
    "    answer = []\n",
    "    for i in report:\n",
    "        i = i.split()\n",
    "        answer.append(i[1])\n",
    "    return answer"
   ]
  },
  {
   "cell_type": "code",
   "execution_count": null,
   "id": "01f7a2ab",
   "metadata": {},
   "outputs": [],
   "source": [
    "answer = ['frodo', 'frodo', 'neo', 'neo', 'muzi']\n",
    "\n",
    "for v in id_list:\n",
    "    \n",
    "    a = answer.count(v)\n",
    "\n",
    "print(a)"
   ]
  },
  {
   "cell_type": "code",
   "execution_count": null,
   "id": "d2d420ef",
   "metadata": {},
   "outputs": [],
   "source": [
    "def solution(id_list, report, k):\n",
    "    lst1 = []\n",
    "    for i in report:\n",
    "        i = i.split()\n",
    "        lst1.append(i[1])\n",
    "    return lst1\n",
    "\n",
    "    lst2 = []\n",
    "    for v in id_list:\n",
    "        v = lst1.count(v)\n",
    "        lst2.append(v)\n",
    "    return lst2\n",
    "\n",
    "    print(lst1, lst2)"
   ]
  },
  {
   "cell_type": "code",
   "execution_count": 1,
   "id": "7b210c3f",
   "metadata": {},
   "outputs": [],
   "source": [
    "def solution(id_list, report, k):\n",
    "    lst2= []\n",
    "    for v in id_list:\n",
    "        lst1 = []\n",
    "        for i in report:\n",
    "            i = i.split()\n",
    "            lst1.append(i[1])\n",
    "        return lst1\n",
    "        v = lst1.count(v)\n",
    "        lst2.append(v)\n",
    "    return lst2\n",
    "\n",
    "    if lst2.spilt() == k:\n",
    "        "
   ]
  },
  {
   "cell_type": "code",
   "execution_count": 2,
   "id": "4ffe5752",
   "metadata": {},
   "outputs": [
    {
     "data": {
      "text/plain": [
       "['frodo', 'frodo', 'neo', 'neo', 'muzi']"
      ]
     },
     "execution_count": 2,
     "metadata": {},
     "output_type": "execute_result"
    }
   ],
   "source": [
    "id_list = [\"muzi\", \"frodo\", \"apeach\", \"neo\"]\n",
    "report = [\"muzi frodo\",\"apeach frodo\",\"frodo neo\",\"muzi neo\",\"apeach muzi\"]\n",
    "k = 2\n",
    "solution(id_list, report, k)"
   ]
  }
 ],
 "metadata": {
  "kernelspec": {
   "display_name": "Python 3 (ipykernel)",
   "language": "python",
   "name": "python3"
  },
  "language_info": {
   "codemirror_mode": {
    "name": "ipython",
    "version": 3
   },
   "file_extension": ".py",
   "mimetype": "text/x-python",
   "name": "python",
   "nbconvert_exporter": "python",
   "pygments_lexer": "ipython3",
   "version": "3.8.10"
  },
  "toc": {
   "base_numbering": 1,
   "nav_menu": {},
   "number_sections": true,
   "sideBar": true,
   "skip_h1_title": false,
   "title_cell": "Table of Contents",
   "title_sidebar": "Contents",
   "toc_cell": false,
   "toc_position": {},
   "toc_section_display": true,
   "toc_window_display": false
  }
 },
 "nbformat": 4,
 "nbformat_minor": 5
}
