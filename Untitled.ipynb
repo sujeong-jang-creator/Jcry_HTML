{
 "cells": [
  {
   "cell_type": "code",
   "execution_count": 2,
   "id": "bc5dd21c",
   "metadata": {},
   "outputs": [],
   "source": [
    "import random"
   ]
  },
  {
   "cell_type": "code",
   "execution_count": 42,
   "id": "4c33a49f",
   "metadata": {
    "scrolled": true
   },
   "outputs": [
    {
     "name": "stdout",
     "output_type": "stream",
     "text": [
      "가위 바위 보 : 보\n",
      "나 : 보\n",
      "컴퓨터 : 보\n",
      "\n"
     ]
    }
   ],
   "source": [
    "my = input(\"가위 바위 보 : \")               \n",
    "computer = random.randint(0, 2)\n",
    "\n",
    "def change(x):\n",
    "    if x == '가위' or x == 0:\n",
    "        x = '가위'\n",
    "        return x\n",
    "    elif x == '바위' or x == 1:\n",
    "        x = '바위'\n",
    "        return x\n",
    "    elif x == '보' or x == 2:\n",
    "        x = '보'\n",
    "        return x\n",
    "\n",
    "print(f'나 : {my}\\n컴퓨터 : {change(computer)}\\n')"
   ]
  },
  {
   "cell_type": "code",
   "execution_count": 40,
   "id": "02729a05",
   "metadata": {},
   "outputs": [
    {
     "name": "stdout",
     "output_type": "stream",
     "text": [
      "가위 바위 보 : 보\n"
     ]
    },
    {
     "data": {
      "text/plain": [
       "'보'"
      ]
     },
     "execution_count": 40,
     "metadata": {},
     "output_type": "execute_result"
    }
   ],
   "source": [
    "my = input(\"가위 바위 보 : \")               \n",
    "computer = random.randint(0, 2)\n",
    "\n",
    "def change(x):\n",
    "    if x == '가위' or x == 0:\n",
    "        x = '가위'\n",
    "        return x\n",
    "    elif x == '바위' or x == 1:\n",
    "        x = '바위'\n",
    "        return x\n",
    "    elif x == '보' or x == 2:\n",
    "        x = '보'\n",
    "        return x\n",
    "        \n",
    "        \n",
    "change(computer)"
   ]
  },
  {
   "cell_type": "code",
   "execution_count": 26,
   "id": "06220c1a",
   "metadata": {},
   "outputs": [
    {
     "ename": "SyntaxError",
     "evalue": "EOL while scanning string literal (<ipython-input-26-2fb789f16d84>, line 9)",
     "output_type": "error",
     "traceback": [
      "\u001b[1;36m  File \u001b[1;32m\"<ipython-input-26-2fb789f16d84>\"\u001b[1;36m, line \u001b[1;32m9\u001b[0m\n\u001b[1;33m    elif x == 2':\u001b[0m\n\u001b[1;37m                 ^\u001b[0m\n\u001b[1;31mSyntaxError\u001b[0m\u001b[1;31m:\u001b[0m EOL while scanning string literal\n"
     ]
    }
   ],
   "source": [
    "my = input(\"가위 바위 보 : \")               \n",
    "computer = random.randint(0, 2)\n",
    "\n",
    "def change(x):\n",
    "    if x == 0:\n",
    "        str(x) = '가위'\n",
    "    elif x == 1:\n",
    "        str(x) = '바위'\n",
    "    elif x == 2':\n",
    "        x) = '보'\n",
    "\n",
    "change(my)\n",
    "change(computer)\n",
    "\n",
    "print(f'나 : {my}\\n컴퓨터 : {computer}\\n')"
   ]
  }
 ],
 "metadata": {
  "kernelspec": {
   "display_name": "Python 3",
   "language": "python",
   "name": "python3"
  },
  "language_info": {
   "codemirror_mode": {
    "name": "ipython",
    "version": 3
   },
   "file_extension": ".py",
   "mimetype": "text/x-python",
   "name": "python",
   "nbconvert_exporter": "python",
   "pygments_lexer": "ipython3",
   "version": "3.8.8"
  }
 },
 "nbformat": 4,
 "nbformat_minor": 5
}
