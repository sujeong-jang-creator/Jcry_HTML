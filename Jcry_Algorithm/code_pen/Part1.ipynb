{
 "cells": [
  {
   "cell_type": "markdown",
   "id": "d552feab",
   "metadata": {},
   "source": [
    "공부 날짜 : 2022-04-06"
   ]
  },
  {
   "cell_type": "markdown",
   "id": "983ec635",
   "metadata": {},
   "source": [
    "# 차량 번호판 1"
   ]
  },
  {
   "cell_type": "markdown",
   "id": "0134ba7c",
   "metadata": {},
   "source": [
    "**백준 16968번 :** https://www.acmicpc.net/problem/16968"
   ]
  },
  {
   "cell_type": "markdown",
   "id": "a56f7976",
   "metadata": {},
   "source": [
    "![차량번호판1](Q_jpg/차량번호판1.png)"
   ]
  },
  {
   "cell_type": "code",
   "execution_count": 2,
   "id": "1a213a95",
   "metadata": {},
   "outputs": [],
   "source": [
    "# s : 문제의 입력(번호판의 패턴) >> c 혹은 d를 입력 할 것임\n",
    "# index : 인덱스(몇번째 문자를 설정할 것인가)\n",
    "# last : 이전문자(index-1번째 문자)"
   ]
  },
  {
   "cell_type": "code",
   "execution_count": 21,
   "id": "5a239e1e",
   "metadata": {},
   "outputs": [
    {
     "name": "stdout",
     "output_type": "stream",
     "text": [
      "dddd\n",
      "7290\n"
     ]
    }
   ],
   "source": [
    "def go(s, index, last):\n",
    "    # 현재 인덱스가 s의 길이와 같다는 것은 마지막 까지 모두 결정하고 다음을 호출한 것\n",
    "    if len(s) == index:\n",
    "        # 한가지 방법을 찾았다는 뜻이므로 1을 반환\n",
    "        return 1\n",
    "\n",
    "    # ord를 불러서 아스키코드를 이용 \n",
    "    # ord('a')를 넣으면 정수 97 반환(해당 문자에 해당하는 유니코드 정수 반환)\n",
    "    # 그러므로 start랑 end는 int임\n",
    "    \n",
    "    # index 번째 문자가 c일경우 a~z까지, 아닐경우 0~9까지\n",
    "    # 맨 아래에서 index를 0을 넣음. 즉 s의 첫번째 글자가 'c'일 경우~ 이렇게 봐야함\n",
    "    start = ord('a') if s[index] == 'c' else ord('0')\n",
    "    end = ord('z') if s[index] == 'c' else ord('9')\n",
    "\n",
    "    ans = 0\n",
    "    # end+1 이 이해가 안된다면 다음 다음 셀 참고\n",
    "    for i in range(start, end+1):\n",
    "        # 이전에 사용했던 문자와 다를때만 그때의 값들을 보여줌\n",
    "        if i != last:\n",
    "            ans += go(s, index+1, i)\n",
    "    return ans\n",
    "\n",
    "s = input()\n",
    "print(go(s,0,' '))"
   ]
  },
  {
   "cell_type": "code",
   "execution_count": 22,
   "id": "7d5d651b",
   "metadata": {},
   "outputs": [
    {
     "name": "stdout",
     "output_type": "stream",
     "text": [
      "97\n",
      "122\n",
      "48\n",
      "57\n"
     ]
    }
   ],
   "source": [
    "print(ord('a'), ord('z'), ord('0'), ord('9'), sep='\\n')"
   ]
  },
  {
   "cell_type": "code",
   "execution_count": 12,
   "id": "2d486a65",
   "metadata": {},
   "outputs": [
    {
     "name": "stdout",
     "output_type": "stream",
     "text": [
      "97\n",
      "98\n",
      "99\n",
      "100\n",
      "101\n",
      "102\n",
      "103\n",
      "104\n",
      "105\n",
      "106\n",
      "107\n",
      "108\n",
      "109\n",
      "110\n",
      "111\n",
      "112\n",
      "113\n",
      "114\n",
      "115\n",
      "116\n",
      "117\n",
      "118\n",
      "119\n",
      "120\n",
      "121\n"
     ]
    }
   ],
   "source": [
    "# 범위를 range(97,122+1)로 해야 122숫자를 포함해서 뽑을 수 있다.\n",
    "for i in range(97, 122):\n",
    "    print(i)"
   ]
  },
  {
   "cell_type": "markdown",
   "id": "dcee0612",
   "metadata": {},
   "source": [
    "# 양념 반 후라이드 반"
   ]
  },
  {
   "cell_type": "markdown",
   "id": "dd626c61",
   "metadata": {},
   "source": [
    "**백준 16917번 :** https://www.acmicpc.net/problem/16917"
   ]
  },
  {
   "cell_type": "markdown",
   "id": "ada23fd1",
   "metadata": {},
   "source": [
    "![양념반후라이드반](Q_jpg/양념반후라이드반.png)"
   ]
  },
  {
   "cell_type": "code",
   "execution_count": 29,
   "id": "d7b0fc1b",
   "metadata": {},
   "outputs": [
    {
     "name": "stdout",
     "output_type": "stream",
     "text": [
      "1500 2000 1600 3 2\n",
      "7900\n"
     ]
    }
   ],
   "source": [
    "a,b,c,x,y = map(int,input().split())\n",
    "ans = x*a+y*b\n",
    "# 1이상 x,y 100,000 이하이기 때문에 십만을 포함하려면 인덱스를 이렇게!\n",
    "for i in range(1, 100001):\n",
    "    price = 2*i*c + max(0, x-i)*a + max(0, y-i)*b\n",
    "    if ans > price:\n",
    "        ans = price\n",
    "print(ans)"
   ]
  },
  {
   "cell_type": "code",
   "execution_count": 28,
   "id": "0c1effd9",
   "metadata": {},
   "outputs": [
    {
     "name": "stdout",
     "output_type": "stream",
     "text": [
      "[4, 5, 6]\n"
     ]
    }
   ],
   "source": [
    "# max 함수 간략 설명\n",
    "a = [1,2,3] \n",
    "b = [4,5,6] \n",
    "print(max(a, b))\n",
    "# a와 b중 큰 것을 출력한다."
   ]
  }
 ],
 "metadata": {
  "kernelspec": {
   "display_name": "Python 3",
   "language": "python",
   "name": "python3"
  },
  "language_info": {
   "codemirror_mode": {
    "name": "ipython",
    "version": 3
   },
   "file_extension": ".py",
   "mimetype": "text/x-python",
   "name": "python",
   "nbconvert_exporter": "python",
   "pygments_lexer": "ipython3",
   "version": "3.8.8"
  }
 },
 "nbformat": 4,
 "nbformat_minor": 5
}
