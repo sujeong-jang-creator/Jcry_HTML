{
 "cells": [
  {
   "cell_type": "markdown",
   "id": "927ab422",
   "metadata": {},
   "source": [
    "* 2022-04-05 (화)"
   ]
  },
  {
   "cell_type": "markdown",
   "id": "87c8d063",
   "metadata": {},
   "source": [
    "# 입출력과 사칙연산"
   ]
  },
  {
   "cell_type": "markdown",
   "id": "d792db18",
   "metadata": {},
   "source": [
    "# 1001번"
   ]
  },
  {
   "cell_type": "markdown",
   "id": "e05911e1",
   "metadata": {},
   "source": [
    "A-B 프로그램 만들기"
   ]
  },
  {
   "cell_type": "code",
   "execution_count": 35,
   "id": "8554b455",
   "metadata": {},
   "outputs": [
    {
     "name": "stdout",
     "output_type": "stream",
     "text": [
      "2 1\n",
      "1\n"
     ]
    }
   ],
   "source": [
    "A, B = input().split()\n",
    "print(int(A)-int(B))"
   ]
  },
  {
   "cell_type": "markdown",
   "id": "de232f75",
   "metadata": {},
   "source": [
    "# 10998번"
   ]
  },
  {
   "cell_type": "markdown",
   "id": "447b65ce",
   "metadata": {},
   "source": [
    "A*B 프로그램 만들기"
   ]
  },
  {
   "cell_type": "code",
   "execution_count": 16,
   "id": "1ace4e00",
   "metadata": {},
   "outputs": [
    {
     "name": "stdout",
     "output_type": "stream",
     "text": [
      "3 2\n",
      "6\n"
     ]
    }
   ],
   "source": [
    "A, B = input().split()\n",
    "print(int(A)*int(B))"
   ]
  },
  {
   "cell_type": "markdown",
   "id": "3c87fa6e",
   "metadata": {},
   "source": [
    "# 1008번"
   ]
  },
  {
   "cell_type": "markdown",
   "id": "3e9b6cf5",
   "metadata": {},
   "source": [
    "A%B 프로그램 만들기"
   ]
  },
  {
   "cell_type": "code",
   "execution_count": 22,
   "id": "6932834e",
   "metadata": {},
   "outputs": [
    {
     "name": "stdout",
     "output_type": "stream",
     "text": [
      "4 5\n",
      "0.8\n"
     ]
    }
   ],
   "source": [
    "A, B = input().split()\n",
    "print(int(A)/int(B))"
   ]
  },
  {
   "cell_type": "markdown",
   "id": "47d4a5d2",
   "metadata": {},
   "source": [
    "# 10869 번"
   ]
  },
  {
   "cell_type": "markdown",
   "id": "ecb59627",
   "metadata": {},
   "source": [
    "첫째 줄에 A+B, 둘째 줄에 A-B, 셋째 줄에 A*B, 넷째 줄에 A/B(몫), 다섯째 줄에 A%B(나머지)를 출력한다."
   ]
  },
  {
   "cell_type": "code",
   "execution_count": 28,
   "id": "ab6e025d",
   "metadata": {},
   "outputs": [
    {
     "name": "stdout",
     "output_type": "stream",
     "text": [
      "7 2\n",
      "9\n",
      "5\n",
      "14\n",
      "3\n",
      "1\n"
     ]
    }
   ],
   "source": [
    "A, B = input().split()\n",
    "print(int(A)+int(B))\n",
    "print(int(A)-int(B))\n",
    "print(int(A)*int(B))\n",
    "print(int(A)//int(B))\n",
    "print(int(A)%int(B))"
   ]
  },
  {
   "cell_type": "markdown",
   "id": "866c61b9",
   "metadata": {},
   "source": [
    "# 10926번 : ?!!"
   ]
  },
  {
   "cell_type": "markdown",
   "id": "2189bc4b",
   "metadata": {},
   "source": [
    "준하는 사이트에 회원가입을 하다가 joonas라는 아이디가 이미 존재하는 것을 보고 놀랐다. 준하는 놀람을 ??!로 표현한다. \n",
    "준하가 가입하려고 하는 사이트에 이미 존재하는 아이디가 주어졌을 때, 놀람을 표현하는 프로그램을 작성하시오."
   ]
  },
  {
   "cell_type": "code",
   "execution_count": 48,
   "id": "e39d873c",
   "metadata": {},
   "outputs": [
    {
     "name": "stdout",
     "output_type": "stream",
     "text": [
      "joonas\n",
      "joonas??!\n"
     ]
    }
   ],
   "source": [
    "print(input()+\"??!\")"
   ]
  },
  {
   "cell_type": "markdown",
   "id": "fe4e748a",
   "metadata": {},
   "source": [
    "# 18108번 : 1998년생인 내가 태국에서는 2541년생?!"
   ]
  },
  {
   "cell_type": "markdown",
   "id": "4c0fb660",
   "metadata": {},
   "source": [
    "ICPC Bangkok Regional에 참가하기 위해 수완나품 국제공항에 막 도착한 팀 레드시프트 일행은 눈을 믿을 수 없었다. 공항의 대형 스크린에 올해가 2562년이라고 적혀 있던 것이었다.\n",
    "\n",
    "불교 국가인 태국은 불멸기원(佛滅紀元), 즉 석가모니가 열반한 해를 기준으로 연도를 세는 불기를 사용한다. 반면, 우리나라는 서기 연도를 사용하고 있다. 불기 연도가 주어질 때 이를 서기 연도로 바꿔 주는 프로그램을 작성하시오."
   ]
  },
  {
   "cell_type": "code",
   "execution_count": 57,
   "id": "df2a8c5a",
   "metadata": {},
   "outputs": [
    {
     "name": "stdout",
     "output_type": "stream",
     "text": [
      "2541\n",
      "1998\n"
     ]
    }
   ],
   "source": [
    "print(int(input())-543)"
   ]
  },
  {
   "cell_type": "markdown",
   "id": "20c33d8a",
   "metadata": {},
   "source": [
    "# 10430번 : 나머지"
   ]
  },
  {
   "cell_type": "markdown",
   "id": "09cf2153",
   "metadata": {},
   "source": [
    "(A+B)%C는 ((A%C) + (B%C))%C 와 같을까?\n",
    "\n",
    "(A×B)%C는 ((A%C) × (B%C))%C 와 같을까?\n",
    "\n",
    "세 수 A, B, C가 주어졌을 때, 위의 네 가지 값을 구하는 프로그램을 작성하시오."
   ]
  },
  {
   "cell_type": "code",
   "execution_count": 79,
   "id": "0f2f3ff3",
   "metadata": {},
   "outputs": [
    {
     "name": "stdout",
     "output_type": "stream",
     "text": [
      "5 8 4\n",
      "1\n",
      "1\n",
      "0\n",
      "0\n"
     ]
    }
   ],
   "source": [
    "A,B,C = map(int,input().split())\n",
    "print((A+B)%C, ((A%C)+(B%C))%C, (A*B)%C, ((A%C)*(B%C))%C, sep='\\n')"
   ]
  },
  {
   "cell_type": "markdown",
   "id": "2be3e944",
   "metadata": {},
   "source": [
    "# 2588번 : 곱셈"
   ]
  },
  {
   "cell_type": "markdown",
   "id": "c84e6ab6",
   "metadata": {},
   "source": [
    "(세 자리 수) × (세 자리 수)는 다음과 같은 과정을 통하여 이루어진다.\n",
    "\n",
    "(1)과 (2)위치에 들어갈 세 자리 자연수가 주어질 때 (3), (4), (5), (6)위치에 들어갈 값을 구하는 프로그램을 작성하시오."
   ]
  },
  {
   "cell_type": "code",
   "execution_count": 93,
   "id": "8c522a87",
   "metadata": {},
   "outputs": [
    {
     "name": "stdout",
     "output_type": "stream",
     "text": [
      "472 385\n",
      "2360\n",
      "3776\n",
      "1416\n",
      "181720\n"
     ]
    }
   ],
   "source": [
    "A,B = map(str, input().split())\n",
    "print(int(A)*int(B[2]), int(A)*int(B[1]), int(A)*int(B[0]), int(A)*int(B), sep='\\n')"
   ]
  },
  {
   "cell_type": "code",
   "execution_count": 94,
   "id": "a1b3e2b3",
   "metadata": {},
   "outputs": [
    {
     "name": "stdout",
     "output_type": "stream",
     "text": [
      "472\n",
      "385\n",
      "2360\n",
      "3776\n",
      "1416\n",
      "181720\n"
     ]
    }
   ],
   "source": [
    "A=input()\n",
    "B=input()\n",
    "print(int(A)*int(B[2]), int(A)*int(B[1]), int(A)*int(B[0]), int(A)*int(B), sep='\\n')"
   ]
  }
 ],
 "metadata": {
  "kernelspec": {
   "display_name": "Python 3",
   "language": "python",
   "name": "python3"
  },
  "language_info": {
   "codemirror_mode": {
    "name": "ipython",
    "version": 3
   },
   "file_extension": ".py",
   "mimetype": "text/x-python",
   "name": "python",
   "nbconvert_exporter": "python",
   "pygments_lexer": "ipython3",
   "version": "3.8.8"
  }
 },
 "nbformat": 4,
 "nbformat_minor": 5
}
