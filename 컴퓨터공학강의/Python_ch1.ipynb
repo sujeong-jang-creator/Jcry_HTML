{
 "cells": [
  {
   "cell_type": "markdown",
   "id": "33f2c481",
   "metadata": {},
   "source": [
    "주석이란?"
   ]
  },
  {
   "cell_type": "code",
   "execution_count": 4,
   "id": "ea962428",
   "metadata": {},
   "outputs": [],
   "source": [
    "# 메모다 메모"
   ]
  },
  {
   "cell_type": "code",
   "execution_count": 6,
   "id": "78dfe4ea",
   "metadata": {},
   "outputs": [
    {
     "data": {
      "text/plain": [
       "'\\n이거는 여러줄 주석이다\\n아하하하\\n'"
      ]
     },
     "execution_count": 6,
     "metadata": {},
     "output_type": "execute_result"
    }
   ],
   "source": [
    "'''\n",
    "이거는 여러줄 주석이다\n",
    "아하하하\n",
    "'''"
   ]
  },
  {
   "cell_type": "markdown",
   "id": "072dbc5a",
   "metadata": {},
   "source": [
    "print를 해봅시다"
   ]
  },
  {
   "cell_type": "code",
   "execution_count": 7,
   "id": "c224e72e",
   "metadata": {},
   "outputs": [
    {
     "name": "stdout",
     "output_type": "stream",
     "text": [
      "안녕안녕 안녕하세요\n"
     ]
    }
   ],
   "source": [
    "print(\"안녕안녕 안녕하세요\")"
   ]
  },
  {
   "cell_type": "markdown",
   "id": "a003f30d",
   "metadata": {},
   "source": [
    "변수 선언"
   ]
  },
  {
   "cell_type": "code",
   "execution_count": 9,
   "id": "b6b3fa0e",
   "metadata": {},
   "outputs": [
    {
     "name": "stdout",
     "output_type": "stream",
     "text": [
      "2000\n"
     ]
    }
   ],
   "source": [
    "a = 2000\n",
    "print(a)"
   ]
  },
  {
   "cell_type": "code",
   "execution_count": 12,
   "id": "4baa6ac6",
   "metadata": {},
   "outputs": [
    {
     "name": "stdout",
     "output_type": "stream",
     "text": [
      "100 6.2 대박사건\n"
     ]
    }
   ],
   "source": [
    "a1 = 100 # 정수\n",
    "a2 = 6.2 # 실수\n",
    "a3 = \"대박사건\" # 문자열\n",
    "print(a1, a2, a3)"
   ]
  },
  {
   "cell_type": "markdown",
   "id": "50347230",
   "metadata": {},
   "source": [
    "\\ 의 쓰임"
   ]
  },
  {
   "cell_type": "code",
   "execution_count": 11,
   "id": "d008abc7",
   "metadata": {},
   "outputs": [
    {
     "name": "stdout",
     "output_type": "stream",
     "text": [
      "hello       world\n"
     ]
    }
   ],
   "source": [
    "print(\"hello \\\n",
    "      world\")"
   ]
  },
  {
   "cell_type": "markdown",
   "id": "70e0d4f7",
   "metadata": {},
   "source": [
    "if문 연습"
   ]
  },
  {
   "cell_type": "code",
   "execution_count": 15,
   "id": "3858bde5",
   "metadata": {},
   "outputs": [
    {
     "name": "stdout",
     "output_type": "stream",
     "text": [
      "0보다 큽니다.\n",
      "x= 100\n",
      "대박\n"
     ]
    }
   ],
   "source": [
    "x = 100\n",
    "if x>0:\n",
    "    print(\"0보다 큽니다.\")\n",
    "    # 세미콜론(;)은 같은 줄에 있지만 다른 문장 표시할때. \\ 와 반대\n",
    "    print(\"x=\",x); print(\"대박\")\n",
    "else:\n",
    "    print(\"0보다 작습니다.\")\n",
    "    print(\"헐~\")"
   ]
  },
  {
   "cell_type": "markdown",
   "id": "958c3c9e",
   "metadata": {},
   "source": [
    "기본연산"
   ]
  },
  {
   "cell_type": "code",
   "execution_count": 32,
   "id": "ba52aa9c",
   "metadata": {},
   "outputs": [
    {
     "name": "stdout",
     "output_type": "stream",
     "text": [
      "2.3333333333333335\n",
      "2\n",
      "1\n"
     ]
    }
   ],
   "source": [
    "# / 나누기 결과는 실수, // 몫, % 나머지\n",
    "print(7/3)\n",
    "print(7//3)\n",
    "print(7%3)"
   ]
  },
  {
   "cell_type": "code",
   "execution_count": 21,
   "id": "12bcbbad",
   "metadata": {},
   "outputs": [
    {
     "name": "stdout",
     "output_type": "stream",
     "text": [
      "a= 1 b= 2\n"
     ]
    }
   ],
   "source": [
    "a = 1\n",
    "b = 2\n",
    "print(\"a=\",a,\"b=\",b)"
   ]
  },
  {
   "cell_type": "code",
   "execution_count": 27,
   "id": "e63674fd",
   "metadata": {},
   "outputs": [],
   "source": [
    "# 값 교환\n",
    "a,b=b,a"
   ]
  },
  {
   "cell_type": "code",
   "execution_count": 28,
   "id": "0dc0b5fb",
   "metadata": {},
   "outputs": [
    {
     "name": "stdout",
     "output_type": "stream",
     "text": [
      "a= 2 b= 1\n"
     ]
    }
   ],
   "source": [
    "print(\"a=\",a,\"b=\",b)"
   ]
  },
  {
   "cell_type": "code",
   "execution_count": 30,
   "id": "f288f2f1",
   "metadata": {},
   "outputs": [
    {
     "name": "stdout",
     "output_type": "stream",
     "text": [
      "9\n"
     ]
    }
   ],
   "source": [
    "# ** 는 거듭제곱\n",
    "print(3**2)"
   ]
  },
  {
   "cell_type": "markdown",
   "id": "6d0afa20",
   "metadata": {},
   "source": [
    "실수와 부동소수"
   ]
  },
  {
   "cell_type": "markdown",
   "id": "b14a373a",
   "metadata": {},
   "source": [
    "부동소수란 실수를 컴퓨터 상에서 표현할 때 근사하는 방식의 하나로, 컴퓨터 상에서 넓은 범위의 수를 나타내는데 유리하지만 실수를 정확하게 표현할 수 없다는 단점이 있다."
   ]
  }
 ],
 "metadata": {
  "kernelspec": {
   "display_name": "Python 3",
   "language": "python",
   "name": "python3"
  },
  "language_info": {
   "codemirror_mode": {
    "name": "ipython",
    "version": 3
   },
   "file_extension": ".py",
   "mimetype": "text/x-python",
   "name": "python",
   "nbconvert_exporter": "python",
   "pygments_lexer": "ipython3",
   "version": "3.8.8"
  }
 },
 "nbformat": 4,
 "nbformat_minor": 5
}
