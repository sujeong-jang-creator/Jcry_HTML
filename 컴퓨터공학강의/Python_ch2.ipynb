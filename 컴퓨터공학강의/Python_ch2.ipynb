{
 "cells": [
  {
   "cell_type": "code",
   "execution_count": 3,
   "id": "b0141def",
   "metadata": {},
   "outputs": [
    {
     "name": "stdout",
     "output_type": "stream",
     "text": [
      "(3+4j)\n"
     ]
    }
   ],
   "source": [
    "# j는 복소수 > 복소수 표현 가능\n",
    "c = 3+4j\n",
    "print(c)"
   ]
  },
  {
   "cell_type": "code",
   "execution_count": 4,
   "id": "834c376c",
   "metadata": {},
   "outputs": [
    {
     "name": "stdout",
     "output_type": "stream",
     "text": [
      "3.0\n"
     ]
    }
   ],
   "source": [
    "print(3+2-8/4)"
   ]
  },
  {
   "cell_type": "code",
   "execution_count": 6,
   "id": "d9c0431c",
   "metadata": {},
   "outputs": [
    {
     "data": {
      "text/plain": [
       "0.30000000000000004"
      ]
     },
     "execution_count": 6,
     "metadata": {},
     "output_type": "execute_result"
    }
   ],
   "source": [
    "0.1+0.2\n",
    "# 0.3이 안나오는 이유는 부동소수 때문. 컴퓨터는 0.1의 근사값, 0.2의 근사값을 저장하므로 다음의 값이 나옴"
   ]
  },
  {
   "cell_type": "code",
   "execution_count": 13,
   "id": "6f08ef3a",
   "metadata": {},
   "outputs": [
    {
     "data": {
      "text/plain": [
       "10000000.0"
      ]
     },
     "execution_count": 13,
     "metadata": {},
     "output_type": "execute_result"
    }
   ],
   "source": [
    "# e는 10으로 보면 되서, 10의 7제곱이 됨. 1 곱하기 10의 7승\n",
    "1e7"
   ]
  },
  {
   "cell_type": "code",
   "execution_count": 12,
   "id": "dd6f3ec1",
   "metadata": {},
   "outputs": [
    {
     "data": {
      "text/plain": [
       "20000000.0"
      ]
     },
     "execution_count": 12,
     "metadata": {},
     "output_type": "execute_result"
    }
   ],
   "source": [
    "2e7"
   ]
  },
  {
   "cell_type": "markdown",
   "id": "63528078",
   "metadata": {},
   "source": [
    "문자열이란?"
   ]
  },
  {
   "cell_type": "code",
   "execution_count": 17,
   "id": "be00608f",
   "metadata": {},
   "outputs": [
    {
     "name": "stdout",
     "output_type": "stream",
     "text": [
      "\"\"\n"
     ]
    }
   ],
   "source": [
    "# \\ 뒤에 거는 문자로 인식. \\는 escape 문자\n",
    "print('\\\"\"')"
   ]
  },
  {
   "cell_type": "code",
   "execution_count": 18,
   "id": "417eba24",
   "metadata": {},
   "outputs": [
    {
     "name": "stdout",
     "output_type": "stream",
     "text": [
      "hello \n",
      " world\n"
     ]
    }
   ],
   "source": [
    "# \\n는 줄변경 \\t 는 탭\n",
    "a = \"hello \\n world\"\n",
    "print(a)"
   ]
  },
  {
   "cell_type": "code",
   "execution_count": 19,
   "id": "3166f9be",
   "metadata": {},
   "outputs": [
    {
     "name": "stdout",
     "output_type": "stream",
     "text": [
      "hello \t world\n"
     ]
    }
   ],
   "source": [
    "b = \"hello \\t world\"\n",
    "print(b)"
   ]
  },
  {
   "cell_type": "markdown",
   "id": "8ec76f8d",
   "metadata": {},
   "source": [
    " 문자열 연산"
   ]
  },
  {
   "cell_type": "code",
   "execution_count": 20,
   "id": "b614deb9",
   "metadata": {},
   "outputs": [
    {
     "name": "stdout",
     "output_type": "stream",
     "text": [
      "helloworld\n"
     ]
    }
   ],
   "source": [
    "print(\"hello\"+\"world\")"
   ]
  },
  {
   "cell_type": "code",
   "execution_count": 21,
   "id": "4103572f",
   "metadata": {},
   "outputs": [
    {
     "name": "stdout",
     "output_type": "stream",
     "text": [
      "hellohellohellohello\n"
     ]
    }
   ],
   "source": [
    "print(\"hello\"*4)"
   ]
  },
  {
   "cell_type": "markdown",
   "id": "b3c722bb",
   "metadata": {},
   "source": [
    "문자열 인덱싱과 슬라이싱"
   ]
  },
  {
   "cell_type": "code",
   "execution_count": 22,
   "id": "7cd50c98",
   "metadata": {},
   "outputs": [],
   "source": [
    "A = \"Life is short, you need python\""
   ]
  },
  {
   "cell_type": "code",
   "execution_count": 26,
   "id": "45039d88",
   "metadata": {},
   "outputs": [
    {
     "data": {
      "text/plain": [
       "'L'"
      ]
     },
     "execution_count": 26,
     "metadata": {},
     "output_type": "execute_result"
    }
   ],
   "source": [
    "# 인덱싱 : 한글자씩 보는거\n",
    "A[0]"
   ]
  },
  {
   "cell_type": "code",
   "execution_count": 24,
   "id": "2bceffe6",
   "metadata": {},
   "outputs": [
    {
     "data": {
      "text/plain": [
       "'n'"
      ]
     },
     "execution_count": 24,
     "metadata": {},
     "output_type": "execute_result"
    }
   ],
   "source": [
    "A[-1]"
   ]
  },
  {
   "cell_type": "code",
   "execution_count": 27,
   "id": "7c8f7f30",
   "metadata": {},
   "outputs": [],
   "source": [
    "# 슬라이싱 : 연속된 문자를 뽑을때 사용하는 기법"
   ]
  },
  {
   "cell_type": "code",
   "execution_count": 29,
   "id": "e5a38381",
   "metadata": {},
   "outputs": [
    {
     "data": {
      "text/plain": [
       "'Life '"
      ]
     },
     "execution_count": 29,
     "metadata": {},
     "output_type": "execute_result"
    }
   ],
   "source": [
    "A[0:5] # 0~5까지"
   ]
  },
  {
   "cell_type": "code",
   "execution_count": 30,
   "id": "e24d84de",
   "metadata": {},
   "outputs": [
    {
     "data": {
      "text/plain": [
       "'Life '"
      ]
     },
     "execution_count": 30,
     "metadata": {},
     "output_type": "execute_result"
    }
   ],
   "source": [
    "A[:5] # 5번째 자리수 전까지의 문자열"
   ]
  },
  {
   "cell_type": "code",
   "execution_count": 31,
   "id": "59b96ab3",
   "metadata": {},
   "outputs": [
    {
     "data": {
      "text/plain": [
       "'is short, you need python'"
      ]
     },
     "execution_count": 31,
     "metadata": {},
     "output_type": "execute_result"
    }
   ],
   "source": [
    "A[5:] # 5번째 자리수 후부터"
   ]
  },
  {
   "cell_type": "code",
   "execution_count": 32,
   "id": "3df0fe78",
   "metadata": {},
   "outputs": [
    {
     "data": {
      "text/plain": [
       "'fe is short, you need pyth'"
      ]
     },
     "execution_count": 32,
     "metadata": {},
     "output_type": "execute_result"
    }
   ],
   "source": [
    "A[2:-2]"
   ]
  },
  {
   "cell_type": "markdown",
   "id": "70b46fe2",
   "metadata": {},
   "source": [
    "count / len"
   ]
  },
  {
   "cell_type": "code",
   "execution_count": 36,
   "id": "751aba51",
   "metadata": {},
   "outputs": [
    {
     "data": {
      "text/plain": [
       "2"
      ]
     },
     "execution_count": 36,
     "metadata": {},
     "output_type": "execute_result"
    }
   ],
   "source": [
    "# i가 몇번 반복되는지 세는 것\n",
    "\"life is short\".count(\"i\")"
   ]
  },
  {
   "cell_type": "code",
   "execution_count": 38,
   "id": "b560d34b",
   "metadata": {},
   "outputs": [
    {
     "data": {
      "text/plain": [
       "30"
      ]
     },
     "execution_count": 38,
     "metadata": {},
     "output_type": "execute_result"
    }
   ],
   "source": [
    "# 총 글자 수\n",
    "len(\"Life is short, you need python\")"
   ]
  },
  {
   "cell_type": "markdown",
   "id": "ed4ae59a",
   "metadata": {},
   "source": [
    "strip : 공백제거"
   ]
  },
  {
   "cell_type": "code",
   "execution_count": 40,
   "id": "672f87dd",
   "metadata": {},
   "outputs": [
    {
     "data": {
      "text/plain": [
       "'life is short'"
      ]
     },
     "execution_count": 40,
     "metadata": {},
     "output_type": "execute_result"
    }
   ],
   "source": [
    "'       life is short     '.strip()"
   ]
  },
  {
   "cell_type": "code",
   "execution_count": 43,
   "id": "7701423c",
   "metadata": {},
   "outputs": [
    {
     "data": {
      "text/plain": [
       "1"
      ]
     },
     "execution_count": 43,
     "metadata": {},
     "output_type": "execute_result"
    }
   ],
   "source": [
    "# a는 없으므로 -1, 만약 있다면 index값 반환\n",
    "# \"Life is short, you need python\".find(\"a\")\n",
    "\"Life is short, you need python\".find(\"i\")"
   ]
  },
  {
   "cell_type": "markdown",
   "id": "d047203e",
   "metadata": {},
   "source": [
    "문자열 포매팅"
   ]
  },
  {
   "cell_type": "markdown",
   "id": "4d79131f",
   "metadata": {},
   "source": [
    "방법 1)  \n",
    "\"현재 시간은 {}시 입니다.\".format(7)  \n",
    "방법 2)  \n",
    "\"현재 시간은 %d시 입니다.\"%7  "
   ]
  },
  {
   "cell_type": "code",
   "execution_count": 44,
   "id": "9abf425b",
   "metadata": {},
   "outputs": [
    {
     "data": {
      "text/plain": [
       "'현재 시간은 7시 입니다.'"
      ]
     },
     "execution_count": 44,
     "metadata": {},
     "output_type": "execute_result"
    }
   ],
   "source": [
    "\"현재 시간은 {}시 입니다.\".format(7)"
   ]
  },
  {
   "cell_type": "code",
   "execution_count": 45,
   "id": "c7dcf147",
   "metadata": {},
   "outputs": [
    {
     "data": {
      "text/plain": [
       "'현재 시간은 7시 입니다.'"
      ]
     },
     "execution_count": 45,
     "metadata": {},
     "output_type": "execute_result"
    }
   ],
   "source": [
    "\"현재 시간은 %d시 입니다.\"%7"
   ]
  },
  {
   "cell_type": "code",
   "execution_count": 46,
   "id": "b2ac4ff7",
   "metadata": {},
   "outputs": [
    {
     "data": {
      "text/plain": [
       "'현재 시간은 7시 30분 입니다.'"
      ]
     },
     "execution_count": 46,
     "metadata": {},
     "output_type": "execute_result"
    }
   ],
   "source": [
    "\"현재 시간은 {}시 {}분 입니다.\".format(7, 30)"
   ]
  },
  {
   "cell_type": "code",
   "execution_count": 48,
   "id": "c2b464db",
   "metadata": {},
   "outputs": [
    {
     "data": {
      "text/plain": [
       "'현재 시간은 7시 30분 입니다.'"
      ]
     },
     "execution_count": 48,
     "metadata": {},
     "output_type": "execute_result"
    }
   ],
   "source": [
    "\"현재 시간은 %d시 %d분 입니다.\"%(7,30)"
   ]
  },
  {
   "cell_type": "code",
   "execution_count": 49,
   "id": "5b3fa578",
   "metadata": {},
   "outputs": [
    {
     "data": {
      "text/plain": [
       "'지금은 7시 30분 입니다.'"
      ]
     },
     "execution_count": 49,
     "metadata": {},
     "output_type": "execute_result"
    }
   ],
   "source": [
    "\"지금은 {time}시 {minute}분 입니다.\".format(time=7, minute=30)"
   ]
  },
  {
   "cell_type": "markdown",
   "id": "c9cc8a71",
   "metadata": {},
   "source": [
    "형 변환  \n",
    "정수로 변환 : int()  \n",
    "실수로 변환 : float()  \n",
    "문자열로 변환 : str()  "
   ]
  },
  {
   "cell_type": "code",
   "execution_count": 52,
   "id": "5631a55c",
   "metadata": {},
   "outputs": [
    {
     "name": "stdout",
     "output_type": "stream",
     "text": [
      "3 <class 'str'>\n"
     ]
    }
   ],
   "source": [
    "print(str(3), type(str(3)))"
   ]
  },
  {
   "cell_type": "code",
   "execution_count": 53,
   "id": "ac530a00",
   "metadata": {},
   "outputs": [
    {
     "name": "stdout",
     "output_type": "stream",
     "text": [
      "<class 'int'>\n"
     ]
    }
   ],
   "source": [
    "print(type(3))"
   ]
  },
  {
   "cell_type": "code",
   "execution_count": 54,
   "id": "3f91b8cb",
   "metadata": {},
   "outputs": [
    {
     "name": "stdout",
     "output_type": "stream",
     "text": [
      "3.0 <class 'float'>\n"
     ]
    }
   ],
   "source": [
    "print(float(3), type(float(3)))"
   ]
  }
 ],
 "metadata": {
  "kernelspec": {
   "display_name": "Python 3",
   "language": "python",
   "name": "python3"
  },
  "language_info": {
   "codemirror_mode": {
    "name": "ipython",
    "version": 3
   },
   "file_extension": ".py",
   "mimetype": "text/x-python",
   "name": "python",
   "nbconvert_exporter": "python",
   "pygments_lexer": "ipython3",
   "version": "3.8.8"
  }
 },
 "nbformat": 4,
 "nbformat_minor": 5
}
