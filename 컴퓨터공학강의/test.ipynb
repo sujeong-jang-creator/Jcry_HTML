{
 "cells": [
  {
   "cell_type": "code",
   "execution_count": 5,
   "id": "bccdc825",
   "metadata": {},
   "outputs": [
    {
     "name": "stdout",
     "output_type": "stream",
     "text": [
      "Coding everday 1\n",
      "Coding everday 2\n",
      "Coding everday 3\n",
      "Coding everday 4\n",
      "Coding everday 5\n",
      "Coding everday 6\n",
      "Coding everday 7\n",
      "Coding everday 8\n"
     ]
    }
   ],
   "source": [
    "for i in range(1,9):\n",
    "    print(\"Coding everday\",i)"
   ]
  },
  {
   "cell_type": "code",
   "execution_count": 36,
   "id": "5982d0ab",
   "metadata": {},
   "outputs": [
    {
     "name": "stdout",
     "output_type": "stream",
     "text": [
      "ABCDEF\n",
      "FEDCBA\n"
     ]
    }
   ],
   "source": [
    "def test():\n",
    "    string=input()\n",
    "    reverse = \"\"\n",
    "    \n",
    "    for i in string:\n",
    "        reverse = i+reverse\n",
    "    print(reverse)\n",
    "    \n",
    "test()"
   ]
  },
  {
   "cell_type": "code",
   "execution_count": 13,
   "id": "7f454e42",
   "metadata": {},
   "outputs": [
    {
     "name": "stdout",
     "output_type": "stream",
     "text": [
      "FEDCBA\n"
     ]
    }
   ],
   "source": [
    "string=\"ABCDEF\"\n",
    "string_list=list(string)\n",
    "string_list.reverse()\n",
    "result = ''.join(string_list)\n",
    "print(result)"
   ]
  },
  {
   "cell_type": "code",
   "execution_count": null,
   "id": "6a53bc9d",
   "metadata": {},
   "outputs": [],
   "source": []
  }
 ],
 "metadata": {
  "kernelspec": {
   "display_name": "Python 3",
   "language": "python",
   "name": "python3"
  },
  "language_info": {
   "codemirror_mode": {
    "name": "ipython",
    "version": 3
   },
   "file_extension": ".py",
   "mimetype": "text/x-python",
   "name": "python",
   "nbconvert_exporter": "python",
   "pygments_lexer": "ipython3",
   "version": "3.8.8"
  }
 },
 "nbformat": 4,
 "nbformat_minor": 5
}
