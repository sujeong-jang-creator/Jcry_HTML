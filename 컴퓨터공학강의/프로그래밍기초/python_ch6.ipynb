{
  "nbformat": 4,
  "nbformat_minor": 0,
  "metadata": {
    "colab": {
      "name": "python_ch6.ipynb",
      "provenance": []
    },
    "kernelspec": {
      "name": "python3",
      "display_name": "Python 3"
    },
    "language_info": {
      "name": "python"
    }
  },
  "cells": [
    {
      "cell_type": "code",
      "metadata": {
        "id": "RCPDC8gxFG5y"
      },
      "source": [
        "class human:\n",
        "  def __init__(self, height, age):\n",
        "    self.height = height\n",
        "    self.age = age\n",
        "  def how_old(self):\n",
        "    print(self.age, \"살 입니다\")\n",
        "  def how_tall(self):\n",
        "    print(self.height, 'cm 입니다')\n",
        "  def __del__(self):\n",
        "    print('삭제되었다')"
      ],
      "execution_count": 15,
      "outputs": []
    },
    {
      "cell_type": "code",
      "metadata": {
        "id": "fE9x3nKFFWCC"
      },
      "source": [
        "seunghyun = human(180,31)"
      ],
      "execution_count": 16,
      "outputs": []
    },
    {
      "cell_type": "code",
      "metadata": {
        "colab": {
          "base_uri": "https://localhost:8080/"
        },
        "id": "J6i5QutVLi-I",
        "outputId": "cfcb20f8-25ab-44fe-d323-f3f4d0b8408f"
      },
      "source": [
        "del seunghyun"
      ],
      "execution_count": 17,
      "outputs": [
        {
          "output_type": "stream",
          "text": [
            "삭제되었다\n"
          ],
          "name": "stdout"
        }
      ]
    },
    {
      "cell_type": "code",
      "metadata": {
        "colab": {
          "base_uri": "https://localhost:8080/"
        },
        "id": "WbiOaGfPFX-7",
        "outputId": "d9640f44-747c-4086-cb6a-759f49c3955d"
      },
      "source": [
        "print(seunghyun.height)\n",
        "print(seunghyun.age)\n",
        "seunghyun.how_old()"
      ],
      "execution_count": 7,
      "outputs": [
        {
          "output_type": "stream",
          "text": [
            "180\n",
            "31\n",
            "31 살 입니다\n"
          ],
          "name": "stdout"
        }
      ]
    },
    {
      "cell_type": "code",
      "metadata": {
        "id": "9dmN5DvYHAZ4"
      },
      "source": [
        "def plus(a,b):\n",
        "  return a+b"
      ],
      "execution_count": 13,
      "outputs": []
    },
    {
      "cell_type": "code",
      "metadata": {
        "colab": {
          "base_uri": "https://localhost:8080/"
        },
        "id": "Uri35nHqJKmH",
        "outputId": "8eb3017f-3ca3-47cd-919e-b3374bb0e4d8"
      },
      "source": [
        "type(plus)"
      ],
      "execution_count": 14,
      "outputs": [
        {
          "output_type": "execute_result",
          "data": {
            "text/plain": [
              "function"
            ]
          },
          "metadata": {
            "tags": []
          },
          "execution_count": 14
        }
      ]
    },
    {
      "cell_type": "code",
      "metadata": {
        "id": "k4HY3BhUJMPn"
      },
      "source": [
        "class student:\n",
        "  count = 0\n",
        "  @classmethod\n",
        "  def cmethod(cls):\n",
        "    print(\"클래스 메소드\")\n",
        "    print(cls.count)\n",
        "  \n",
        "  @staticmethod\n",
        "  def smethod():\n",
        "    print(\"정적 메소드\")"
      ],
      "execution_count": 21,
      "outputs": []
    },
    {
      "cell_type": "code",
      "metadata": {
        "colab": {
          "base_uri": "https://localhost:8080/"
        },
        "id": "iEg8zBv2NP21",
        "outputId": "072bceb2-26fd-446e-e48f-41bbf2675c45"
      },
      "source": [
        "student.cmethod()\n",
        "student.smethod()"
      ],
      "execution_count": 22,
      "outputs": [
        {
          "output_type": "stream",
          "text": [
            "클래스 메소드\n",
            "0\n",
            "정적 메소드\n"
          ],
          "name": "stdout"
        }
      ]
    },
    {
      "cell_type": "code",
      "metadata": {
        "id": "PYPpInEiNSmd"
      },
      "source": [
        "class human:\n",
        "    def __init__(self):\n",
        "        self.__age = 31\n",
        "\n",
        "    @property\n",
        "    def age_getter(self):   #getter\n",
        "        return self.__age\n",
        "\n",
        "    @age_getter.setter\n",
        "    def age_setter(self, value): #setter\n",
        "        self.__age = value"
      ],
      "execution_count": 63,
      "outputs": []
    },
    {
      "cell_type": "code",
      "metadata": {
        "id": "XtJpwlwPP7qk"
      },
      "source": [
        "seunghyun = human()"
      ],
      "execution_count": 65,
      "outputs": []
    },
    {
      "cell_type": "code",
      "metadata": {
        "id": "MhPv3Q-SQAZr"
      },
      "source": [
        "seunghyun.age_setter = 25252"
      ],
      "execution_count": 66,
      "outputs": []
    },
    {
      "cell_type": "code",
      "metadata": {
        "colab": {
          "base_uri": "https://localhost:8080/"
        },
        "id": "hds5D3mOP_Fh",
        "outputId": "895f5e26-7db7-4441-f5c4-8ed57bf39c56"
      },
      "source": [
        "seunghyun.age_getter"
      ],
      "execution_count": 67,
      "outputs": [
        {
          "output_type": "execute_result",
          "data": {
            "text/plain": [
              "25252"
            ]
          },
          "metadata": {
            "tags": []
          },
          "execution_count": 67
        }
      ]
    },
    {
      "cell_type": "code",
      "metadata": {
        "colab": {
          "base_uri": "https://localhost:8080/",
          "height": 173
        },
        "id": "DDrN2m2tQZP0",
        "outputId": "d7c94cc8-ac48-460f-eda2-f3b7fad2f540"
      },
      "source": [
        "seunghyun.__age"
      ],
      "execution_count": 56,
      "outputs": [
        {
          "output_type": "error",
          "ename": "AttributeError",
          "evalue": "ignored",
          "traceback": [
            "\u001b[0;31m---------------------------------------------------------------------------\u001b[0m",
            "\u001b[0;31mAttributeError\u001b[0m                            Traceback (most recent call last)",
            "\u001b[0;32m<ipython-input-56-38611120de37>\u001b[0m in \u001b[0;36m<module>\u001b[0;34m()\u001b[0m\n\u001b[0;32m----> 1\u001b[0;31m \u001b[0mseunghyun\u001b[0m\u001b[0;34m.\u001b[0m\u001b[0m__age\u001b[0m\u001b[0;34m\u001b[0m\u001b[0;34m\u001b[0m\u001b[0m\n\u001b[0m",
            "\u001b[0;31mAttributeError\u001b[0m: 'human' object has no attribute '__age'"
          ]
        }
      ]
    },
    {
      "cell_type": "code",
      "metadata": {
        "colab": {
          "base_uri": "https://localhost:8080/"
        },
        "id": "k58skp0pQz3j",
        "outputId": "bdfdb1e3-0b1a-4f92-a45f-c5bece8bfc05"
      },
      "source": [
        "mypi = 3.14\n",
        "# 원의 면적 반지름 * 반지름 * 3.14\n",
        "def area(r):\n",
        "    return mypi * r * r\n",
        "# 자체적으로 실행\n",
        "if __name__ == \"__main__\":\n",
        "    print(round(area(12),2))\n",
        "    print(area(10))\n"
      ],
      "execution_count": 68,
      "outputs": [
        {
          "output_type": "stream",
          "text": [
            "452.16\n",
            "314.0\n"
          ],
          "name": "stdout"
        }
      ]
    },
    {
      "cell_type": "code",
      "metadata": {
        "colab": {
          "base_uri": "https://localhost:8080/"
        },
        "id": "BbcfinuHRz5w",
        "outputId": "ad2757e0-4b7d-47b9-aa67-e23efab8b1d6"
      },
      "source": [
        "def plus(x, y):\n",
        "    return x + y\n",
        "def minus(x, y):\n",
        "    return x - y\n",
        "def mutiply(x, y):\n",
        "    return x * y\n",
        "def divide(x, y):\n",
        "    return x / y\n",
        "if __name__ == \"__main__\":\n",
        "    print(plus(12, 3))\n",
        "    print(minus(12, 3))\n",
        "    print(mutiply(12, 3))\n",
        "    print(divide(12, 3))"
      ],
      "execution_count": 69,
      "outputs": [
        {
          "output_type": "stream",
          "text": [
            "15\n",
            "9\n",
            "36\n",
            "4.0\n"
          ],
          "name": "stdout"
        }
      ]
    },
    {
      "cell_type": "code",
      "metadata": {
        "colab": {
          "base_uri": "https://localhost:8080/"
        },
        "id": "qe6UTPe_TgiS",
        "outputId": "b39fbca1-d7cd-41e2-ddcb-0da078f558a2"
      },
      "source": [
        "class Car:  # 클래스명은 대문자로 시작\n",
        "    def __init__(self): # 전역면수 선언할 때 사용, 생성자\n",
        "        self.color = \"red\"   # 속성/데이터/필드 초기화\n",
        "        self.wheel_size = 18\n",
        "        self.displacement = 2000\n",
        "    def forward(self):   # 메서드. 함수 정의\n",
        "        print('전진')\n",
        "    def backward(self):\n",
        "        print('후진')\n",
        "    def turn_left(self):\n",
        "        print('좌회전')\n",
        "    def turn_right(self):\n",
        "        print(\"우회전\")\n",
        "if __name__ == \"__main__\":\n",
        "    # mycar : 객체이름, reference name, 인스탄스 이름\n",
        "    mycar = Car()  # 차라는 클래스를 이용하여 내차 생성\n",
        "    print(mycar.color)  # 객체명.속성\n",
        "    mycar.backward()    # 객체명.메소드명()"
      ],
      "execution_count": 70,
      "outputs": [
        {
          "output_type": "stream",
          "text": [
            "red\n",
            "후진\n"
          ],
          "name": "stdout"
        }
      ]
    },
    {
      "cell_type": "code",
      "metadata": {
        "colab": {
          "base_uri": "https://localhost:8080/"
        },
        "id": "pJ2-Z_gGTmeE",
        "outputId": "6d86328f-7838-4978-db0d-427ebffbdb66"
      },
      "source": [
        "# Cat __init--(name) speak 야홍\n",
        "# drink(self, food) # xx가 xxx를 마신다\n",
        "class Cat:\n",
        "    def __init__(self, name):\n",
        "        self.name = name  # self.name instance변수, 객체변수\n",
        "    def speak(self):\n",
        "        print('야옹')\n",
        "    def drink(self, food):\n",
        "        print(\"{}가 {}을(를) 마신다\".format(self.name, food))\n",
        "    #     print(name) name은 반드시 self와 같이 사용\n",
        "cat1 = Cat(\"냥이\"); cat2 = Cat(\"홍이\")\n",
        "cat1.speak();  cat1.drink('우유')\n",
        "Cat.speak(cat2); Cat.drink(cat2, \"막걸리\")"
      ],
      "execution_count": 71,
      "outputs": [
        {
          "output_type": "stream",
          "text": [
            "야옹\n",
            "냥이가 우유을(를) 마신다\n",
            "야옹\n",
            "홍이가 막걸리을(를) 마신다\n"
          ],
          "name": "stdout"
        }
      ]
    },
    {
      "cell_type": "code",
      "metadata": {
        "colab": {
          "base_uri": "https://localhost:8080/"
        },
        "id": "Xn019UmDTsuu",
        "outputId": "0cbc91f5-ea95-4b66-d84b-a0fa195f230a"
      },
      "source": [
        "class Cat :\n",
        "    name = \"펭수\"\n",
        "    def __init__(self, age):\n",
        "        self.age = age # 객체를 생성한 후에 사용 가능\n",
        "        # 따라서 객체 생성전에 사용하는 static/class변수는 사용 못함\n",
        "    @classmethod\n",
        "    def drink(cls):\n",
        "        print(\"{}가 물을 먹는다\".format(cls.name))\n",
        "        # print(\"나이 : {}\".format(self.age))\n",
        "    @staticmethod\n",
        "    def play():\n",
        "        print(\"수다를 떨고 있다\")\n",
        "        # print(\"나이 : {}\".format(self.age))\n",
        "    def song(self):  # 객체를 만들어야 사용가능, 이미 name은 만들어져 있음\n",
        "        print(\"{}가 노래를 부른다\".format(Cat.name))\n",
        "        print(\"나이 : {}\".format(self.age))\n",
        "Cat.drink(); Cat.play(); # Cat.song()\n",
        "c1 = Cat(12); c1.song(); c1.play(); c1.drink()"
      ],
      "execution_count": 73,
      "outputs": [
        {
          "output_type": "stream",
          "text": [
            "펭수가 물을 먹는다\n",
            "수다를 떨고 있다\n",
            "펭수가 노래를 부른다\n",
            "나이 : 12\n",
            "수다를 떨고 있다\n",
            "펭수가 물을 먹는다\n"
          ],
          "name": "stdout"
        }
      ]
    },
    {
      "cell_type": "code",
      "metadata": {
        "colab": {
          "base_uri": "https://localhost:8080/"
        },
        "id": "1LZQvGAJTvAR",
        "outputId": "5b93d882-c99a-4fbe-dcd3-3a17e0d5131d"
      },
      "source": [
        "class Counter:\n",
        "    count = 0\n",
        "    def __init__(self):\n",
        "        Counter.count += 1 # 객체를 생성하면 count 1증가\n",
        "    @classmethod\n",
        "    def print_cm(cls):\n",
        "        print(cls.count)\n",
        "    # def print_m(self): # 일반 메소드는 클래스 변수 사용 못함\n",
        "    #     print(count)\n",
        "\n",
        "if __name__ == '__main__':\n",
        "    Counter.print_cm()\n",
        "    b = Counter()\n",
        "    Counter.print_cm()\n",
        "    c = Counter()\n",
        "    c.print_cm()"
      ],
      "execution_count": 74,
      "outputs": [
        {
          "output_type": "stream",
          "text": [
            "0\n",
            "1\n",
            "2\n"
          ],
          "name": "stdout"
        }
      ]
    },
    {
      "cell_type": "code",
      "metadata": {
        "colab": {
          "base_uri": "https://localhost:8080/"
        },
        "id": "m0fAlXWQUGQF",
        "outputId": "6f736a19-31dc-4532-b8cd-f81f6d5231de"
      },
      "source": [
        "class Student:\n",
        "    schoolName = \"한국\" # 클래스 변수\n",
        "    def __init__(self, addr):\n",
        "        self.addr = addr\n",
        "st1 = Student(\"신촌\");  st2 = Student(\"마포\")\n",
        "# 클래스 변수는 객체명.클래스변수\n",
        "#             클래스명.클래스 변수\n",
        "print(\"학교명 : {}\".format(st1.schoolName))\n",
        "print(\"학교명 : {}\".format(Student.schoolName))\n",
        "print(\"주소 : {}\".format(st1.addr)) # instance변수 객체명.변수명\n",
        "# print(\"주소 : {}\".format(Student.addr)) # 클애스명.변수로 사용 못함\n",
        "Student.schoolName = \"Korea\";  st1.addr = \"강남\"\n",
        "print(\"학교명 : {}\".format(st2.schoolName))\n",
        "print(\"학교명 : {}\".format(Student.schoolName))\n",
        "print(\"주소 : {}\".format(st2.addr))"
      ],
      "execution_count": 75,
      "outputs": [
        {
          "output_type": "stream",
          "text": [
            "학교명 : 한국\n",
            "학교명 : 한국\n",
            "주소 : 신촌\n",
            "학교명 : Korea\n",
            "학교명 : Korea\n",
            "주소 : 마포\n"
          ],
          "name": "stdout"
        }
      ]
    },
    {
      "cell_type": "code",
      "metadata": {
        "colab": {
          "base_uri": "https://localhost:8080/"
        },
        "id": "HF92HJrIUKy0",
        "outputId": "c79d52b9-5e40-4821-a126-e2f6b5be3b5c"
      },
      "source": [
        "class User:\n",
        "    def introduce(someone):\n",
        "        print(someone.name, someone.age)\n",
        "u1 = User(); u2 = User()\n",
        "u1.name = \"하니\";  u1.age = 12\n",
        "u2.name = \"다니엘\"; u2.age= 22\n",
        "# 메소드를 사용하는 방법\n",
        "User.introduce(u1);  User.introduce(u2)\n",
        "u1.introduce();      u2.introduce()"
      ],
      "execution_count": 76,
      "outputs": [
        {
          "output_type": "stream",
          "text": [
            "하니 12\n",
            "다니엘 22\n",
            "하니 12\n",
            "다니엘 22\n"
          ],
          "name": "stdout"
        }
      ]
    },
    {
      "cell_type": "code",
      "metadata": {
        "colab": {
          "base_uri": "https://localhost:8080/"
        },
        "id": "gzNMR3quUgFr",
        "outputId": "6e44010d-ae9f-4c69-b4c5-167047271a6e"
      },
      "source": [
        "class Person:\n",
        "    def __init__(self): # 전역변수/멤버변수\n",
        "        self.name = \"유미\"\n",
        "        self.age = 25\n",
        "        self.character = \"괴팍\"\n",
        "    def act_hobby(self):\n",
        "        print(\"침을 뱉는다\")\n",
        "        print(\"졸고 있다\")\n",
        "p1 = Person();     p2 = Person()\n",
        "print(p1.name);    print(p1.character); p1.act_hobby()\n",
        "p2.name = \"수미\";  print(p1.name); print(p2.name);\n",
        "print(p2.name, p2.age,p2.character)\n",
        "print(type(p1))"
      ],
      "execution_count": 77,
      "outputs": [
        {
          "output_type": "stream",
          "text": [
            "유미\n",
            "괴팍\n",
            "침을 뱉는다\n",
            "졸고 있다\n",
            "유미\n",
            "수미\n",
            "수미 25 괴팍\n",
            "<class '__main__.Person'>\n"
          ],
          "name": "stdout"
        }
      ]
    },
    {
      "cell_type": "code",
      "metadata": {
        "colab": {
          "base_uri": "https://localhost:8080/"
        },
        "id": "LB_wSqXiU7Xh",
        "outputId": "dfeee6bf-a379-425a-cfa8-7f6c94e0788a"
      },
      "source": [
        "class User:\n",
        "    pass\n",
        "# 멤버변수를 객체명.멤변변수로 사용하여 추가할 수 있음\n",
        "u1 = User()\n",
        "u1.name = \"혜리\"\n",
        "u1.age = 22\n",
        "u1.hobby = \"잔소리하기\"\n",
        "print(u1.name,u1.age, u1.hobby)\n",
        "u2 = User()\n",
        "# 추가된 멤버변수는 다른 객체에서 사용할 수 없다\n",
        "u2.name = \"강다니엘\"\n",
        "u2.hobby = \"영화보기\"\n",
        "print(u2.name, u2.hobby)"
      ],
      "execution_count": 79,
      "outputs": [
        {
          "output_type": "stream",
          "text": [
            "혜리 22 잔소리하기\n",
            "강다니엘 영화보기\n"
          ],
          "name": "stdout"
        }
      ]
    },
    {
      "cell_type": "code",
      "metadata": {
        "colab": {
          "base_uri": "https://localhost:8080/"
        },
        "id": "7d023f_gVLUB",
        "outputId": "636bfe56-ff14-4e8c-e42d-a95da541fcca"
      },
      "source": [
        "class Student:\n",
        "    def __init__(self, name = \"몰라\"):\n",
        "        self.__name = name\n",
        "    def set_name(self, name):\n",
        "        print('setter name 호출')\n",
        "        self.__name = name\n",
        "    def get_name(self):\n",
        "        print('getter name 호출')\n",
        "        return self.__name\n",
        "    def set_age(self, age):\n",
        "        if age < 0 :\n",
        "            print(\"나이는 양수야\")\n",
        "            self.__age = 0\n",
        "        else:\n",
        "            print('setter age 호출')\n",
        "            self.__age = age  # __의 의미는 private 안에서만 사용\n",
        "    def get_age(self):\n",
        "        print('getter age 호출')\n",
        "        return self.__age\n",
        "    age_get_set = property(get_age, set_age) # 순서는 get, set\n",
        "    name_get_set = property(fset=set_name, fget=get_name)\n",
        "st1 = Student('수미')\n",
        "print(st1.name_get_set)\n",
        "st1.name_get_set = '유미'\n",
        "print(st1.name_get_set)\n",
        "st1.age_get_set = -5\n",
        "print(st1.age_get_set)"
      ],
      "execution_count": 85,
      "outputs": [
        {
          "output_type": "stream",
          "text": [
            "getter name 호출\n",
            "수미\n",
            "setter name 호출\n",
            "getter name 호출\n",
            "유미\n",
            "나이는 양수야\n",
            "getter age 호출\n",
            "0\n"
          ],
          "name": "stdout"
        }
      ]
    },
    {
      "cell_type": "code",
      "metadata": {
        "id": "sWezCnTsVWbp"
      },
      "source": [
        ""
      ],
      "execution_count": null,
      "outputs": []
    }
  ]
}