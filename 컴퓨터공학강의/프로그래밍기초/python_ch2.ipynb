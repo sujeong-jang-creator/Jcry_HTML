{
 "cells": [
  {
   "cell_type": "code",
   "execution_count": null,
   "metadata": {
    "colab": {
     "base_uri": "https://localhost:8080/"
    },
    "id": "6E7u83oMIeER",
    "outputId": "da28dd50-9c17-4e79-abd4-c428c3cb8008"
   },
   "outputs": [
    {
     "name": "stdout",
     "output_type": "stream",
     "text": [
      "(3+4j)\n",
      "3\n",
      "4\n",
      "7\n"
     ]
    }
   ],
   "source": [
    "c = 3 + 4j\n",
    "print(c)\n",
    "a1 = 3\n",
    "a2 = 4\n",
    "print(a1)\n",
    "print(a2)\n",
    "print(a1+a2)"
   ]
  },
  {
   "cell_type": "code",
   "execution_count": null,
   "metadata": {
    "colab": {
     "base_uri": "https://localhost:8080/"
    },
    "id": "hMLYQ0AJTz-n",
    "outputId": "5c973fcd-eb59-439c-9fac-594c81972579"
   },
   "outputs": [
    {
     "name": "stdout",
     "output_type": "stream",
     "text": [
      "평균 : 70.0\n",
      "평균 : 70.0\n"
     ]
    }
   ],
   "source": [
    "kor = 80\n",
    "eng = 75\n",
    "math = 55\n",
    "print('평균 :',(kor + eng + math) / 3)\n",
    "score = {'kor':80,'eng':75,'math':55}\n",
    "sum = 0\n",
    "for sc in score.values():\n",
    "    sum += sc\n",
    "print('평균 :',sum/len(score))"
   ]
  },
  {
   "cell_type": "code",
   "execution_count": null,
   "metadata": {
    "colab": {
     "base_uri": "https://localhost:8080/"
    },
    "id": "3r27su0_RMbC",
    "outputId": "a671756c-973c-4714-e80c-7f02d271a04f"
   },
   "outputs": [
    {
     "name": "stdout",
     "output_type": "stream",
     "text": [
      "4.0\n",
      "67.0\n",
      "38998.0\n",
      "22\n"
     ]
    }
   ],
   "source": [
    "print(3*2 - 8/4)  # 6 - 2.0\n",
    "print(25*6/3+17)  # 50.0 + 17\n",
    "print(39021 - 276920/12040)\n",
    "print(26 - 10%6) # 26 - 4"
   ]
  },
  {
   "cell_type": "code",
   "execution_count": 1,
   "metadata": {
    "colab": {
     "base_uri": "https://localhost:8080/"
    },
    "id": "FtzleHhZROc4",
    "outputId": "fb10edce-a512-4f67-b540-12e2b474a5fd"
   },
   "outputs": [
    {
     "name": "stdout",
     "output_type": "stream",
     "text": [
      "13은 홀수\n"
     ]
    }
   ],
   "source": [
    "def isodd(num):\n",
    "    if num %2 ==  0:\n",
    "        print(\"{}은 짝수\".format(num))\n",
    "    else:\n",
    "        print(\"{}은 홀수\".format(num))\n",
    "isodd(13)"
   ]
  },
  {
   "cell_type": "code",
   "execution_count": null,
   "metadata": {
    "colab": {
     "base_uri": "https://localhost:8080/"
    },
    "id": "kOwUeh7OSG8D",
    "outputId": "70657f67-17e2-4074-96f9-b6b4da7b2f90"
   },
   "outputs": [
    {
     "name": "stdout",
     "output_type": "stream",
     "text": [
      "-24\n",
      "50.0\n",
      "28580.0\n",
      "14\n"
     ]
    }
   ],
   "source": [
    "print(12 - (5*7+1)) # 12 - 36\n",
    "print(5*(8+(10-6)/2))# 5*(8+4/2) = 5* 10.0\n",
    "print(48320 - ((365-5*9)/16)*987)\n",
    "print(((34-3*7)%5+4)*2) # (13%5 +4)*2 = (3+ 4)*2"
   ]
  },
  {
   "cell_type": "code",
   "execution_count": null,
   "metadata": {
    "colab": {
     "base_uri": "https://localhost:8080/"
    },
    "id": "HVLdJupfT6Sz",
    "outputId": "5ca927f0-e5e0-48d4-a562-dcc73246fd13"
   },
   "outputs": [
    {
     "name": "stdout",
     "output_type": "stream",
     "text": [
      "생년월일 : 881120\n",
      "주민번호 뒷자리 : 1068234\n"
     ]
    }
   ],
   "source": [
    "pin = \"881120-1068234\"\n",
    "birth = pin[:6]\n",
    "num = pin[7:]\n",
    "print('생년월일 :', birth)\n",
    "print('주민번호 뒷자리 :',num)"
   ]
  },
  {
   "cell_type": "code",
   "execution_count": null,
   "metadata": {
    "colab": {
     "base_uri": "https://localhost:8080/"
    },
    "id": "ctrtnEOsT9CQ",
    "outputId": "3201df0d-c46e-4172-efc2-d29a0147cc46"
   },
   "outputs": [
    {
     "name": "stdout",
     "output_type": "stream",
     "text": [
      "이름은 철수 나이는 14살\n",
      "철수's house\n",
      "철수's house\n",
      "왜그래왜그래왜그래왜그래왜그래왜그래왜그래왜그래왜그래왜그래\n",
      "나는\n",
      "철수\n",
      "입니다\n",
      "나는\n",
      "철수\n",
      "입니다\n",
      "나는\n",
      "철수\n",
      "입니다\n",
      "이건뭐야 김건모모야\n"
     ]
    }
   ],
   "source": [
    "# 이름은 철수 나이는 +14+살  형식으로 출력\n",
    "print(\"이름은 철수 나이는 \"+str(14)+\"살\")\n",
    "# 철수's house\n",
    "print(\"철수's house\")\n",
    "print('철수\\'s house')\n",
    "# 왜그래 를 10회 출력\n",
    "print(\"왜그래\"*10)\n",
    "# 나는\n",
    "# 철수\n",
    "# 입니다\n",
    "print(\"나는\\n철수\\n입니다\")\n",
    "a1 = \"\"\"나는\n",
    "철수\n",
    "입니다\"\"\"\n",
    "print(a1)\n",
    "a2 = '''나는\n",
    "철수\n",
    "입니다'''\n",
    "print(a2)\n",
    "# print(이건뭐야)\n",
    "# Print(김건모모야) 를 이건뭐야 김건모야로 출력\n",
    "print(\"이건뭐야\",end=\" \")\n",
    "print(\"김건모모야\")"
   ]
  },
  {
   "cell_type": "code",
   "execution_count": 1,
   "metadata": {
    "colab": {
     "base_uri": "https://localhost:8080/"
    },
    "executionInfo": {
     "elapsed": 6,
     "status": "ok",
     "timestamp": 1636685729883,
     "user": {
      "displayName": "­강승현",
      "photoUrl": "https://lh3.googleusercontent.com/a/default-user=s64",
      "userId": "06725088215234315555"
     },
     "user_tz": -540
    },
    "id": "_QfYLA43T-Rc",
    "outputId": "607f17bd-5fcc-47d1-93b0-970a8929acf4"
   },
   "outputs": [
    {
     "name": "stdout",
     "output_type": "stream",
     "text": [
      "2000이전에 출생한 남자\n"
     ]
    }
   ],
   "source": [
    "pin = \"881120-1068234\"\n",
    "def jumin(pin):\n",
    "    kind = int(pin[7])  # 문자를 정수로 변경해야 비교 가능\n",
    "    if kind == 1:     print(\"2000이전에 출생한 남자\")\n",
    "    elif kind == 2:   print(\"2000이전에 출생한 여자\")\n",
    "    elif kind == 3:   print(\"2000이후에 출생한 남자\")\n",
    "    elif kind == 4:   print(\"2000이후에 출생한 여자\")\n",
    "    elif kind == 5:   print(\"2000이전에 출생한 외국인 남자\")\n",
    "    elif kind == 6:   print(\"2000이전에 출생한 외국인 여자\")\n",
    "    elif kind == 7:   print(\"2000이후에 출생한 외국인 남자\")\n",
    "    elif kind == 8:   print(\"2000이후에 출생한 외국인 여자\")\n",
    "    else:     print(\"외계인\")\n",
    "jumin(pin)"
   ]
  },
  {
   "cell_type": "code",
   "execution_count": null,
   "metadata": {
    "colab": {
     "base_uri": "https://localhost:8080/"
    },
    "id": "50mgHSeBT_0r",
    "outputId": "a1e01c31-fa89-4746-c2ba-0b1acedd0658"
   },
   "outputs": [
    {
     "name": "stdout",
     "output_type": "stream",
     "text": [
      "우리\n",
      "친구\n"
     ]
    }
   ],
   "source": [
    "string = \"우리 둘이 있을 때는 두려움이 없었다 친구\"\n",
    "# 우리\n",
    "print(string[:2])\n",
    "# 친구\n",
    "print(string[-2:])"
   ]
  },
  {
   "cell_type": "code",
   "execution_count": null,
   "metadata": {
    "colab": {
     "base_uri": "https://localhost:8080/"
    },
    "id": "Q4SiqHRKUBa6",
    "outputId": "370182bb-7d6b-4a84-bb0a-40b932af1dce"
   },
   "outputs": [
    {
     "name": "stdout",
     "output_type": "stream",
     "text": [
      "a#b#c#d\n"
     ]
    }
   ],
   "source": [
    "a = \"a:b:c:d\"\n",
    "print(a.replace(\":\",'#'))"
   ]
  },
  {
   "cell_type": "code",
   "execution_count": null,
   "metadata": {
    "colab": {
     "base_uri": "https://localhost:8080/"
    },
    "id": "SUnz1vcrUDam",
    "outputId": "f6eccfc1-bea4-4cd6-e058-5466a0899d1b"
   },
   "outputs": [
    {
     "name": "stdout",
     "output_type": "stream",
     "text": [
      "Python\n"
     ]
    }
   ],
   "source": [
    "s = \"Pithon\"\n",
    "# Python로 변경하여 출력\n",
    "print(s[0]+'y'+s[2:])"
   ]
  },
  {
   "cell_type": "code",
   "execution_count": null,
   "metadata": {
    "colab": {
     "base_uri": "https://localhost:8080/"
    },
    "id": "2sS3x9_dUE-l",
    "outputId": "1a6821e5-a1e5-4f77-dfe6-84745148cb7b"
   },
   "outputs": [
    {
     "name": "stdout",
     "output_type": "stream",
     "text": [
      "[5, 4, 3, 2, 1]\n"
     ]
    }
   ],
   "source": [
    "a1 = [1, 3, 5, 4, 2]\n",
    "print(sorted(a1, reverse=True))"
   ]
  },
  {
   "cell_type": "code",
   "execution_count": null,
   "metadata": {
    "colab": {
     "base_uri": "https://localhost:8080/"
    },
    "id": "dzhlUKLFUIgk",
    "outputId": "279465b5-6e6e-4a50-d264-5ca3c0b5836d"
   },
   "outputs": [
    {
     "name": "stdout",
     "output_type": "stream",
     "text": [
      "안녕 컴 동지\n",
      "['사과', ' 복숭아', ' 배', ' 딸기']\n",
      "HI, FRIEND\n",
      "hi, friend\n"
     ]
    }
   ],
   "source": [
    "a1 = \"안녕 친구\"\n",
    "a2 = a1.replace(\"친구\", \"컴 동지\")\n",
    "print(a2)\n",
    "b1 = \"사과. 복숭아. 배. 딸기\"\n",
    "b2 = b1.split('.')\n",
    "print(b2)\n",
    "c1 = 'Hi, Friend'\n",
    "c2 = c1.upper()\n",
    "print(c2)\n",
    "# 소문자로 변경\n",
    "print(c2.lower())\n"
   ]
  },
  {
   "cell_type": "code",
   "execution_count": null,
   "metadata": {
    "colab": {
     "base_uri": "https://localhost:8080/"
    },
    "id": "vSZq2hLHUNUG",
    "outputId": "200d704c-672e-416a-9dd3-7b3835bb6e3d"
   },
   "outputs": [
    {
     "name": "stdout",
     "output_type": "stream",
     "text": [
      "10 + 4 = 14\n",
      "10 - 4 = 6\n",
      "10 * 4 = 40\n",
      "10 / 4 = 2.5\n"
     ]
    }
   ],
   "source": [
    "a1 = 10\n",
    "a2 = 4\n",
    "# a1 + a2 =\n",
    "# a1 - a2 =\n",
    "# a1 * a2 =\n",
    "# a1 / a2 =\n",
    "print(\"{} + {} = {}\".format(a1,a2,a1+a2))\n",
    "print(\"{} - {} = {}\".format(a1,a2,a1-a2))\n",
    "print(\"{} * {} = {}\".format(a1,a2,a1*a2))\n",
    "print(\"{} / {} = {}\".format(a1,a2,a1/a2))\n"
   ]
  },
  {
   "cell_type": "code",
   "execution_count": null,
   "metadata": {
    "colab": {
     "base_uri": "https://localhost:8080/"
    },
    "id": "VwIb4qq4UQ7L",
    "outputId": "5b89d7fa-4fd7-43cc-fb66-b73bd67ea16f"
   },
   "outputs": [
    {
     "name": "stdout",
     "output_type": "stream",
     "text": [
      "{}\n",
      "{'name': 'python'}\n",
      "{'name': 'python', ('a',): 'python'}\n",
      "{'name': 'python', ('a',): 'python', 'python': [1, 2]}\n",
      "{'name': 'python', ('a',): 'python', 'python': [1, 2], 250: 'python'}\n"
     ]
    }
   ],
   "source": [
    "a = dict()  # 키 : 값 키는 변경할 수 없음\n",
    "print(a)\n",
    "a['name'] = 'python';\n",
    "print(a)\n",
    "a[('a',)] = 'python';\n",
    "print(a)\n",
    "# a[[1]] = 'python' # key가 리스트이므로 변경 가능\n",
    "# print(type(a))\n",
    "a['python'] = [1,2]\n",
    "print(a)\n",
    "a[250] = 'python'\n",
    "print(a)"
   ]
  },
  {
   "cell_type": "code",
   "execution_count": null,
   "metadata": {
    "colab": {
     "base_uri": "https://localhost:8080/"
    },
    "id": "55oMP_8DUS8I",
    "outputId": "80352a6b-6794-4b35-a82c-80ce6544e449"
   },
   "outputs": [
    {
     "name": "stdout",
     "output_type": "stream",
     "text": [
      "첫번째 수를 입력하시오\n",
      "2\n",
      "두번째 수를 입력하시오\n",
      "3\n",
      "2 + 3 = 5\n",
      "2 - 3 = -1\n",
      "2 * 3 = 6\n",
      "2 / 3 = 0.6666666666666666\n"
     ]
    }
   ],
   "source": [
    "# 두수를 입력 받아서 4칙연산 출력\n",
    "print(\"첫번째 수를 입력하시오\")\n",
    "num1 = input()\n",
    "print(\"두번째 수를 입력하시오\")\n",
    "num2 = input()\n",
    "# input과 format사용\n",
    "print(\"{} + {} = {}\".format(num1,num2,int(num1)+int(num2)))\n",
    "print(\"{} - {} = {}\".format(num1,num2,int(num1)-int(num2)))\n",
    "print(\"{} * {} = {}\".format(num1,num2,int(num1)*int(num2)))\n",
    "print(\"{} / {} = {}\".format(num1,num2,int(num1)/int(num2)))"
   ]
  },
  {
   "cell_type": "code",
   "execution_count": null,
   "metadata": {
    "colab": {
     "base_uri": "https://localhost:8080/"
    },
    "id": "K2rWlaLaUVdl",
    "outputId": "5033fd6c-c261-47f3-a7a9-2cea3e64a6a3"
   },
   "outputs": [
    {
     "name": "stdout",
     "output_type": "stream",
     "text": [
      "80\n",
      "80\n"
     ]
    }
   ],
   "source": [
    "a = {'A': 90, 'B': 80, 'C': 70}\n",
    "print(a['B'])\n",
    "print(a.get('B'))"
   ]
  },
  {
   "cell_type": "code",
   "execution_count": 2,
   "metadata": {
    "colab": {
     "base_uri": "https://localhost:8080/"
    },
    "id": "jxF9o3h9UYSn",
    "outputId": "b4e3dab7-8967-47cb-df20-303047afa457"
   },
   "outputs": [
    {
     "name": "stdout",
     "output_type": "stream",
     "text": [
      "12 + 3.57 = 15.57 성공\n",
      "12 - 3.57 = 8.43 성공\n",
      "12 * 3.57 = 42.80 성공\n",
      "12 / 3.57 = 3.36 성공\n"
     ]
    }
   ],
   "source": [
    "num1 = 12; num2= 3.567;  s1 = \"성공\"\n",
    "# 4칙 연산한 결과를 출력\n",
    "print(\"%d + %0.2f = %0.2f %s\" % (num1, num2, num1+num2, s1))\n",
    "print(\"%d - %0.2f = %0.2f %s\" % (num1, num2, num1-num2, s1))\n",
    "print(\"%d * %0.2f = %0.2f %s\" % (num1, num2, num1*num2, s1))\n",
    "print(\"%d / %0.2f = %0.2f %s\" % (num1, num2, num1/num2, s1))"
   ]
  },
  {
   "cell_type": "code",
   "execution_count": null,
   "metadata": {
    "colab": {
     "base_uri": "https://localhost:8080/"
    },
    "id": "fOPdgEQWUaut",
    "outputId": "a4c27c0e-3ab1-4246-adf2-4ab09e4dba26"
   },
   "outputs": [
    {
     "name": "stdout",
     "output_type": "stream",
     "text": [
      "[1, 2, 3, 4, 5]\n"
     ]
    }
   ],
   "source": [
    "a = [1, 1, 1, 2, 2, 3, 3, 3, 4, 4, 5]\n",
    "# a를 set에 넣으면 중복제거\n",
    "# 중복제[거된 것을 리스트에 넣어서 생성\n",
    "print(list(set(a)))"
   ]
  },
  {
   "cell_type": "code",
   "execution_count": null,
   "metadata": {
    "colab": {
     "base_uri": "https://localhost:8080/"
    },
    "id": "Ria7g4uYUcbc",
    "outputId": "892d0289-7d6d-4fb7-d0bb-b411319a6b47"
   },
   "outputs": [
    {
     "name": "stdout",
     "output_type": "stream",
     "text": [
      "'응답하라 1988'은 많은 시청자들에게 사랑을 받은 드라마에요.\n",
      "'응답하라 1988'은 많은 시청자들에게 사랑을 받은 드라마에요.\n",
      "데카르트는 \"나는 생각한다. 고로 존재한다.\"라고 말했다\n",
      "데카르트는 \"나는 생각한다. 고로 존재한다.\"라고 말했다\n"
     ]
    }
   ],
   "source": [
    "# '응답하라 1988'은 많은 시청자들에게 사랑을 받은 드라마에요.\n",
    "# 데카르트는 \"나는 생각한다. 고로 존재한다.\"라고 말했다\n",
    "print(\"'응답하라 1988'은 많은 시청자들에게 사랑을 받은 드라마에요.\")\n",
    "print('\\'응답하라 1988\\'은 많은 시청자들에게 사랑을 받은 드라마에요.')\n",
    "print('데카르트는 \"나는 생각한다. 고로 존재한다.\"라고 말했다')\n",
    "print(\"데카르트는 \\\"나는 생각한다. 고로 존재한다.\\\"라고 말했다\")"
   ]
  },
  {
   "cell_type": "code",
   "execution_count": null,
   "metadata": {
    "colab": {
     "base_uri": "https://localhost:8080/"
    },
    "id": "1PYPHrneUeIe",
    "outputId": "7c6b81c9-3104-47a9-cf4f-7c0d5924b85f"
   },
   "outputs": [
    {
     "name": "stdout",
     "output_type": "stream",
     "text": [
      "[1, 4, 3] [1, 4, 3]\n",
      "4 5\n"
     ]
    }
   ],
   "source": [
    "# [1,2,3]의 리스트 값을 b에 저장(주소값과 실제 데이터 저장 위치가 다름)\n",
    "# 리스트(참조변수)를 저장하면 주소값을 보내준다 call by reference\n",
    "# a = b는 b의 주소값을 a에 전달\n",
    "a = b = [1, 2, 3]\n",
    "a[1] = 4\n",
    "print(b, a)\n",
    "a1 = b1 = 4 # 기본형은 b1에 있는 데이터를 a1에 전달 call by value\n",
    "b1 = 5\n",
    "print(a1, b1)"
   ]
  },
  {
   "cell_type": "code",
   "execution_count": null,
   "metadata": {
    "colab": {
     "base_uri": "https://localhost:8080/"
    },
    "id": "yKGTHqnPUfgk",
    "outputId": "12a9bdf8-d03f-4a5d-965a-3fb0fb949de2"
   },
   "outputs": [
    {
     "name": "stdout",
     "output_type": "stream",
     "text": [
      "오늘은 2016년 12월 25일 일요일입니다\n",
      "오늘은 2016년 12월 25일 일요일입니다\n",
      "오늘은 2016년 12월 25일 일요일입니다\n"
     ]
    }
   ],
   "source": [
    "# 오늘은 2016년 12월 25일 일요일입니다\n",
    "year = 2016\n",
    "month = 12\n",
    "day = 25\n",
    "week = \"일요일\"\n",
    "# 숫자를 문자로 변환\n",
    "print(\"오늘은 \"+str(year)+\"년 \"+str(month)+\"월 \"+str(day)+\"일 \"+week+\"입니다\")\n",
    "# format를 사용\n",
    "print(\"오늘은 {}년 {}월 {}일 {}입니다\".format(year,month,day,week))\n",
    "# %사용하는 방법\n",
    "print(\"오늘은 %d년 %d월 %d일 %s입니다\" % (year,month,day,week))"
   ]
  },
  {
   "cell_type": "code",
   "execution_count": 5,
   "metadata": {
    "colab": {
     "base_uri": "https://localhost:8080/"
    },
    "id": "3dORv5mKUhS7",
    "outputId": "6ac86904-ad7c-42ce-ae51-944b050d5a0b"
   },
   "outputs": [
    {
     "name": "stdout",
     "output_type": "stream",
     "text": [
      "와우 다음시간이 점심         \n",
      "         와우 다음시간이 점심\n",
      "    와우 다음시간이 점심     \n",
      "와우 다음시간이 점심!!!!!!!!!\n",
      "!!!!!!!!!와우 다음시간이 점심\n",
      "!!!!와우 다음시간이 점심!!!!!\n",
      "45%\n",
      "45%\n",
      "2.46\n"
     ]
    }
   ],
   "source": [
    "str = \"와우 다음시간이 점심\"\n",
    "# 20칸 확보 왼쪽, 오른쪽 중앙\n",
    "print(\"{0:<20}\".format(str))\n",
    "print(\"{0:>20}\".format(str))\n",
    "print(\"{0:^20}\".format(str))\n",
    "# 위와 같은데 빈칸 !를 채우기\n",
    "print(\"{0:!<20}\".format(str))\n",
    "print(\"{0:!>20}\".format(str))\n",
    "print(\"{0:!^20}\".format(str))\n",
    "# 45%입니다 출력\n",
    "print(\"%d%%\" % (45))\n",
    "print(\"{}%\".format(45))\n",
    "# 2.4567을 소숫점 2자리 출력 format사용\n",
    "print(\"{0:.2f}\".format(2.4567))"
   ]
  },
  {
   "cell_type": "code",
   "execution_count": 6,
   "metadata": {},
   "outputs": [
    {
     "name": "stdout",
     "output_type": "stream",
     "text": [
      "와우 다음시간이 점심         \n",
      "         와우 다음시간이 점심\n"
     ]
    }
   ],
   "source": [
    "str = \"와우 다음시간이 점심\"\n",
    "print(\"{0:<20}\".format(str))\n",
    "print(\"{0:>20}\".format(str))"
   ]
  },
  {
   "cell_type": "code",
   "execution_count": null,
   "metadata": {
    "colab": {
     "base_uri": "https://localhost:8080/"
    },
    "id": "QVKf5dfqUiuV",
    "outputId": "5b147cd3-136e-4120-b894-2b809e200b1d"
   },
   "outputs": [
    {
     "name": "stdout",
     "output_type": "stream",
     "text": [
      "오늘은 11월 1일 @@금요일@@@입니다\n"
     ]
    }
   ],
   "source": [
    "week = \"금요일\"\n",
    "month = 11\n",
    "day = 1\n",
    "# 오늘은 xx월 xx일 xxx입니다 f를 사용하여 출력\n",
    "# 요일은 8칸 확보 중앙에 배치 앞뒤에 @표시\n",
    "print(f'오늘은 {month}월 {day}일 {week:@^8}입니다')\n"
   ]
  },
  {
   "cell_type": "code",
   "execution_count": 2,
   "metadata": {
    "colab": {
     "base_uri": "https://localhost:8080/"
    },
    "executionInfo": {
     "elapsed": 545,
     "status": "ok",
     "timestamp": 1636685769194,
     "user": {
      "displayName": "­강승현",
      "photoUrl": "https://lh3.googleusercontent.com/a/default-user=s64",
      "userId": "06725088215234315555"
     },
     "user_tz": -540
    },
    "id": "oelaCuYYU3UC",
    "outputId": "82f8e6c7-8e4b-4905-b1cd-9d864eb80337"
   },
   "outputs": [
    {
     "name": "stdout",
     "output_type": "stream",
     "text": [
      "1시간에 5달러 벌었습니다.\n",
      "1시간에 5달러 벌었습니다.\n",
      "5시간에 25달러 벌었습니다.\n",
      "5시간에 25달러 벌었습니다.\n",
      "1시간에 5710.8원 벌었습니다.\n",
      "1시간에 5710.8원 벌었습니다.\n",
      "5시간에 28554.0원 벌었습니다.\n",
      "5시간에 28554.0원 벌었습니다.\n"
     ]
    }
   ],
   "source": [
    "wage = 5                  # 시급 (1 시간에 5 달러 )\n",
    "exchange_rate = 1142.16   # 환율 (1 달러에 1142.16 원 )\n",
    "# 1시간에 5달러 벌었습니다.\n",
    "print(\"{}시간에 {}{} 벌었습니다.\".format(1,wage,\"달러\" ))\n",
    "print(f'{1}시간에 {wage}{\"달러\"} 벌었습니다.')\n",
    "# 5시간에 25달러 벌었습니다.\n",
    "print(\"{}시간에 {}{} 벌었습니다.\".format(5,wage*5,\"달러\" ))\n",
    "print(f'{5}시간에 {wage*5}{\"달러\"} 벌었습니다.')\n",
    "# 1시간에 5710.8원 벌었습니다.\n",
    "print(\"{}시간에 {}{} 벌었습니다.\".format(1,wage*exchange_rate,\"원\" ))\n",
    "print(f'{1}시간에 {wage*exchange_rate}{\"원\"} 벌었습니다.')\n",
    "# 5시간에 28554.0원 벌었습니다.\n",
    "print(\"{}시간에 {}{} 벌었습니다.\".format(5,wage*exchange_rate*5,\"원\" ))\n",
    "print(f'{5}시간에 {wage*exchange_rate*5}{\"원\"} 벌었습니다.')"
   ]
  },
  {
   "cell_type": "code",
   "execution_count": null,
   "metadata": {
    "colab": {
     "base_uri": "https://localhost:8080/"
    },
    "id": "s8yOstjNU-sf",
    "outputId": "620fb7d7-b38c-4800-e667-595bcd3b5f89"
   },
   "outputs": [
    {
     "name": "stdout",
     "output_type": "stream",
     "text": [
      "1.55\n",
      "1.5\n",
      "4.2\n",
      "2.0\n",
      "0.5\n",
      "2.25\n"
     ]
    }
   ],
   "source": [
    "a = 1.23 + 0.32\n",
    "print(a)\n",
    "b = 3.0 - 1.5\n",
    "print(b)\n",
    "c = 2.1 * 2.0\n",
    "print(c)\n",
    "d = 4.5//2.0\n",
    "print(d)\n",
    "e = 4.5%2.0\n",
    "print(e)\n",
    "f = 4.5/2.0\n",
    "print(f)"
   ]
  },
  {
   "cell_type": "code",
   "execution_count": null,
   "metadata": {
    "colab": {
     "base_uri": "https://localhost:8080/"
    },
    "id": "elo8CQqMVBGj",
    "outputId": "72ad10bf-6249-4f89-a5c8-79bfd397e1cb"
   },
   "outputs": [
    {
     "name": "stdout",
     "output_type": "stream",
     "text": [
      "대박 사건 뭔 소리 그냥 몇살이니 ? 12\n",
      "대박 그냥 뭔 소리 12 몇살이니 ? 사건\n",
      "이름:소희, 나이:22\n",
      "철수 시급:2000, 일당:10000\n",
      "철수 시급:2000, 일당:20000\n"
     ]
    }
   ],
   "source": [
    "print(\"대박 {} 뭔 소리 {} 몇살이니 ? {}\".format('사건','그냥', 12))\n",
    "print(\"대박 {1} 뭔 소리 {2} 몇살이니 ? {0}\".format('사건','그냥', 12))\n",
    "print(\"이름:{name}, 나이:{age}\".format(name=\"소희\",age=22))\n",
    "# 시급 2000원 5시간 일하면 10시간\n",
    "moneyPerHour = 2000\n",
    "workTime1 = 5\n",
    "workTime2 = 10\n",
    "print(\"철수 시급:{}, 일당:{}\".format(moneyPerHour,moneyPerHour*workTime1))\n",
    "print(\"철수 시급:{}, 일당:{}\".format(moneyPerHour,moneyPerHour*workTime2))\n"
   ]
  },
  {
   "cell_type": "code",
   "execution_count": null,
   "metadata": {
    "colab": {
     "base_uri": "https://localhost:8080/"
    },
    "id": "h7s4d32YVCwE",
    "outputId": "cf41ed2b-f860-4dab-9c7d-d29d8c11ec3c"
   },
   "outputs": [
    {
     "name": "stdout",
     "output_type": "stream",
     "text": [
      "{ and }\n",
      "{ and }\n",
      "블랙핑크은 23살 입니다\n",
      "블랙핑크은 24살 입니다\n",
      "이름은 제니이고 나이는 25입니다\n",
      "블랙핑크    은 23살 입니다\n",
      "    블랙핑크은 24살 입니다\n",
      "  블랙핑크  은 24살 입니다\n",
      "블랙핑크!!!!은 23살 입니다\n",
      "@@@@블랙핑크은 24살 입니다\n",
      "##블랙핑크##은 24살 입니다\n",
      "2.57\n",
      "{2.5678}\n"
     ]
    }
   ],
   "source": [
    "# {{를 사용하면 {\n",
    "print(\"{{ and }}\".format())\n",
    "print(\"{{ {} }}\".format('and'))\n",
    "# python 3.6에 추가된 기능 f\n",
    "name=\"블랙핑크\"\n",
    "age=23\n",
    "print(f'{name}은 {age}살 입니다')\n",
    "print(f'{name}은 {age+1}살 입니다')\n",
    "d = {'name':\"제니\", \"age\":25}\n",
    "print(f'이름은 {d[\"name\"]}이고 나이는 {d[\"age\"]}입니다')\n",
    "print(f'{name:<8}은 {age}살 입니다')\n",
    "print(f'{name:>8}은 {age+1}살 입니다')\n",
    "print(f'{name:^8}은 {age+1}살 입니다')\n",
    "print(f'{name:!<8}은 {age}살 입니다')\n",
    "print(f'{name:@>8}은 {age+1}살 입니다')\n",
    "print(f'{name:#^8}은 {age+1}살 입니다')\n",
    "y = 2.5678\n",
    "print(f'{y:.2f}')\n",
    "print(f'{{{y}}}')"
   ]
  },
  {
   "cell_type": "code",
   "execution_count": null,
   "metadata": {
    "colab": {
     "base_uri": "https://localhost:8080/"
    },
    "id": "lcUHYJ_rVGHq",
    "outputId": "f2193a1b-d944-4054-b886-923d261c549e"
   },
   "outputs": [
    {
     "name": "stdout",
     "output_type": "stream",
     "text": [
      "1\n",
      "1/2\n"
     ]
    }
   ],
   "source": [
    "from fractions import Fraction\n",
    "# from 패키지, 모듈 import Fraction 클래스, 함수\n",
    "a1 = Fraction(\"2/5\") + Fraction(\"3/5\")\n",
    "a2 = Fraction(2, 6) + Fraction(1, 6)\n",
    "print(a1)\n",
    "print(a2)\n"
   ]
  },
  {
   "cell_type": "code",
   "execution_count": null,
   "metadata": {
    "colab": {
     "base_uri": "https://localhost:8080/"
    },
    "id": "RMRILf_BVHp7",
    "outputId": "14b4aa59-c1c7-4352-b11f-6b5a2698028d"
   },
   "outputs": [
    {
     "name": "stdout",
     "output_type": "stream",
     "text": [
      "True\n",
      "False\n",
      "12\n"
     ]
    }
   ],
   "source": [
    "string = \"Good Morning\"\n",
    "# n은 문자열에 포함되어 있는지 검사\n",
    "print(\"o\" in string)\n",
    "print(\"m\" in string)\n",
    "# len은 문자열의 길이\n",
    "print(len(string))"
   ]
  },
  {
   "cell_type": "code",
   "execution_count": null,
   "metadata": {
    "colab": {
     "base_uri": "https://localhost:8080/"
    },
    "id": "-loI2P4TVJQu",
    "outputId": "b5b58ec4-8e97-44e8-d507-9b730515378c"
   },
   "outputs": [
    {
     "name": "stdout",
     "output_type": "stream",
     "text": [
      "L\n",
      "e\n",
      "n\n",
      "h\n",
      "Life\n",
      "Life\n",
      "You\n",
      "is short\n",
      "Life\n",
      " is too short, You need Python\n"
     ]
    }
   ],
   "source": [
    "#    0123456789012345678901234567890123\n",
    "a = \"Life is too short, You need Python\"\n",
    "# index 문자의 순서이고 0부터 시작\n",
    "print(a[0])\n",
    "print(a[3])  # 양수는 앞에 부터\n",
    "print(a[-1])  # -는 뒤부터\n",
    "print(a[-3])\n",
    "print(a[0]+a[1]+a[2]+a[3])\n",
    "print(a[0:4])\n",
    "print(a[19:22])\n",
    "print(a[5:7],a[12:17])\n",
    "# 처음부터 index 4번 앞에 까지, 처음부터 pointer 4번까지\n",
    "print(a[:4])\n",
    "print(a[4:]) # pointer 4번부터 끝까지"
   ]
  },
  {
   "cell_type": "code",
   "execution_count": null,
   "metadata": {
    "colab": {
     "base_uri": "https://localhost:8080/"
    },
    "id": "09FDnhRIVOFV",
    "outputId": "69348610-e275-46a7-9f0b-742816380488"
   },
   "outputs": [
    {
     "name": "stdout",
     "output_type": "stream",
     "text": [
      "20010331\n",
      "Rainy\n",
      "2001\n",
      "03\n",
      "31\n"
     ]
    }
   ],
   "source": [
    "#    0123456789012\n",
    "a = \"20010331Rainy\"\n",
    "print(a[:8])\n",
    "print(a[8:])\n",
    "# 년도\n",
    "print(a[:4])\n",
    "# 월\n",
    "print(a[4:6])\n",
    "# 일\n",
    "print(a[6:8])"
   ]
  },
  {
   "cell_type": "code",
   "execution_count": null,
   "metadata": {
    "colab": {
     "base_uri": "https://localhost:8080/"
    },
    "id": "9yukRd72VPtc",
    "outputId": "eb49ba95-ddce-4a38-aa5a-c54b160b6b97"
   },
   "outputs": [
    {
     "name": "stdout",
     "output_type": "stream",
     "text": [
      "정수를 입력하세요\n",
      "2\n",
      "정수를 입력하세요\n",
      "3\n",
      "2 + 3 = 23\n",
      "2 + 3 = 5\n",
      "3.4\n",
      "4\n"
     ]
    }
   ],
   "source": [
    "print('정수를 입력하세요')\n",
    "# input은 콘솔로 부터 데이터 입력 받는다\n",
    "num1 = input() # 입력된 것은 문자로 인식\n",
    "print('정수를 입력하세요')\n",
    "num2 = input()\n",
    "print(\"{} + {} = {}\".format(num1,num2,num1+num2))\n",
    "print(\"{} + {} = {}\".format(num1,num2,int(num1)+int(num2)))\n",
    "# 실수로 된 문자열은 int변환 할 수 없다\n",
    "print(float('3.4'))\n",
    "print(int(4.3))"
   ]
  },
  {
   "cell_type": "code",
   "execution_count": null,
   "metadata": {
    "colab": {
     "base_uri": "https://localhost:8080/"
    },
    "id": "2eTXy5kAVRQL",
    "outputId": "b9ea3ab2-19a3-4f06-d69f-5724d1ac9fad"
   },
   "outputs": [
    {
     "name": "stdout",
     "output_type": "stream",
     "text": [
      "a1 + a3 = 27\n",
      "sys.float_info(max=1.7976931348623157e+308, max_exp=1024, max_10_exp=308, min=2.2250738585072014e-308, min_exp=-1021, min_10_exp=-307, dig=15, mant_dig=53, epsilon=2.220446049250313e-16, radix=2, rounds=1)\n",
      "1.7142857142857142\n",
      "9223372036854775807\n",
      "1.714285e-15\n",
      "0.0023\n",
      "1.232723723723723\n"
     ]
    }
   ],
   "source": [
    "import sys\n",
    "a1 = int('23')    # 정수 23\n",
    "# a2 = int('3.4') # 실수형 문자는 int변경 못함\n",
    "a3 = int(4.5)     # 정수 4 소숫점 이하는 버림\n",
    "print('a1 + a3 =',a1+a3)\n",
    "print(sys.float_info)\n",
    "print(12/7) # 소숫점 15자리 보여줌\n",
    "print(sys.maxsize)\n",
    "print(1.714285e-15)\n",
    "print(2.3e-3)\n",
    "print(1.232723723723723)"
   ]
  },
  {
   "cell_type": "code",
   "execution_count": null,
   "metadata": {
    "colab": {
     "base_uri": "https://localhost:8080/"
    },
    "id": "HkvOVzrkVUgO",
    "outputId": "9018351d-850d-4243-e221-0c4cba940fb3"
   },
   "outputs": [
    {
     "name": "stdout",
     "output_type": "stream",
     "text": [
      "True\n",
      "False\n",
      "True\n",
      "True\n",
      "True\n",
      "True\n",
      "True\n",
      "True\n"
     ]
    }
   ],
   "source": [
    "print(\"abcd\".isalpha())     # 알파벳 확인 대/소 문자 구분 안함\n",
    "print('abcd1234'.isalpha())\n",
    "print('1234'.isnumeric())  # 숫자 확인\n",
    "print(\"abcd\".isalpha())\n",
    "print('abcd1234'.isalnum()) # 알파벳,숫자, 혼용\n",
    "print('1234'.isalnum())\n",
    "print(\"abcd\".isalnum())\n",
    "print('abcd1234'.isalnum())\n"
   ]
  },
  {
   "cell_type": "code",
   "execution_count": null,
   "metadata": {
    "colab": {
     "base_uri": "https://localhost:8080/"
    },
    "id": "l05NF5PtVWh2",
    "outputId": "84a83181-93cd-4e8f-adf4-444f27af55a9"
   },
   "outputs": [
    {
     "name": "stdout",
     "output_type": "stream",
     "text": [
      "a,b,c,d\n",
      "a.b.c.d\n"
     ]
    }
   ],
   "source": [
    "print(','.join('abcd'))\n",
    "print('.'.join(['a','b','c','d']))"
   ]
  },
  {
   "cell_type": "code",
   "execution_count": null,
   "metadata": {
    "colab": {
     "base_uri": "https://localhost:8080/"
    },
    "id": "6VImzV5ZVY1d",
    "outputId": "923d6a5e-71a8-4659-d596-541d023eb396"
   },
   "outputs": [
    {
     "name": "stdout",
     "output_type": "stream",
     "text": [
      "12300000.0\n",
      "0.123\n",
      "10\n",
      "18\n",
      "12\n",
      "3\n"
     ]
    }
   ],
   "source": [
    "print(1.23e7)\n",
    "print(123e-3)\n",
    "print(0o12)\n",
    "print(0x12)\n",
    "print(12)\n",
    "print(0b11)"
   ]
  },
  {
   "cell_type": "code",
   "execution_count": null,
   "metadata": {
    "colab": {
     "base_uri": "https://localhost:8080/"
    },
    "id": "NMLqxzZQVnQa",
    "outputId": "5c65f870-e41e-47a6-aefa-89655b931037"
   },
   "outputs": [
    {
     "name": "stdout",
     "output_type": "stream",
     "text": [
      "3\n",
      "44334\n",
      "8948595980598068906896896896489\n",
      "-3\n",
      "-2389723873483473487483784739\n",
      "<class 'int'>\n",
      "<class 'int'>\n",
      "<class 'str'>\n",
      "<class 'str'>\n"
     ]
    }
   ],
   "source": [
    "a1 = 3\n",
    "a2 = 44334\n",
    "a3 = 8948595980598068906896896896489\n",
    "print(a1); print(a2); print(a3);\n",
    "b1 = -3\n",
    "b2 = -2389723873483473487483784739\n",
    "print(b1); print(b2)\n",
    "print(type(a1)); print(type(a3))\n",
    "s1 = \"대박\"  # 큰 따옴표나 작은 따옴표를 구분하지 않고 사용\n",
    "s2 = '허걱'\n",
    "print(type(s1)); print(type(s2))"
   ]
  },
  {
   "cell_type": "code",
   "execution_count": null,
   "metadata": {
    "colab": {
     "base_uri": "https://localhost:8080/"
    },
    "id": "HAEqrXyeVqns",
    "outputId": "6efe011c-8002-4f47-8487-a0db1c7a888c"
   },
   "outputs": [
    {
     "name": "stdout",
     "output_type": "stream",
     "text": [
      "2.3333333333333335\n",
      "2\n",
      "1\n"
     ]
    }
   ],
   "source": [
    "a = 7\n",
    "b = 3\n",
    "print(a/b)   # 나누기\n",
    "print(a//b)  # 몫\n",
    "print(a%b)   # 나머지"
   ]
  },
  {
   "cell_type": "code",
   "execution_count": null,
   "metadata": {
    "colab": {
     "base_uri": "https://localhost:8080/"
    },
    "id": "-8L7ZD6GVsDA",
    "outputId": "9aaf470c-1da8-4fbf-a775-d589e9928239"
   },
   "outputs": [
    {
     "name": "stdout",
     "output_type": "stream",
     "text": [
      "11\n",
      "-2\n",
      "15\n",
      "1\n",
      "8\n",
      "8\n",
      "10\n"
     ]
    }
   ],
   "source": [
    "print(4 + 7)          # 4 더하기 7\n",
    "print(2 - 4)          # 2 빼기 4\n",
    "print(5 * 3)          # 5 곱하기 3\n",
    "print(7 % 3)          # 7 을 3 으로  나눈  나머지\n",
    "print(2 ** 3)         # 2 의 3 제곱\n",
    "print(2 + 3 * 2)      # 덧셈보다  곱셈을  먼저 계산\n",
    "print(2 * (2 + 3))    # 괄호  안의  수식을  먼저  계산"
   ]
  },
  {
   "cell_type": "code",
   "execution_count": null,
   "metadata": {
    "colab": {
     "base_uri": "https://localhost:8080/"
    },
    "id": "P4byy3NLVtU8",
    "outputId": "7e375a9e-0688-4207-fab9-4f156ee7e918"
   },
   "outputs": [
    {
     "name": "stdout",
     "output_type": "stream",
     "text": [
      "98% 입니다\n",
      "   대박 입니다\n",
      "대박    입니다\n",
      "2.45 4.6\n",
      "4.57 2.5\n",
      "hi   \n",
      "   hi\n",
      " hi  \n",
      "=hi==\n",
      "hi===\n",
      "===hi\n",
      "hi!!!\n",
      "@@@hi\n",
      "#hi##\n"
     ]
    }
   ],
   "source": [
    "print(\"%d%% 입니다\" % (98))\n",
    "print(\"%5s 입니다\" % (\"대박\"))\n",
    "print(\"%-5s 입니다\" % (\"대박\"))\n",
    "# 순서:데이터형\n",
    "print(\"{0:.2f} {1:.1f}\".format(2.45,4.567))\n",
    "print(\"{1:.2f} {0:.1f}\".format(2.45,4.567))\n",
    "# 0번째 데이터를 공간5를 확보하고 왼쪽부터 출력\n",
    "print(\"{0:<5}\".format(\"hi\"))\n",
    "# 0번째 데이터를 공간5를 확보하고 오른쪽부터 출력\n",
    "print(\"{0:>5}\".format(\"hi\"))\n",
    "# 0번째 데이터를 공간5를 확보하고 중앙에 출력\n",
    "print(\"{0:^5}\".format(\"hi\"))\n",
    "print(\"{0:=^5}\".format(\"hi\"))\n",
    "print(\"{0:=<5}\".format(\"hi\"))\n",
    "print(\"{0:=>5}\".format(\"hi\"))\n",
    "print(\"{0:!<5}\".format(\"hi\"))\n",
    "print(\"{0:@>5}\".format(\"hi\"))\n",
    "print(\"{0:#^5}\".format(\"hi\"))"
   ]
  },
  {
   "cell_type": "code",
   "execution_count": null,
   "metadata": {
    "colab": {
     "base_uri": "https://localhost:8080/"
    },
    "id": "0PqDB6NuVu2b",
    "outputId": "4ddb7984-77b8-4e48-e541-cc5934976460"
   },
   "outputs": [
    {
     "name": "stdout",
     "output_type": "stream",
     "text": [
      "대박\n",
      "사건\n",
      "대박사건\n",
      "대박 사건\n"
     ]
    }
   ],
   "source": [
    "print('대박')\n",
    "print(\"사건\")\n",
    "print(\"대박\",end=\"\") # print문장 종료 후에 줄 바꾸지 말고 사용할 내용\n",
    "print(\"사건\")\n",
    "print(\"대박\",end=\" \")\n",
    "print(\"사건\")"
   ]
  },
  {
   "cell_type": "code",
   "execution_count": null,
   "metadata": {
    "colab": {
     "base_uri": "https://localhost:8080/"
    },
    "id": "SqdNR7zRVzrG",
    "outputId": "74dc0dab-a62e-4d46-c1dc-64ee1fb91860"
   },
   "outputs": [
    {
     "name": "stdout",
     "output_type": "stream",
     "text": [
      "내이름은 소희입니다\n",
      "할로윈할로윈할로윈할로윈할로윈할로윈할로윈할로윈할로윈할로윈\n"
     ]
    }
   ],
   "source": [
    "print(\"내이름은 \"+\"소희\"+\"입니다\") # 문자열을 +는 붙여쓰기\n",
    "print(\"할로윈\"*10) # *는 반복\n"
   ]
  },
  {
   "cell_type": "code",
   "execution_count": null,
   "metadata": {
    "colab": {
     "base_uri": "https://localhost:8080/"
    },
    "id": "FqDpA5FtV1NY",
    "outputId": "d0e42dd0-db8a-4f08-a1c7-593c9095a192"
   },
   "outputs": [
    {
     "name": "stdout",
     "output_type": "stream",
     "text": [
      "22 + 4 = 26\n",
      "   22 +     4 =    26\n",
      "7 + 3.56 = 10.56\n",
      "    7 +  3.56 = 10.56\n",
      "    7 +  3.56 = 10.56 대박\n"
     ]
    }
   ],
   "source": [
    "a = 22\n",
    "b = 4\n",
    "print(\"%d + %d = %d\" %(a,b,a+b))\n",
    "# 앞에 숫자는 출력할 공간 확보\n",
    "print(\"%5d + %5d = %5d\" %(a,b,a+b))\n",
    "a1 = 7\n",
    "b1 = 3.565\n",
    "c1 = \"대박\"\n",
    "print(\"%d + %0.2f = %0.2f\" %(a1,b1,a1+b1))\n",
    "print(\"%5d + %5.2f = %5.2f\" %(a1,b1,a1+b1))\n",
    "print(\"%5d + %5.2f = %5.2f %s\" %(a1,b1,a1+b1,c1))\n",
    "# %d 정수 %f 실수 %s 문자열"
   ]
  },
  {
   "cell_type": "code",
   "execution_count": null,
   "metadata": {
    "colab": {
     "base_uri": "https://localhost:8080/"
    },
    "id": "kZRKe_aIV3Ju",
    "outputId": "0c5cb6e4-1ff0-4d33-f621-c3e0a1fd9a9e"
   },
   "outputs": [
    {
     "name": "stdout",
     "output_type": "stream",
     "text": [
      "Hello Korea\n",
      "['Apple', 'Orange', 'Kiwi']\n",
      "HELLO WORLD\n",
      "hello world\n"
     ]
    }
   ],
   "source": [
    "a1 = \"Hello World\"\n",
    "a2 = a1.replace(\"World\",\"Korea\")\n",
    "print(a2)\n",
    "b1 = \"Apple,Orange,Kiwi\"\n",
    "# ,를 기준으로 데이터를 나눠서 list로 변경\n",
    "# 파이썬에서의 list는 R의 벡터\n",
    "b2 = b1.split(',')\n",
    "print(b2)\n",
    "c1 = \"Hello World\"\n",
    "c2 = c1.upper()\n",
    "print(c2)\n",
    "print(c2.lower())"
   ]
  },
  {
   "cell_type": "code",
   "execution_count": 4,
   "metadata": {
    "colab": {
     "base_uri": "https://localhost:8080/"
    },
    "executionInfo": {
     "elapsed": 561,
     "status": "ok",
     "timestamp": 1636685838279,
     "user": {
      "displayName": "­강승현",
      "photoUrl": "https://lh3.googleusercontent.com/a/default-user=s64",
      "userId": "06725088215234315555"
     },
     "user_tz": -540
    },
    "id": "j-NJD5icV4gh",
    "outputId": "10c22c80-5874-4f98-8067-d45191baf2a3"
   },
   "outputs": [
    {
     "name": "stdout",
     "output_type": "stream",
     "text": [
      "126\n",
      "할로윈데이 10월31일\n",
      "할로윈데이 10 월 31 일\n"
     ]
    }
   ],
   "source": [
    "a1 = \"대박\"\n",
    "a2 = \"123\"  # 큰 따옴표, 작은 따옴표 구별 안함\n",
    "print(int(a2)+3)  # print(a2+3) # 문자와 숫자를 더할 수 없다\n",
    "# print(\"할로윈데이 \"+10+\"월\"+31+\"일\")\n",
    "# 문자와 문자를 더하면 이어 붙임\n",
    "print(\"할로윈데이 \"+str(10)+\"월\"+str(31)+\"일\")\n",
    "print(\"할로윈데이\",10,\"월\",31,\"일\")"
   ]
  },
  {
   "cell_type": "code",
   "execution_count": null,
   "metadata": {
    "colab": {
     "base_uri": "https://localhost:8080/"
    },
    "id": "FDMKzOoQV6X_",
    "outputId": "5576df31-632d-43fa-e5a5-37ecd77b777f"
   },
   "outputs": [
    {
     "name": "stdout",
     "output_type": "stream",
     "text": [
      "python\n",
      "대박\n",
      "  # 여러 줄\n",
      "    안녕 친구\n",
      "    뭔 소리야\n",
      "    헛 소리\n",
      "\n",
      "python\n",
      "is \n",
      "good\n"
     ]
    }
   ],
   "source": [
    "print('python')\n",
    "print(\"대박\")\n",
    "a = \"\"\"  # 여러 줄\n",
    "    안녕 친구\n",
    "    뭔 소리야\n",
    "    헛 소리\n",
    "\"\"\"\n",
    "print(a)\n",
    "b = '''python\n",
    "is \n",
    "good'''\n",
    "print(b)"
   ]
  },
  {
   "cell_type": "code",
   "execution_count": null,
   "metadata": {
    "colab": {
     "base_uri": "https://localhost:8080/"
    },
    "id": "Q7VSr5rUV75I",
    "outputId": "b0920ff6-da1a-4e67-cbf8-8c2facc8c54e"
   },
   "outputs": [
    {
     "name": "stdout",
     "output_type": "stream",
     "text": [
      "헐 ~\n",
      "대박인가\n",
      "뭔소리\n",
      "이건뭐야 \n",
      "김\t건\t모\t야\n",
      "대박 \"헐\n",
      "왜 너's 침대\n",
      "\\\n",
      "Python's favorite food is perl\n",
      "Python's favorite food is perl\n",
      "\"Python is very easy.\" he says.\n",
      "\"Python is very easy.\" he says.\n"
     ]
    }
   ],
   "source": [
    "# \\는 특수용도로 사용하거나 뒤에 있는 문자 자체를 가르킬 때\n",
    "print(\"헐 ~\\n대박인가\\n뭔소리\") # \\n은 줄바꿈\n",
    "print(\"이건뭐야 \\n김\\t건\\t모\\t야\")  # \\t tab키\n",
    "print(\"대박 \\\"헐\") # \\\"는 \"를 출력\n",
    "print('왜 너\\'s 침대')  # \\'는 문자 '\n",
    "print(\"\\\\\")\n",
    "\n",
    "print(\"Python's favorite food is perl\")\n",
    "print('Python\\'s favorite food is perl')\n",
    "\n",
    "print('\"Python is very easy.\" he says.')\n",
    "print(\"\\\"Python is very easy.\\\" he says.\")"
   ]
  },
  {
   "cell_type": "code",
   "execution_count": null,
   "metadata": {
    "colab": {
     "base_uri": "https://localhost:8080/"
    },
    "id": "TjGtu5BAV9fF",
    "outputId": "c2baa71a-eefb-4399-d0ed-a4d002555b14"
   },
   "outputs": [
    {
     "name": "stdout",
     "output_type": "stream",
     "text": [
      "Life is too short\n",
      "You need python\n",
      "Life is too short\n",
      "You need python\n"
     ]
    }
   ],
   "source": [
    "a1 =\"\"\"Life is too short\n",
    "You need python\"\"\"\n",
    "a2 ='''Life is too short\n",
    "You need python'''\n",
    "print(a1)\n",
    "print(a2)"
   ]
  },
  {
   "cell_type": "code",
   "execution_count": null,
   "metadata": {
    "colab": {
     "base_uri": "https://localhost:8080/"
    },
    "id": "r8AQi_opV_Q-",
    "outputId": "b399b454-6b56-4c3c-feb4-60c483ae0ce8"
   },
   "outputs": [
    {
     "name": "stdout",
     "output_type": "stream",
     "text": [
      "Hardware Kernel and Shell\n"
     ]
    }
   ],
   "source": [
    "str = \"hello\"\n",
    "# 문자열은 일부만 변경할 수 없다\n",
    "# str[0] = 'f'\n",
    "#      012345678901234567\n",
    "str = \"Hardware and Shell\" # Hardware Kernel and Shell\n",
    "print(str[:8]+' Kernel'+str[8:])"
   ]
  },
  {
   "cell_type": "code",
   "execution_count": null,
   "metadata": {
    "colab": {
     "base_uri": "https://localhost:8080/"
    },
    "id": "qOpjSMwxWAf5",
    "outputId": "4d5f586c-be21-424c-856f-8564866f56fc"
   },
   "outputs": [
    {
     "name": "stdout",
     "output_type": "stream",
     "text": [
      "-1\n",
      "3\n",
      "False\n",
      "True\n",
      "확장자 : txt\n",
      "확장자 : txt\n",
      "확장자 : txt\n"
     ]
    }
   ],
   "source": [
    "str = \"c:/data/data.txt\"\n",
    "print(str.find('test'))\n",
    "print(str.find('data'))\n",
    "print(\"test\" in str)\n",
    "print(\"data\" in str)\n",
    "# 확장자 찾기\n",
    "l1 = str.find('.')\n",
    "print('확장자 :',str[l1+1:])\n",
    "s1 = str.split('.')\n",
    "print('확장자 :',s1[1])\n",
    "print('확장자 :',s1[len(s1) -1])"
   ]
  },
  {
   "cell_type": "code",
   "execution_count": null,
   "metadata": {
    "colab": {
     "base_uri": "https://localhost:8080/"
    },
    "id": "E7460-lMWB_e",
    "outputId": "f338234b-132a-4351-a31a-80f805921f36"
   },
   "outputs": [
    {
     "name": "stdout",
     "output_type": "stream",
     "text": [
      "True\n",
      "False\n",
      "True\n",
      "False\n",
      "1\n",
      "-1\n",
      "2\n",
      "3\n",
      "2\n",
      "대박      \n",
      "         대박\n",
      "대박\n"
     ]
    }
   ],
   "source": [
    "# startwith 시작확인\n",
    "a1 = \"Hello\"\n",
    "print(a1.startswith(\"H\"))\n",
    "print(a1.startswith(\"F\"))\n",
    "# endwith 끝 확인\n",
    "print(a1.endswith(\"o\"))\n",
    "print(a1.endswith(\"p\"))\n",
    "# find 위치 확인\n",
    "print(a1.find(\"e\")) # 해단하는 단어의 index번호\n",
    "print(a1.find(\"f\")) # 없는 단어의 위치는 -1\n",
    "print(a1.find(\"l\"))\n",
    "# rfind 데이터를 뒤에서 부터 찾는다\n",
    "print(a1.rfind(\"l\"))\n",
    "# count는 해당하는 문자의 갯수\n",
    "print(a1.count(\"l\"))\n",
    "# strip는 공백제거\n",
    "s1 = '         대박      '\n",
    "print(s1.lstrip()) # 왼쪽 공란 제거\n",
    "print(s1.rstrip()) # 오른쪽 공란 제거\n",
    "print(s1.strip())  # 좌우 공란 제거\n"
   ]
  },
  {
   "cell_type": "code",
   "execution_count": null,
   "metadata": {
    "colab": {
     "base_uri": "https://localhost:8080/"
    },
    "id": "cCoAszdzYRQ3",
    "outputId": "2a4ce989-1d6b-4211-dbb3-2929b1c08315"
   },
   "outputs": [
    {
     "data": {
      "text/plain": [
       "False"
      ]
     },
     "execution_count": 56,
     "metadata": {
      "tags": []
     },
     "output_type": "execute_result"
    }
   ],
   "source": [
    "0.1+0.2==0.3"
   ]
  },
  {
   "cell_type": "code",
   "execution_count": null,
   "metadata": {
    "colab": {
     "base_uri": "https://localhost:8080/"
    },
    "id": "lQ0fGKlTYkc5",
    "outputId": "06b0e9f3-2dcc-4701-b324-757d51b30f33"
   },
   "outputs": [
    {
     "data": {
      "text/plain": [
       "2.220446049250313e-16"
      ]
     },
     "execution_count": 57,
     "metadata": {
      "tags": []
     },
     "output_type": "execute_result"
    }
   ],
   "source": [
    "import sys\n",
    "sys.float_info.epsilon"
   ]
  },
  {
   "cell_type": "code",
   "execution_count": null,
   "metadata": {
    "colab": {
     "base_uri": "https://localhost:8080/"
    },
    "id": "OQRptQnJelyv",
    "outputId": "00c01616-cdb4-4ecf-93ae-0e6287c3b8ca"
   },
   "outputs": [
    {
     "data": {
      "text/plain": [
       "-5.551115123125783e-17"
      ]
     },
     "execution_count": 7,
     "metadata": {
      "tags": []
     },
     "output_type": "execute_result"
    }
   ],
   "source": [
    "0.3-(0.1+0.2)"
   ]
  },
  {
   "cell_type": "code",
   "execution_count": null,
   "metadata": {
    "colab": {
     "base_uri": "https://localhost:8080/"
    },
    "id": "cTAYFC5s_9An",
    "outputId": "d621150f-cd9a-4638-805a-b41f8e6d244d"
   },
   "outputs": [
    {
     "data": {
      "text/plain": [
       "0.01"
      ]
     },
     "execution_count": 9,
     "metadata": {
      "tags": []
     },
     "output_type": "execute_result"
    }
   ],
   "source": [
    "1e-2"
   ]
  },
  {
   "cell_type": "code",
   "execution_count": null,
   "metadata": {
    "colab": {
     "base_uri": "https://localhost:8080/"
    },
    "id": "8Y3qcB-CAY2a",
    "outputId": "56d25c32-e98d-4059-9532-ea8c65819286"
   },
   "outputs": [
    {
     "name": "stdout",
     "output_type": "stream",
     "text": [
      "hello \t world\n"
     ]
    }
   ],
   "source": [
    "a = 'hello \\t world'\n",
    "print(a)"
   ]
  },
  {
   "cell_type": "code",
   "execution_count": null,
   "metadata": {
    "colab": {
     "base_uri": "https://localhost:8080/"
    },
    "id": "6FpKve8pBUSj",
    "outputId": "4b303178-0801-4385-8cb6-4658d4487082"
   },
   "outputs": [
    {
     "name": "stdout",
     "output_type": "stream",
     "text": [
      "hellohellohello\n"
     ]
    }
   ],
   "source": [
    "print('hello'*3)"
   ]
  },
  {
   "cell_type": "code",
   "execution_count": null,
   "metadata": {
    "id": "Xqy0CVJjCQQG"
   },
   "outputs": [],
   "source": [
    "A='Life is short, you need python'"
   ]
  },
  {
   "cell_type": "code",
   "execution_count": null,
   "metadata": {
    "colab": {
     "base_uri": "https://localhost:8080/"
    },
    "id": "SRFJ9si4Cmen",
    "outputId": "2ec5dc90-9ac5-4e2f-bbdf-cd339bbc0959"
   },
   "outputs": [
    {
     "data": {
      "text/plain": [
       "13"
      ]
     },
     "execution_count": 32,
     "metadata": {
      "tags": []
     },
     "output_type": "execute_result"
    }
   ],
   "source": [
    "len('Life is short')"
   ]
  },
  {
   "cell_type": "code",
   "execution_count": null,
   "metadata": {
    "colab": {
     "base_uri": "https://localhost:8080/",
     "height": 35
    },
    "id": "eV5xAnqmCoUo",
    "outputId": "65ca2ed4-7d78-44ed-f41a-583567aab532"
   },
   "outputs": [
    {
     "data": {
      "application/vnd.google.colaboratory.intrinsic+json": {
       "type": "string"
      },
      "text/plain": [
       "'life is short'"
      ]
     },
     "execution_count": 42,
     "metadata": {
      "tags": []
     },
     "output_type": "execute_result"
    }
   ],
   "source": [
    "'     life is short          '.strip()"
   ]
  },
  {
   "cell_type": "code",
   "execution_count": null,
   "metadata": {
    "colab": {
     "base_uri": "https://localhost:8080/",
     "height": 35
    },
    "id": "CzE1iRu1D0v8",
    "outputId": "b3e174bf-549b-4de0-d333-5e1e8e888484"
   },
   "outputs": [
    {
     "data": {
      "application/vnd.google.colaboratory.intrinsic+json": {
       "type": "string"
      },
      "text/plain": [
       "'지금은 7시 입니다'"
      ]
     },
     "execution_count": 43,
     "metadata": {
      "tags": []
     },
     "output_type": "execute_result"
    }
   ],
   "source": [
    "'지금은 {}시 입니다'.format(7)"
   ]
  },
  {
   "cell_type": "code",
   "execution_count": null,
   "metadata": {
    "colab": {
     "base_uri": "https://localhost:8080/",
     "height": 35
    },
    "id": "uHji2U-CFNlv",
    "outputId": "5afcb174-08fa-4db1-a78b-0d50a232fb99"
   },
   "outputs": [
    {
     "data": {
      "application/vnd.google.colaboratory.intrinsic+json": {
       "type": "string"
      },
      "text/plain": [
       "'지금은 7시 30분 입니다'"
      ]
     },
     "execution_count": 44,
     "metadata": {
      "tags": []
     },
     "output_type": "execute_result"
    }
   ],
   "source": [
    "'지금은 {}시 {}분 입니다'.format(7, 30)"
   ]
  },
  {
   "cell_type": "code",
   "execution_count": null,
   "metadata": {
    "colab": {
     "base_uri": "https://localhost:8080/",
     "height": 35
    },
    "id": "Kr-Tp3daFTaX",
    "outputId": "db70fb2b-c8f2-40e0-b666-af6b3c86c243"
   },
   "outputs": [
    {
     "data": {
      "application/vnd.google.colaboratory.intrinsic+json": {
       "type": "string"
      },
      "text/plain": [
       "'지금은 7시 30분 입니다'"
      ]
     },
     "execution_count": 45,
     "metadata": {
      "tags": []
     },
     "output_type": "execute_result"
    }
   ],
   "source": [
    "'지금은 %d시 %d분 입니다' % (7,30)"
   ]
  },
  {
   "cell_type": "code",
   "execution_count": null,
   "metadata": {
    "colab": {
     "base_uri": "https://localhost:8080/",
     "height": 35
    },
    "id": "BxgB3CGCFaAb",
    "outputId": "f9a9ac48-7b28-4826-8a39-2a8110eee152"
   },
   "outputs": [
    {
     "data": {
      "application/vnd.google.colaboratory.intrinsic+json": {
       "type": "string"
      },
      "text/plain": [
       "'지금은 7시 30분 입니다'"
      ]
     },
     "execution_count": 47,
     "metadata": {
      "tags": []
     },
     "output_type": "execute_result"
    }
   ],
   "source": [
    "'지금은 {hour}시 {minute}분 입니다'.format(hour = 7, minute = 30)"
   ]
  },
  {
   "cell_type": "code",
   "execution_count": null,
   "metadata": {
    "colab": {
     "base_uri": "https://localhost:8080/"
    },
    "id": "SPq2Wjc0FkiT",
    "outputId": "668eee08-7224-4eb6-ca0f-250f1d5a042f"
   },
   "outputs": [
    {
     "data": {
      "text/plain": [
       "1990.2352523"
      ]
     },
     "execution_count": 54,
     "metadata": {
      "tags": []
     },
     "output_type": "execute_result"
    }
   ],
   "source": [
    "float('1990.2352523')"
   ]
  },
  {
   "cell_type": "code",
   "execution_count": null,
   "metadata": {
    "colab": {
     "base_uri": "https://localhost:8080/",
     "height": 35
    },
    "id": "wx4N0_1NF1er",
    "outputId": "e781f0b0-0723-4dbe-9d9a-a7bb16f53903"
   },
   "outputs": [
    {
     "data": {
      "application/vnd.google.colaboratory.intrinsic+json": {
       "type": "string"
      },
      "text/plain": [
       "'3'"
      ]
     },
     "execution_count": 49,
     "metadata": {
      "tags": []
     },
     "output_type": "execute_result"
    }
   ],
   "source": [
    "'3'"
   ]
  },
  {
   "cell_type": "code",
   "execution_count": null,
   "metadata": {
    "id": "kbc99GWVF2Rg"
   },
   "outputs": [],
   "source": []
  }
 ],
 "metadata": {
  "colab": {
   "collapsed_sections": [],
   "name": "python_ch2.ipynb",
   "provenance": []
  },
  "kernelspec": {
   "display_name": "Python 3",
   "language": "python",
   "name": "python3"
  },
  "language_info": {
   "codemirror_mode": {
    "name": "ipython",
    "version": 3
   },
   "file_extension": ".py",
   "mimetype": "text/x-python",
   "name": "python",
   "nbconvert_exporter": "python",
   "pygments_lexer": "ipython3",
   "version": "3.8.8"
  }
 },
 "nbformat": 4,
 "nbformat_minor": 1
}
