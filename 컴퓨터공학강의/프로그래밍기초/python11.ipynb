{
  "nbformat": 4,
  "nbformat_minor": 0,
  "metadata": {
    "colab": {
      "name": "python11.ipynb",
      "provenance": []
    },
    "kernelspec": {
      "name": "python3",
      "display_name": "Python 3"
    },
    "language_info": {
      "name": "python"
    }
  },
  "cells": [
    {
      "cell_type": "code",
      "metadata": {
        "colab": {
          "base_uri": "https://localhost:8080/"
        },
        "id": "DMM8NBrlbkXG",
        "outputId": "b39d8145-2e97-4791-8672-f6a06f5586fc"
      },
      "source": [
        "import numpy as np\n",
        "b = np.array([1,2,3,4])\n",
        "c = np.array([[1,2],\n",
        "              [3,4]])\n",
        "print(np.prod(b)) # 1*2*3*4\n",
        "print(np.prod(c, axis=0)) # [1*3, 2*4] 0은 열\n",
        "print(np.prod(c, axis=1)) # [1*2,2*4] 1은 행\n",
        "print(np.sum(b))  # 1+2+3+4\n",
        "print(np.sum(b, keepdims=True)) # [1+2+3+4]\n",
        "print(np.sum(c, axis=0)) # [1+3, 2+4]\n",
        "print(np.sum(c, axis=1)) # [1+2, 3 +4]"
      ],
      "execution_count": 1,
      "outputs": [
        {
          "output_type": "stream",
          "text": [
            "24\n",
            "[3 8]\n",
            "[ 2 12]\n",
            "10\n",
            "[10]\n",
            "[4 6]\n",
            "[3 7]\n"
          ],
          "name": "stdout"
        }
      ]
    },
    {
      "cell_type": "code",
      "metadata": {
        "colab": {
          "base_uri": "https://localhost:8080/"
        },
        "id": "uO9DeeeZc8a2",
        "outputId": "5449b874-9c55-470e-a746-6bd6c1ef65ae"
      },
      "source": [
        "import numpy as np\n",
        "a = np.array([2,4,6,8]).reshape(2,2)\n",
        "b = np.array([2,2,2,2]).reshape(2,2)\n",
        "print(a)\n",
        "print(b)\n",
        "print(a+b)\n",
        "print(a-b)\n",
        "print(a*b)\n",
        "print(a/b)\n",
        "print(np.matmul(a,b))"
      ],
      "execution_count": 22,
      "outputs": [
        {
          "output_type": "stream",
          "text": [
            "[[2 4]\n",
            " [6 8]]\n",
            "[[2 2]\n",
            " [2 2]]\n",
            "[[ 4  6]\n",
            " [ 8 10]]\n",
            "[[0 2]\n",
            " [4 6]]\n",
            "[[ 4  8]\n",
            " [12 16]]\n",
            "[[1. 2.]\n",
            " [3. 4.]]\n",
            "[[12 12]\n",
            " [28 28]]\n"
          ],
          "name": "stdout"
        }
      ]
    },
    {
      "cell_type": "code",
      "metadata": {
        "colab": {
          "base_uri": "https://localhost:8080/"
        },
        "id": "kpVZU-dHc9iW",
        "outputId": "9c2e5c8d-1de2-4574-c982-9fb8ed758396"
      },
      "source": [
        "import numpy as np\n",
        "a1 = np.arange(1,10).reshape(3,3)\n",
        "a2 = np.arange(11,20).reshape(3,3)\n",
        "print(a1+a2)\n",
        "print(a1-a2)\n",
        "print(a1*a2)\n",
        "print(a1/a2)\n",
        "print(np.matmul(a1,a2))\n",
        "print(a1**3)"
      ],
      "execution_count": 23,
      "outputs": [
        {
          "output_type": "stream",
          "text": [
            "[[12 14 16]\n",
            " [18 20 22]\n",
            " [24 26 28]]\n",
            "[[-10 -10 -10]\n",
            " [-10 -10 -10]\n",
            " [-10 -10 -10]]\n",
            "[[ 11  24  39]\n",
            " [ 56  75  96]\n",
            " [119 144 171]]\n",
            "[[0.09090909 0.16666667 0.23076923]\n",
            " [0.28571429 0.33333333 0.375     ]\n",
            " [0.41176471 0.44444444 0.47368421]]\n",
            "[[ 90  96 102]\n",
            " [216 231 246]\n",
            " [342 366 390]]\n",
            "[[  1   8  27]\n",
            " [ 64 125 216]\n",
            " [343 512 729]]\n"
          ],
          "name": "stdout"
        }
      ]
    },
    {
      "cell_type": "code",
      "metadata": {
        "colab": {
          "base_uri": "https://localhost:8080/"
        },
        "id": "wFJy9lFSc_zv",
        "outputId": "9362b100-08bf-4b89-998c-67c03ac82e96"
      },
      "source": [
        "import numpy as np\n",
        "import datetime\n",
        "li = range(1,1000000)\n",
        "s = datetime.datetime.now()\n",
        "li2 = []\n",
        "for i in li:\n",
        "    li2.append(i*2)\n",
        "print(datetime.datetime.now()-s)\n",
        "ar = np.array(li)\n",
        "s = datetime.datetime.now()\n",
        "arr2 = ar * 2\n",
        "s = datetime.datetime.now()\n",
        "print(datetime.datetime.now()-s)"
      ],
      "execution_count": 27,
      "outputs": [
        {
          "output_type": "stream",
          "text": [
            "0:00:00.198905\n",
            "0:00:00.000088\n"
          ],
          "name": "stdout"
        }
      ]
    },
    {
      "cell_type": "code",
      "metadata": {
        "colab": {
          "base_uri": "https://localhost:8080/"
        },
        "id": "Gtcjs3-Kc_-m",
        "outputId": "b898c417-a75c-4753-eccd-ceff89d7a207"
      },
      "source": [
        "import numpy as np\n",
        "# scipy : science python 과학 연산을 위한 모듈을 가진 라이브러리\n",
        "# scipy.stats : 통계에 대한 모듈\n",
        "x = np.array([18, 5, 10, 23, 19, -8, 10, 0, 0, 5, 2, 15, 8, 2, 5,\n",
        "               4, 15, -1, 4, -7, -24, 7, 9, -6, 23, -13])\n",
        "# x.sort() # 원본 데이터를 작은 것부터 큰수까지 오름차순으로 변경\n",
        "print(x)\n",
        "print(np.percentile(x, 0))  # 최소값\n",
        "print(np.percentile(x, 25)) # 25%위치값 1사분위수 1/4\n",
        "print(np.percentile(x, 50)) # 중앙값    2사분위수 1/4 * 2\n",
        "print(np.percentile(x, 75)) # 75%위치값 3사분위수 1/4 * 3\n",
        "print(np.percentile(x, 100)) # 최대값"
      ],
      "execution_count": 29,
      "outputs": [
        {
          "output_type": "stream",
          "text": [
            "[ 18   5  10  23  19  -8  10   0   0   5   2  15   8   2   5   4  15  -1\n",
            "   4  -7 -24   7   9  -6  23 -13]\n",
            "-24.0\n",
            "0.0\n",
            "5.0\n",
            "10.0\n",
            "23.0\n"
          ],
          "name": "stdout"
        }
      ]
    },
    {
      "cell_type": "code",
      "metadata": {
        "colab": {
          "base_uri": "https://localhost:8080/"
        },
        "id": "s8PJ-5EJbpcj",
        "outputId": "f6216b81-180e-43b8-f30a-4cbaaffcf980"
      },
      "source": [
        "import numpy as np\n",
        "ar1 = np.array([0,1,2,3,4,5,6,7,8,9])\n",
        "ar2 = np.arange(10)\n",
        "print(ar1)\n",
        "print(ar2)\n",
        "ar3 = np.array([[0,1,2,3,4],[5,6,7,8,9]])\n",
        "ar4 = ar2.reshape(2,5)  # 행이 2, 열이 5\n",
        "ar5 = ar2.reshape(2,-1) # 2행으로 열의 알아서 맞춰\n",
        "print(ar3)\n",
        "print(ar4)\n",
        "print(ar5)\n",
        "ar6 = np.linspace(0,1,6) # 시작, 끝, 갯수\n",
        "print(ar6)\n",
        "ar7 = np.linspace(0,1,5,endpoint=False)\n",
        "print(ar7)"
      ],
      "execution_count": 4,
      "outputs": [
        {
          "output_type": "stream",
          "text": [
            "[0 1 2 3 4 5 6 7 8 9]\n",
            "[0 1 2 3 4 5 6 7 8 9]\n",
            "[[0 1 2 3 4]\n",
            " [5 6 7 8 9]]\n",
            "[[0 1 2 3 4]\n",
            " [5 6 7 8 9]]\n",
            "[[0 1 2 3 4]\n",
            " [5 6 7 8 9]]\n",
            "[0.  0.2 0.4 0.6 0.8 1. ]\n",
            "[0.  0.2 0.4 0.6 0.8]\n"
          ],
          "name": "stdout"
        }
      ]
    },
    {
      "cell_type": "code",
      "metadata": {
        "colab": {
          "base_uri": "https://localhost:8080/"
        },
        "id": "-rEeLHf7brf3",
        "outputId": "6f7ce3bd-70c6-4820-b9bc-bd836d818206"
      },
      "source": [
        "import numpy as np\n",
        "d = np.array([[\n",
        "    [1,2,3,4],[5,6,7,8],[9,10,11,12]],\n",
        "    [[11,12,13,14],[15,16,17,18],[19,20,21,22]] ])\n",
        "print(d)\n",
        "print(d.shape)\n",
        "# 대괄호 2개 2, 대괄호 1개 3, 인자가 4"
      ],
      "execution_count": 5,
      "outputs": [
        {
          "output_type": "stream",
          "text": [
            "[[[ 1  2  3  4]\n",
            "  [ 5  6  7  8]\n",
            "  [ 9 10 11 12]]\n",
            "\n",
            " [[11 12 13 14]\n",
            "  [15 16 17 18]\n",
            "  [19 20 21 22]]]\n",
            "(2, 3, 4)\n"
          ],
          "name": "stdout"
        }
      ]
    },
    {
      "cell_type": "code",
      "metadata": {
        "colab": {
          "base_uri": "https://localhost:8080/"
        },
        "id": "crSmaXeDcB8u",
        "outputId": "0fa89661-1b16-462a-90bd-d309236371a2"
      },
      "source": [
        "import numpy as np\n",
        "arr = np.array([[10, 20, 30, 40], [50, 60, 70, 80]])\n",
        "#     데이터  구조     데이터타입  행의 갯수   열의 갯수\n",
        "print(arr, arr.shape, arr.dtype, len(arr), len(arr[0]))"
      ],
      "execution_count": 6,
      "outputs": [
        {
          "output_type": "stream",
          "text": [
            "[[10 20 30 40]\n",
            " [50 60 70 80]] (2, 4) int64 2 4\n"
          ],
          "name": "stdout"
        }
      ]
    },
    {
      "cell_type": "code",
      "metadata": {
        "colab": {
          "base_uri": "https://localhost:8080/"
        },
        "id": "1vWm2UjrcESD",
        "outputId": "9ea8730a-b3de-4228-e5e7-5ec4437798fa"
      },
      "source": [
        "import numpy as np\n",
        "ar = np.arange(5).reshape(1,5)\n",
        "br = np.arange(5).reshape(5,1)\n",
        "print(ar)\n",
        "print(br)\n",
        "print(ar+br) # broadcast 행열을 맞춰서 연산"
      ],
      "execution_count": 7,
      "outputs": [
        {
          "output_type": "stream",
          "text": [
            "[[0 1 2 3 4]]\n",
            "[[0]\n",
            " [1]\n",
            " [2]\n",
            " [3]\n",
            " [4]]\n",
            "[[0 1 2 3 4]\n",
            " [1 2 3 4 5]\n",
            " [2 3 4 5 6]\n",
            " [3 4 5 6 7]\n",
            " [4 5 6 7 8]]\n"
          ],
          "name": "stdout"
        }
      ]
    },
    {
      "cell_type": "code",
      "metadata": {
        "colab": {
          "base_uri": "https://localhost:8080/"
        },
        "id": "aPBi4vvicHxL",
        "outputId": "734cbd92-7793-473c-df67-ba0e50271d13"
      },
      "source": [
        "import numpy as np\n",
        "ar1 = np.array([1,2,3])  # 부족한 쪽에서 확장한 것으로 가정하여 실행\n",
        "print(ar1*2)\n",
        "ar2 = np.array([[2,3,4],[6,7,9]]) # 열의 갯수가 맞아야 된다\n",
        "print(ar1+ar2)\n",
        "# br1 = np.array([2,3])\n",
        "# br2 = np.array([[2,3,4],[6,7,8]])\n",
        "# print(br1+br2)"
      ],
      "execution_count": 9,
      "outputs": [
        {
          "output_type": "stream",
          "text": [
            "[2 4 6]\n",
            "[[ 3  5  7]\n",
            " [ 7  9 12]]\n"
          ],
          "name": "stdout"
        }
      ]
    },
    {
      "cell_type": "code",
      "metadata": {
        "colab": {
          "base_uri": "https://localhost:8080/"
        },
        "id": "0b7cJHRhcaD8",
        "outputId": "b4fbb121-8887-4d91-c43b-85f5de148631"
      },
      "source": [
        "import numpy as np\n",
        "a1 = np.ones((2,3))\n",
        "print(a1)\n",
        "a2 = np.zeros((2, 2))\n",
        "print(a2)\n",
        "# hstack/vstack : 두개를 붙인 새로운 배열을 생성\n",
        "# hstack : horizontal stack 수평으로 붙임 \n",
        "print(np.hstack([a1, a2]))\n",
        "a3 = np.zeros((3,3))\n",
        "# vstack vertical stack  수직으로 이어 붙임 \n",
        "print(a3)\n",
        "a4 = np.vstack([a1, a3])\n",
        "print(a4)\n",
        "print(a1)"
      ],
      "execution_count": 11,
      "outputs": [
        {
          "output_type": "stream",
          "text": [
            "[[1. 1. 1.]\n",
            " [1. 1. 1.]]\n",
            "[[0. 0.]\n",
            " [0. 0.]]\n",
            "[[1. 1. 1. 0. 0.]\n",
            " [1. 1. 1. 0. 0.]]\n",
            "[[0. 0. 0.]\n",
            " [0. 0. 0.]\n",
            " [0. 0. 0.]]\n",
            "[[1. 1. 1.]\n",
            " [1. 1. 1.]\n",
            " [0. 0. 0.]\n",
            " [0. 0. 0.]\n",
            " [0. 0. 0.]]\n",
            "[[1. 1. 1.]\n",
            " [1. 1. 1.]]\n"
          ],
          "name": "stdout"
        }
      ]
    },
    {
      "cell_type": "code",
      "metadata": {
        "colab": {
          "base_uri": "https://localhost:8080/"
        },
        "id": "TGrfgloNcLDE",
        "outputId": "b0fdd196-9402-4d1f-d93f-da30fd7832a7"
      },
      "source": [
        "import numpy as np\n",
        "ar1 = np.array([1,2,3,4])\n",
        "br1 = np.array([5,6,7,8])\n",
        "cr1 = np.concatenate((ar1, br1)) \n",
        "print(cr1)\n",
        "ar2 = np.array([[1, 2],\n",
        "                [3,4]])\n",
        "br2 = np.array([[5, 6],\n",
        "                [7,8]])\n",
        "cr1 = np.concatenate((ar2,br2), axis=0) \n",
        "cr2 = np.concatenate((ar2,br2), axis=1)\n",
        "print(cr1)\n",
        "print(cr2)"
      ],
      "execution_count": 12,
      "outputs": [
        {
          "output_type": "stream",
          "text": [
            "[1 2 3 4 5 6 7 8]\n",
            "[[1 2]\n",
            " [3 4]\n",
            " [5 6]\n",
            " [7 8]]\n",
            "[[1 2 5 6]\n",
            " [3 4 7 8]]\n"
          ],
          "name": "stdout"
        }
      ]
    },
    {
      "cell_type": "code",
      "metadata": {
        "colab": {
          "base_uri": "https://localhost:8080/"
        },
        "id": "33cFXpMTcZEj",
        "outputId": "56c64e86-8345-4e57-d94a-322293d77a04"
      },
      "source": [
        "import numpy as np\n",
        "ar1 = np.array([1,2,3])\n",
        "print(ar1, ar1.dtype)\n",
        "ar2 = np.array((['1', 2, 3.0]))\n",
        "print(ar2, ar2.dtype)\n",
        "ar3 = np.array(([1, 2, 3.0]))\n",
        "print(ar3, ar3.dtype)\n",
        "ar4 = ar1.astype(np.float)\n",
        "print(ar4, ar4.dtype)\n",
        "ar5 = ar1.astype(np.string_)\n",
        "print(ar5, ar5.dtype)\n",
        "ar6 = ar1.astype(np.unicode_)\n",
        "print(ar6, ar6.dtype)"
      ],
      "execution_count": 13,
      "outputs": [
        {
          "output_type": "stream",
          "text": [
            "[1 2 3] int64\n",
            "['1' '2' '3.0'] <U3\n",
            "[1. 2. 3.] float64\n",
            "[1. 2. 3.] float64\n",
            "[b'1' b'2' b'3'] |S21\n",
            "['1' '2' '3'] <U21\n"
          ],
          "name": "stdout"
        }
      ]
    },
    {
      "cell_type": "code",
      "metadata": {
        "colab": {
          "base_uri": "https://localhost:8080/"
        },
        "id": "Wb6tcqa3cmii",
        "outputId": "3816804b-2e00-4f42-887f-874df95dc76b"
      },
      "source": [
        "# flatten, ravel은 다차원 배열을 1차원으로 변경\n",
        "import numpy as np\n",
        "arr = np.array([[[0,1],[2,3],[4,5]],\n",
        "                [[6,7],[8,9],[10,11]]])\n",
        "print(arr, arr.shape)\n",
        "print(arr.flatten())\n",
        "print(arr.ravel())"
      ],
      "execution_count": 14,
      "outputs": [
        {
          "output_type": "stream",
          "text": [
            "[[[ 0  1]\n",
            "  [ 2  3]\n",
            "  [ 4  5]]\n",
            "\n",
            " [[ 6  7]\n",
            "  [ 8  9]\n",
            "  [10 11]]] (2, 3, 2)\n",
            "[ 0  1  2  3  4  5  6  7  8  9 10 11]\n",
            "[ 0  1  2  3  4  5  6  7  8  9 10 11]\n"
          ],
          "name": "stdout"
        }
      ]
    },
    {
      "cell_type": "code",
      "metadata": {
        "colab": {
          "base_uri": "https://localhost:8080/"
        },
        "id": "kKeEFqnvcofn",
        "outputId": "e93b9197-0852-4b20-a2dc-fd91137a6219"
      },
      "source": [
        "# 단항함수\n",
        "import numpy as np\n",
        "ar = np.array([10, 1, 2, 3, 4])\n",
        "br = np.array([1.23, 4.567, 2.76])\n",
        "cr = np.array([-7, 0, 2])\n",
        "print(np.sqrt(ar))\n",
        "print(np.square(ar))\n",
        "print(np.modf(br))  # 소수부분과 정수를 분리\n",
        "print(np.sign(cr))  # 음수(-1), 0, 양수(1)"
      ],
      "execution_count": 15,
      "outputs": [
        {
          "output_type": "stream",
          "text": [
            "[3.16227766 1.         1.41421356 1.73205081 2.        ]\n",
            "[100   1   4   9  16]\n",
            "(array([0.23 , 0.567, 0.76 ]), array([1., 4., 2.]))\n",
            "[-1  0  1]\n"
          ],
          "name": "stdout"
        }
      ]
    },
    {
      "cell_type": "code",
      "metadata": {
        "colab": {
          "base_uri": "https://localhost:8080/"
        },
        "id": "S6oM6cHUcrbt",
        "outputId": "f0ac456f-d27d-4d57-f9dd-368fe3d4d8c7"
      },
      "source": [
        "import numpy as np\n",
        "#               0 1 2\n",
        "#              -3-2-1\n",
        "ar1 = np.array([1,2,3])\n",
        "print(ar1[0], ar1[1], ar1[2])\n",
        "print(ar1[-1], ar1[-2], ar1[-3])\n",
        "ar2 = np.array([[1,2],[3,4]])\n",
        "#         행 열\n",
        "print(ar2[0][0],ar2[0][1],ar2[1][0],ar2[1][1])\n",
        "#         행열\n",
        "print(ar2[0,0],ar2[0,1],ar2[1,0],ar2[1,1])\n",
        "print(ar2[-1][-1],ar2[-2][-2])\n",
        "print(ar2[-1,-1],ar2[-2,-2])\n",
        "#         0행    1행\n",
        "print(ar2[0], ar2[1])"
      ],
      "execution_count": 16,
      "outputs": [
        {
          "output_type": "stream",
          "text": [
            "1 2 3\n",
            "3 2 1\n",
            "1 2 3 4\n",
            "1 2 3 4\n",
            "4 1\n",
            "4 1\n",
            "[1 2] [3 4]\n"
          ],
          "name": "stdout"
        }
      ]
    },
    {
      "cell_type": "code",
      "metadata": {
        "colab": {
          "base_uri": "https://localhost:8080/"
        },
        "id": "fjAz-lHAcutE",
        "outputId": "3afb18cb-fb27-4e1e-c125-118f8548516e"
      },
      "source": [
        "import numpy as np\n",
        "# 21 29 ar, 3행 3열 shape, dtype, type\n",
        "ar = np.arange(21,30).reshape(3,3)\n",
        "print(ar)\n",
        "print(ar.shape,ar.dtype,type(ar))\n",
        "# 25,  21, 29\n",
        "print(ar[0,0],ar[1,1],ar[2,2])\n",
        "print(ar[0][0],ar[1][1],ar[2][2])\n",
        "# 0행, 마지막 출력\n",
        "print(ar[0])\n",
        "print(ar[-1][-1])"
      ],
      "execution_count": 17,
      "outputs": [
        {
          "output_type": "stream",
          "text": [
            "[[21 22 23]\n",
            " [24 25 26]\n",
            " [27 28 29]]\n",
            "(3, 3) int64 <class 'numpy.ndarray'>\n",
            "21 25 29\n",
            "21 25 29\n",
            "[21 22 23]\n",
            "29\n"
          ],
          "name": "stdout"
        }
      ]
    },
    {
      "cell_type": "code",
      "metadata": {
        "colab": {
          "base_uri": "https://localhost:8080/"
        },
        "id": "RhXBR1Wqcwt1",
        "outputId": "ffcbb7ae-43b9-44c7-a7aa-11712b21b554"
      },
      "source": [
        "import numpy as np\n",
        "ar = np.empty((10,5)) # 가비지 값\n",
        "# print(ar)\n",
        "for i in range(10):\n",
        "    ar[i] = i     # 행 전체에 같은 값저장\n",
        "print(ar)\n",
        "#         행(1,3,5,7)\n",
        "ar2 = ar[[1,3,5,7]] # 인덱스 배열, fancy 결과가 배열\n",
        "print(ar2)\n",
        "#         행    열\n",
        "ar3 = ar[[0,1],[3,4]] # 0행3열, 1행 4열\n",
        "print(ar3)\n",
        "#       행   앞에서 선택한 데이터 중에서 행은 전부 열은 3과 4열\n",
        "#               행  열\n",
        "ar4 = ar[[0,1]][:,[3,4]]\n",
        "print(ar4)"
      ],
      "execution_count": 18,
      "outputs": [
        {
          "output_type": "stream",
          "text": [
            "[[0. 0. 0. 0. 0.]\n",
            " [1. 1. 1. 1. 1.]\n",
            " [2. 2. 2. 2. 2.]\n",
            " [3. 3. 3. 3. 3.]\n",
            " [4. 4. 4. 4. 4.]\n",
            " [5. 5. 5. 5. 5.]\n",
            " [6. 6. 6. 6. 6.]\n",
            " [7. 7. 7. 7. 7.]\n",
            " [8. 8. 8. 8. 8.]\n",
            " [9. 9. 9. 9. 9.]]\n",
            "[[1. 1. 1. 1. 1.]\n",
            " [3. 3. 3. 3. 3.]\n",
            " [5. 5. 5. 5. 5.]\n",
            " [7. 7. 7. 7. 7.]]\n",
            "[0. 1.]\n",
            "[[0. 0.]\n",
            " [1. 1.]]\n"
          ],
          "name": "stdout"
        }
      ]
    },
    {
      "cell_type": "code",
      "metadata": {
        "colab": {
          "base_uri": "https://localhost:8080/"
        },
        "id": "tOw2eY2Ycx4S",
        "outputId": "2de0aa04-950d-43c1-960b-a2f1db156975"
      },
      "source": [
        "import numpy as np\n",
        "# ar : 1 ~ 20  4행 5열\n",
        "ar1 = np.arange(1, 21).reshape(4, 5); print(ar1)\n",
        "# 1행, 3행\n",
        "ar2 = ar1[[1,3]]; print(ar2)\n",
        "# 0행 3열,  1행 4열\n",
        "ar3 = ar1[[0,1],[3,4]];  print(ar3)\n",
        "# 0과 1행 중에서 3열과 4열\n",
        "ar4 = ar1[[0,1]][:,[3,4]]; print(ar4)"
      ],
      "execution_count": 19,
      "outputs": [
        {
          "output_type": "stream",
          "text": [
            "[[ 1  2  3  4  5]\n",
            " [ 6  7  8  9 10]\n",
            " [11 12 13 14 15]\n",
            " [16 17 18 19 20]]\n",
            "[[ 6  7  8  9 10]\n",
            " [16 17 18 19 20]]\n",
            "[ 4 10]\n",
            "[[ 4  5]\n",
            " [ 9 10]]\n"
          ],
          "name": "stdout"
        }
      ]
    },
    {
      "cell_type": "code",
      "metadata": {
        "colab": {
          "base_uri": "https://localhost:8080/"
        },
        "id": "fXgxqxQgcy5O",
        "outputId": "5f87ee2c-be1a-4562-d5a4-daa38945e8b4"
      },
      "source": [
        "import numpy as np\n",
        "data1 = [1,2,3,4,5]\n",
        "print(data1, type(data1))\n",
        "arr1 = np.array([1,2,3,4,5])\n",
        "print(arr1, type(arr1))\n",
        "arr2 = np.array(data1)\n",
        "print(arr2, type(arr2))\n",
        "print(arr1.shape, arr1.dtype)\n",
        "arr3 = np.array([[1,2,3],[2,3,4]])\n",
        "print(arr3, arr3.shape)\n",
        "data2 = [2, 4, 5, 1.2]\n",
        "print(data2)\n",
        "arr4 = np.array(data2) # array는 데이터형이 같아야 범위가 넓은 쪽으로 변경\n",
        "print(arr4, arr4.dtype)"
      ],
      "execution_count": 20,
      "outputs": [
        {
          "output_type": "stream",
          "text": [
            "[1, 2, 3, 4, 5] <class 'list'>\n",
            "[1 2 3 4 5] <class 'numpy.ndarray'>\n",
            "[1 2 3 4 5] <class 'numpy.ndarray'>\n",
            "(5,) int64\n",
            "[[1 2 3]\n",
            " [2 3 4]] (2, 3)\n",
            "[2, 4, 5, 1.2]\n",
            "[2.  4.  5.  1.2] float64\n"
          ],
          "name": "stdout"
        }
      ]
    },
    {
      "cell_type": "code",
      "metadata": {
        "colab": {
          "base_uri": "https://localhost:8080/"
        },
        "id": "eqo8slqnc3up",
        "outputId": "571ed57c-d317-46a8-87c7-c7195b88d775"
      },
      "source": [
        "import numpy as np\n",
        "list1 = [4, 5, 6, 7.0]\n",
        "print(list1, type(list1))\n",
        "arr1 = np.array(list1)\n",
        "print(arr1, type(arr1), arr1.shape, arr1.dtype)"
      ],
      "execution_count": 21,
      "outputs": [
        {
          "output_type": "stream",
          "text": [
            "[4, 5, 6, 7.0] <class 'list'>\n",
            "[4. 5. 6. 7.] <class 'numpy.ndarray'> (4,) float64\n"
          ],
          "name": "stdout"
        }
      ]
    },
    {
      "cell_type": "code",
      "metadata": {
        "colab": {
          "base_uri": "https://localhost:8080/"
        },
        "id": "e8AE9Ykqc44h",
        "outputId": "cb6650ae-1575-4c0c-fdec-69c4295ab4c5"
      },
      "source": [
        "import numpy as np\n",
        "# 5 ~ 10사이 정수 10개 균등하게 10개\n",
        "r1 = np.random.randint(5, 10, size=10)\n",
        "print(r1)\n",
        "# 0 과 10 2행 5열 균등하게 정수\n",
        "r2 = np.random.randint(0,10, size=(2,5))\n",
        "print(r2)\n",
        "data2 = np.random.randint(-100, 100, 10000)"
      ],
      "execution_count": 31,
      "outputs": [
        {
          "output_type": "stream",
          "text": [
            "[5 8 9 5 9 6 6 6 7 5]\n",
            "[[9 4 4 0 3]\n",
            " [2 7 5 2 0]]\n"
          ],
          "name": "stdout"
        }
      ]
    },
    {
      "cell_type": "code",
      "metadata": {
        "colab": {
          "base_uri": "https://localhost:8080/"
        },
        "id": "Dt3uPlKwdagQ",
        "outputId": "f5d7f835-b8d2-4bb6-e4f0-43506b2a71e4"
      },
      "source": [
        "import numpy as np\n",
        "# 평균이 0이고 표준편차가 1인 정규분포 5개\n",
        "print(np.random.normal(size=5))\n",
        "print(np.random.normal(size=(2,3)))"
      ],
      "execution_count": 32,
      "outputs": [
        {
          "output_type": "stream",
          "text": [
            "[-2.6573258  -0.23511348  0.35794008 -1.63995747  2.01780971]\n",
            "[[-0.78370512  0.24952209  1.06762656]\n",
            " [ 0.53598406 -3.66950918  0.59201979]]\n"
          ],
          "name": "stdout"
        }
      ]
    },
    {
      "cell_type": "code",
      "metadata": {
        "colab": {
          "base_uri": "https://localhost:8080/"
        },
        "id": "DINAhOu-dc_e",
        "outputId": "4278a809-6972-445c-b850-7786d58ceb9d"
      },
      "source": [
        "import numpy as np\n",
        "arr = np.random.normal(10, 10, size=10000)\n",
        "print(arr)\n"
      ],
      "execution_count": 36,
      "outputs": [
        {
          "output_type": "stream",
          "text": [
            "[ 5.38411881 23.49803181 -0.37470484 ... 26.1606493   3.20298605\n",
            " 13.99232336]\n"
          ],
          "name": "stdout"
        }
      ]
    },
    {
      "cell_type": "code",
      "metadata": {
        "colab": {
          "base_uri": "https://localhost:8080/"
        },
        "id": "euAnkxDbdeZ9",
        "outputId": "c5e2ca53-c694-4daa-f732-22564441d7e3"
      },
      "source": [
        "import numpy as np\n",
        "# 실행할 때마다 같은 램덤값 사용\n",
        "np.random.seed(seed=123)\n",
        "print(np.random.normal(size=5))\n",
        "print(np.random.normal(size=(2,3)))\n",
        "print(np.random.normal(size=5))"
      ],
      "execution_count": 37,
      "outputs": [
        {
          "output_type": "stream",
          "text": [
            "[-1.0856306   0.99734545  0.2829785  -1.50629471 -0.57860025]\n",
            "[[ 1.65143654 -2.42667924 -0.42891263]\n",
            " [ 1.26593626 -0.8667404  -0.67888615]]\n",
            "[-0.09470897  1.49138963 -0.638902   -0.44398196 -0.43435128]\n"
          ],
          "name": "stdout"
        }
      ]
    },
    {
      "cell_type": "code",
      "metadata": {
        "colab": {
          "base_uri": "https://localhost:8080/"
        },
        "id": "-ELwEsRLdm8R",
        "outputId": "0d38fe56-0ae9-4522-aba0-75ef7618d8c0"
      },
      "source": [
        "import numpy as np\n",
        "ar1 = np.arange(20).reshape(5,4)\n",
        "print(ar1)\n",
        "br1 = np.array(['A','B','C','A','C'])\n",
        "print((br1=='A') | (br1=='C'))  # or, and를 사용할 때는 ()이용\n",
        "print(ar1[(br1=='A') | (br1=='C')]) # True행만 출력\n",
        "print(ar1[br1=='A',2]) # True행 중에서 2열\n",
        "#         행       열\n",
        "print(ar1[br1=='A',:2]) # True행 중에서 2열까지\n",
        "ar1[br1=='A'] = 100  # True행에만 값을 100으로 변경\n",
        "print(ar1)"
      ],
      "execution_count": 38,
      "outputs": [
        {
          "output_type": "stream",
          "text": [
            "[[ 0  1  2  3]\n",
            " [ 4  5  6  7]\n",
            " [ 8  9 10 11]\n",
            " [12 13 14 15]\n",
            " [16 17 18 19]]\n",
            "[ True False  True  True  True]\n",
            "[[ 0  1  2  3]\n",
            " [ 8  9 10 11]\n",
            " [12 13 14 15]\n",
            " [16 17 18 19]]\n",
            "[ 2 14]\n",
            "[[ 0  1]\n",
            " [12 13]]\n",
            "[[100 100 100 100]\n",
            " [  4   5   6   7]\n",
            " [  8   9  10  11]\n",
            " [100 100 100 100]\n",
            " [ 16  17  18  19]]\n"
          ],
          "name": "stdout"
        }
      ]
    },
    {
      "cell_type": "code",
      "metadata": {
        "colab": {
          "base_uri": "https://localhost:8080/"
        },
        "id": "w14l2K98dsxd",
        "outputId": "ee3bfad3-b60d-49f8-9369-df01112f4bac"
      },
      "source": [
        "import numpy as np\n",
        "# ar 21 40  5핼 4열\n",
        "ar = np.arange(21,41).reshape(5,4)\n",
        "br = np.array(['A','B','C','A','C'])\n",
        "# br이 A가 아닌 경우만 출력\n",
        "print(ar[br!='A'])\n",
        "# 위 조건에서 3열 출력\n",
        "print(ar[br!='A',3])\n",
        "# 위 조건에서 2열부터 끝까지 출력\n",
        "print(ar[br!='A',2:])\n",
        "# 위조건 데이터만 67로 변경하고 출력\n",
        "ar[br!='A'] = 67; print(ar)"
      ],
      "execution_count": 39,
      "outputs": [
        {
          "output_type": "stream",
          "text": [
            "[[25 26 27 28]\n",
            " [29 30 31 32]\n",
            " [37 38 39 40]]\n",
            "[28 32 40]\n",
            "[[27 28]\n",
            " [31 32]\n",
            " [39 40]]\n",
            "[[21 22 23 24]\n",
            " [67 67 67 67]\n",
            " [67 67 67 67]\n",
            " [33 34 35 36]\n",
            " [67 67 67 67]]\n"
          ],
          "name": "stdout"
        }
      ]
    },
    {
      "cell_type": "code",
      "metadata": {
        "colab": {
          "base_uri": "https://localhost:8080/"
        },
        "id": "A9amG9tWduFw",
        "outputId": "26c2864f-9914-4308-9154-e1b126bf5755"
      },
      "source": [
        "import numpy as np\n",
        "ar = np.arange(1,21).reshape(5,4)\n",
        "print(ar)\n",
        "print(ar[[1,2]]) # index가 1~2\n",
        "print(ar[1:3])   # 행이 1부터 3행\n",
        "print(ar[[-2, -1]]) # 인덱스가 -2 또는 -1\n",
        "print(ar[-2:])   # -2행부터 끝까지\n",
        "print(ar[[0,2,4]][:,[0,2]]) # 0,2,4행중에서 행은 전부 열은 0또는 2열\n",
        "# np.ix_인덱스가 행      열\n",
        "print(ar[np.ix_([0,2,4],[0,2])])"
      ],
      "execution_count": 40,
      "outputs": [
        {
          "output_type": "stream",
          "text": [
            "[[ 1  2  3  4]\n",
            " [ 5  6  7  8]\n",
            " [ 9 10 11 12]\n",
            " [13 14 15 16]\n",
            " [17 18 19 20]]\n",
            "[[ 5  6  7  8]\n",
            " [ 9 10 11 12]]\n",
            "[[ 5  6  7  8]\n",
            " [ 9 10 11 12]]\n",
            "[[13 14 15 16]\n",
            " [17 18 19 20]]\n",
            "[[13 14 15 16]\n",
            " [17 18 19 20]]\n",
            "[[ 1  3]\n",
            " [ 9 11]\n",
            " [17 19]]\n",
            "[[ 1  3]\n",
            " [ 9 11]\n",
            " [17 19]]\n"
          ],
          "name": "stdout"
        }
      ]
    },
    {
      "cell_type": "code",
      "metadata": {
        "colab": {
          "base_uri": "https://localhost:8080/"
        },
        "id": "wZllMeW6dvYh",
        "outputId": "40cca68b-bb0c-4afb-e0fe-1cbe0e03c2f1"
      },
      "source": [
        "import numpy as np\n",
        "x = np.array([[2, 1, 6], [0, 7, 4],  [5, 3, 2]])\n",
        "print(x)\n",
        "print(np.sort(x, axis=1))  # 좌우 오름차순\n",
        "print(np.sort(x, axis=0))  # 상하 오름차순\n",
        "print(np.sort(x, axis=0)[::-1]) # 상하 내림차순"
      ],
      "execution_count": 41,
      "outputs": [
        {
          "output_type": "stream",
          "text": [
            "[[2 1 6]\n",
            " [0 7 4]\n",
            " [5 3 2]]\n",
            "[[1 2 6]\n",
            " [0 4 7]\n",
            " [2 3 5]]\n",
            "[[0 1 2]\n",
            " [2 3 4]\n",
            " [5 7 6]]\n",
            "[[5 7 6]\n",
            " [2 3 4]\n",
            " [0 1 2]]\n"
          ],
          "name": "stdout"
        }
      ]
    },
    {
      "cell_type": "code",
      "metadata": {
        "colab": {
          "base_uri": "https://localhost:8080/"
        },
        "id": "m-kG_G6VdyGt",
        "outputId": "57969018-453f-4818-dd9a-0230574cdddc"
      },
      "source": [
        "import numpy as np\n",
        "ar = np.array([[3, 8, 2],[9,1,4],[6,7,3]])\n",
        "print(ar)\n",
        "print(np.sort(ar, axis=0)) # 상하로 작은 순서\n",
        "print(np.sort(ar, axis=0)[::-1]) # 상하로 큰순서\n",
        "print(np.sort(ar, axis=1)) # 좌우로 작은 순서\n",
        "print(np.sort(ar, axis=1)[:,::-1])  # 좌우로 큰순서"
      ],
      "execution_count": 42,
      "outputs": [
        {
          "output_type": "stream",
          "text": [
            "[[3 8 2]\n",
            " [9 1 4]\n",
            " [6 7 3]]\n",
            "[[3 1 2]\n",
            " [6 7 3]\n",
            " [9 8 4]]\n",
            "[[9 8 4]\n",
            " [6 7 3]\n",
            " [3 1 2]]\n",
            "[[2 3 8]\n",
            " [1 4 9]\n",
            " [3 6 7]]\n",
            "[[8 3 2]\n",
            " [9 4 1]\n",
            " [7 6 3]]\n"
          ],
          "name": "stdout"
        }
      ]
    },
    {
      "cell_type": "code",
      "metadata": {
        "colab": {
          "base_uri": "https://localhost:8080/"
        },
        "id": "IPla_FSjd3qA",
        "outputId": "18ca8b5c-ba7c-4249-eae2-bc0b21f3a49f"
      },
      "source": [
        "import numpy as np\n",
        "b1 = np.ones(10) # 크기가 10인 1로 채워진 1차원 행열\n",
        "print(b1)\n",
        "b2 =np.zeros((3,3)) # 3행3열 0으로채워진 행열\n",
        "print(b2)\n",
        "ar1 = np.eye(2) # 항등(단위)행열, 대닥선은 1 나머지는 0 실수\n",
        "print(ar1)\n",
        "ar2 = np.eye(2, dtype=int) # 항등(단위)행열, 대닥선은 1 나머지는 0 정수\n",
        "print(ar2)\n",
        "ar3 = np.eye(3, k=1)  # 대각선 위치를 위로 한칸 이동\n",
        "print(ar3)\n",
        "ar4 = np.eye(3, k=-1) # 대각선 위치를 아래로 한칸 이동\n",
        "print(ar4)\n",
        "ar = np.arange(9).reshape((3,3))\n",
        "print(ar)\n",
        "d1 = np.diag(ar)  # 대각선 데이터 읽기\n",
        "print(d1)\n",
        "d2 = np.diag(ar, k=1) # 한칸위 대각선\n",
        "print(d2)\n",
        "d3 = np.diag(ar, k=-1) # 한칸 아래 대각선\n",
        "print(d3)\n",
        "d4 = np.empty((3,3))  # 가비지(현재 위치에 있는 값, 의미없음) 값\n",
        "print(d4)"
      ],
      "execution_count": 43,
      "outputs": [
        {
          "output_type": "stream",
          "text": [
            "[1. 1. 1. 1. 1. 1. 1. 1. 1. 1.]\n",
            "[[0. 0. 0.]\n",
            " [0. 0. 0.]\n",
            " [0. 0. 0.]]\n",
            "[[1. 0.]\n",
            " [0. 1.]]\n",
            "[[1 0]\n",
            " [0 1]]\n",
            "[[0. 1. 0.]\n",
            " [0. 0. 1.]\n",
            " [0. 0. 0.]]\n",
            "[[0. 0. 0.]\n",
            " [1. 0. 0.]\n",
            " [0. 1. 0.]]\n",
            "[[0 1 2]\n",
            " [3 4 5]\n",
            " [6 7 8]]\n",
            "[0 4 8]\n",
            "[1 5]\n",
            "[3 7]\n",
            "[[1.5e-323 4.0e-323 9.9e-324]\n",
            " [4.4e-323 4.9e-324 2.0e-323]\n",
            " [3.0e-323 3.5e-323 1.5e-323]]\n"
          ],
          "name": "stdout"
        }
      ]
    },
    {
      "cell_type": "code",
      "metadata": {
        "colab": {
          "base_uri": "https://localhost:8080/"
        },
        "id": "7YE6iRo-d-zI",
        "outputId": "d8bfe7bd-7ac9-43f4-a879-229d0a0e9637"
      },
      "source": [
        "import numpy as np\n",
        "x = np.array([18, 5, 10, 23, 19, -8, 10, 0, 0, 5, 2, 15, 8, 2, 5,\n",
        "              4, 15, -1, 4, -7, -24, 7, 9, -6, 23, -13])\n",
        "print('갯수 :',len(x))\n",
        "print('합계 :',np.sum(x))\n",
        "print('평균 :',np.mean(x), np.average(x))\n",
        "print('분산 :',np.var(x))\n",
        "print('표준편차 :',np.std(x))\n",
        "print('최대 :',np.max(x))\n",
        "print('최소 :',np.min(x))\n",
        "print('중앙값 :',np.median(x))"
      ],
      "execution_count": 44,
      "outputs": [
        {
          "output_type": "stream",
          "text": [
            "갯수 : 26\n",
            "합계 : 125\n",
            "평균 : 4.8076923076923075 4.8076923076923075\n",
            "분산 : 115.23224852071006\n",
            "표준편차 : 10.734628476137871\n",
            "최대 : 23\n",
            "최소 : -24\n",
            "중앙값 : 5.0\n"
          ],
          "name": "stdout"
        }
      ]
    },
    {
      "cell_type": "code",
      "metadata": {
        "colab": {
          "base_uri": "https://localhost:8080/"
        },
        "id": "xOIZpxPOeEoT",
        "outputId": "29e06681-d9d7-4af1-d5ba-bb3c7afb86d3"
      },
      "source": [
        "import numpy as np\n",
        "ar = np.arange(10).reshape(2,5)\n",
        "print(ar)\n",
        "print(ar.T) # 행과 열을 변경\n",
        "print(ar.transpose()) # 행과 열을 변경\n",
        "# br 0 19 4행 5열 -> 행과 열을 교환\n",
        "br = np.arange(20).reshape(4, 5)\n",
        "print(br)\n",
        "print(br.T)\n",
        "print(br.transpose())\n"
      ],
      "execution_count": 45,
      "outputs": [
        {
          "output_type": "stream",
          "text": [
            "[[0 1 2 3 4]\n",
            " [5 6 7 8 9]]\n",
            "[[0 5]\n",
            " [1 6]\n",
            " [2 7]\n",
            " [3 8]\n",
            " [4 9]]\n",
            "[[0 5]\n",
            " [1 6]\n",
            " [2 7]\n",
            " [3 8]\n",
            " [4 9]]\n",
            "[[ 0  1  2  3  4]\n",
            " [ 5  6  7  8  9]\n",
            " [10 11 12 13 14]\n",
            " [15 16 17 18 19]]\n",
            "[[ 0  5 10 15]\n",
            " [ 1  6 11 16]\n",
            " [ 2  7 12 17]\n",
            " [ 3  8 13 18]\n",
            " [ 4  9 14 19]]\n",
            "[[ 0  5 10 15]\n",
            " [ 1  6 11 16]\n",
            " [ 2  7 12 17]\n",
            " [ 3  8 13 18]\n",
            " [ 4  9 14 19]]\n"
          ],
          "name": "stdout"
        }
      ]
    },
    {
      "cell_type": "code",
      "metadata": {
        "colab": {
          "base_uri": "https://localhost:8080/"
        },
        "id": "iPA62bnweG9A",
        "outputId": "f293c0fd-e5ce-4ca1-eab6-485422d4fd94"
      },
      "source": [
        "#                    0 1 2    2 1 0     1, 0, 2\n",
        "import numpy as np # 2 3 2 -> 2 3 2 ->  3  2  2\n",
        "ar = np.array([\n",
        "    [[1,2],  [3,4],  [5,6]],\n",
        "    [[71,72], [73,74],  [75,76]]])\n",
        "print(ar)\n",
        "print('\\n\\n')\n",
        "print(ar.transpose())\n",
        "print('\\n\\n')\n",
        "print(ar.transpose(2, 1 ,0))\n",
        "print('\\n\\n')\n",
        "print(ar.transpose(1 ,0, 2))"
      ],
      "execution_count": 47,
      "outputs": [
        {
          "output_type": "stream",
          "text": [
            "[[[ 1  2]\n",
            "  [ 3  4]\n",
            "  [ 5  6]]\n",
            "\n",
            " [[71 72]\n",
            "  [73 74]\n",
            "  [75 76]]]\n",
            "\n",
            "\n",
            "\n",
            "[[[ 1 71]\n",
            "  [ 3 73]\n",
            "  [ 5 75]]\n",
            "\n",
            " [[ 2 72]\n",
            "  [ 4 74]\n",
            "  [ 6 76]]]\n",
            "\n",
            "\n",
            "\n",
            "[[[ 1 71]\n",
            "  [ 3 73]\n",
            "  [ 5 75]]\n",
            "\n",
            " [[ 2 72]\n",
            "  [ 4 74]\n",
            "  [ 6 76]]]\n",
            "\n",
            "\n",
            "\n",
            "[[[ 1  2]\n",
            "  [71 72]]\n",
            "\n",
            " [[ 3  4]\n",
            "  [73 74]]\n",
            "\n",
            " [[ 5  6]\n",
            "  [75 76]]]\n"
          ],
          "name": "stdout"
        }
      ]
    },
    {
      "cell_type": "code",
      "metadata": {
        "colab": {
          "base_uri": "https://localhost:8080/"
        },
        "id": "vdtVsHaxeJFz",
        "outputId": "88fc3525-b174-4dc7-8166-ba324313e09b"
      },
      "source": [
        "from pandas import Series, DataFrame\n",
        "items = {'code': [1,2,3,4,5,6],\n",
        "'name':['apple','watermelon','oriental melon','banana','lemon','mango'],\n",
        "'manufacture': ['korea', 'korea', 'korea','philippines','korea',\n",
        "                'taiwan'],\n",
        "'price':[1500, 15000,1000,500,1500,700]}\n",
        "data = DataFrame(items)\n",
        "print(data)\n"
      ],
      "execution_count": 51,
      "outputs": [
        {
          "output_type": "stream",
          "text": [
            "   code            name  manufacture  price\n",
            "0     1           apple        korea   1500\n",
            "1     2      watermelon        korea  15000\n",
            "2     3  oriental melon        korea   1000\n",
            "3     4          banana  philippines    500\n",
            "4     5           lemon        korea   1500\n",
            "5     6           mango       taiwan    700\n"
          ],
          "name": "stdout"
        }
      ]
    },
    {
      "cell_type": "code",
      "metadata": {
        "colab": {
          "base_uri": "https://localhost:8080/"
        },
        "id": "oVA9DyS8elbT",
        "outputId": "b485407c-0be9-4fe8-ca80-8e47b88e2b09"
      },
      "source": [
        "from pandas import DataFrame, Series\n",
        "import numpy as np\n",
        "data = {\"2015\": [990432,3448737,2890451,2466052],\n",
        "        \"2010\": [9631482, 3393191, 2632035, 2431774],\n",
        "        \"2005\": [9762546, 3512547, 2517680, 2456016],\n",
        "        \"2000\": [9853972, 3655437, 2466338, 2473990],\n",
        "        \"지역\": [\"수도권\",\"경상권\",\"수도권\",\"경상권\"],\n",
        "        \"2010-2015증가율\":[0.0283,0.0163,0.0982,0.0141]\n",
        "        }\n",
        "index = [\"서울\",\"부산\",\"인천\",\"대구\"]\n",
        "df = DataFrame(data, index=index,columns=column)\n",
        "print(df)\n",
        "print(df.index)\n"
      ],
      "execution_count": 52,
      "outputs": [
        {
          "output_type": "stream",
          "text": [
            "     지역     2015     2010     2005     2000  2010-2015증가율\n",
            "서울  수도권   990432  9631482  9762546  9853972        0.0283\n",
            "부산  경상권  3448737  3393191  3512547  3655437        0.0163\n",
            "인천  수도권  2890451  2632035  2517680  2466338        0.0982\n",
            "대구  경상권  2466052  2431774  2456016  2473990        0.0141\n",
            "Index(['서울', '부산', '인천', '대구'], dtype='object')\n"
          ],
          "name": "stdout"
        }
      ]
    },
    {
      "cell_type": "code",
      "metadata": {
        "colab": {
          "base_uri": "https://localhost:8080/"
        },
        "id": "O0ty9CA0enbi",
        "outputId": "f3252eca-1c05-46f0-be55-dc79a7c9c851"
      },
      "source": [
        "from pandas import Series, DataFrame\n",
        "items = {'1':{'name':'apple', 'manufacture':'korea', 'price':1500},\n",
        "'2': {'name': 'watermelon', 'manufacture': 'korea', 'price': 15000},\n",
        "'3': {'name':'oriental melon','manufacture': 'korea','price': 1000},\n",
        "'4': {'name': 'banana', 'manufacture': 'philippines', 'price': 500},\n",
        "'5': {'name': 'lemon', 'manufacture': 'korea', 'price': 1500},\n",
        "'6': {'name': 'mango', 'manufacture': 'korea', 'price': 700}}\n",
        "data = DataFrame(items)\n",
        "print(data)\n",
        "print(data['1'])\n",
        "print(data[['1','3']])\n",
        "print(data[:1])\n",
        "print(data[1:3])\n",
        "data = data.T   #  행과 열을 변경\n",
        "# 컬럼명이 price중에서 값이 10001ㅗ다 큰 데이터\n",
        "print(data['price']>1000)\n",
        "# True데이터 만 출력력print(data[data['price']>1000])\n",
        "print(data.iloc[0])\n",
        "print(data.loc[:'1','name'])\n",
        "print(data.loc['1':'2',['name','price']])\n",
        "print(data.loc[:'3',['name','price']])   # 문자일 때는 포함\n",
        "print(data.loc[data.price>1000,['name','price']])"
      ],
      "execution_count": 53,
      "outputs": [
        {
          "output_type": "stream",
          "text": [
            "                 1           2               3            4      5      6\n",
            "name         apple  watermelon  oriental melon       banana  lemon  mango\n",
            "manufacture  korea       korea           korea  philippines  korea  korea\n",
            "price         1500       15000            1000          500   1500    700\n",
            "name           apple\n",
            "manufacture    korea\n",
            "price           1500\n",
            "Name: 1, dtype: object\n",
            "                 1               3\n",
            "name         apple  oriental melon\n",
            "manufacture  korea           korea\n",
            "price         1500            1000\n",
            "          1           2               3       4      5      6\n",
            "name  apple  watermelon  oriental melon  banana  lemon  mango\n",
            "                 1      2      3            4      5      6\n",
            "manufacture  korea  korea  korea  philippines  korea  korea\n",
            "price         1500  15000   1000          500   1500    700\n",
            "1     True\n",
            "2     True\n",
            "3    False\n",
            "4    False\n",
            "5     True\n",
            "6    False\n",
            "Name: price, dtype: bool\n",
            "name           apple\n",
            "manufacture    korea\n",
            "price           1500\n",
            "Name: 1, dtype: object\n",
            "1    apple\n",
            "Name: name, dtype: object\n",
            "         name  price\n",
            "1       apple   1500\n",
            "2  watermelon  15000\n",
            "             name  price\n",
            "1           apple   1500\n",
            "2      watermelon  15000\n",
            "3  oriental melon   1000\n",
            "         name  price\n",
            "1       apple   1500\n",
            "2  watermelon  15000\n",
            "5       lemon   1500\n"
          ],
          "name": "stdout"
        }
      ]
    },
    {
      "cell_type": "code",
      "metadata": {
        "colab": {
          "base_uri": "https://localhost:8080/"
        },
        "id": "c6d362Ize4Zq",
        "outputId": "a44ce2ba-efdc-411c-db74-8e4247c2dc18"
      },
      "source": [
        "import pandas as pd\n",
        "import numpy as np\n",
        "df = pd.DataFrame(np.arange(10, 22).reshape(3, 4), columns=[\"A\",\"B\",\"C\",\"D\"])\n",
        "print(df)\n",
        "print(df.iloc[0])\n",
        "#             행, 열\n",
        "print(df.iloc[0,1])\n",
        "print(df.iloc[:2,2]) # 0/1행 2열\n",
        "print(df.iloc[0,-2:]) # 0행 -2열부터 끝꺼지\n",
        "print(df.iloc[1:3, 1:3]) # 1/2행, 1/2열\n",
        "print(df.iloc[-1])  # 마지막 행\n",
        "df.iloc[-1] = df.iloc[-1] *2\n",
        "print(df)"
      ],
      "execution_count": 54,
      "outputs": [
        {
          "output_type": "stream",
          "text": [
            "    A   B   C   D\n",
            "0  10  11  12  13\n",
            "1  14  15  16  17\n",
            "2  18  19  20  21\n",
            "A    10\n",
            "B    11\n",
            "C    12\n",
            "D    13\n",
            "Name: 0, dtype: int64\n",
            "11\n",
            "0    12\n",
            "1    16\n",
            "Name: C, dtype: int64\n",
            "C    12\n",
            "D    13\n",
            "Name: 0, dtype: int64\n",
            "    B   C\n",
            "1  15  16\n",
            "2  19  20\n",
            "A    18\n",
            "B    19\n",
            "C    20\n",
            "D    21\n",
            "Name: 2, dtype: int64\n",
            "    A   B   C   D\n",
            "0  10  11  12  13\n",
            "1  14  15  16  17\n",
            "2  36  38  40  42\n"
          ],
          "name": "stdout"
        }
      ]
    },
    {
      "cell_type": "code",
      "metadata": {
        "colab": {
          "base_uri": "https://localhost:8080/"
        },
        "id": "FVSB29KUhMGO",
        "outputId": "9106aee7-34e5-4d61-e2ab-00ff156e2bb4"
      },
      "source": [
        "import pandas as pd\n",
        "import numpy as np\n",
        "fr = pd.DataFrame(np.arange(8).reshape(2,4), columns=['d','a','b','c'])\n",
        "print(fr)\n",
        "print('\\n')\n",
        "print(fr.sort_values(by=\"b\"))  # b값이 오름차순\n",
        "print('\\n')\n",
        "print(fr.sort_values(ascending=False,by=\"b\"))  # b값이 내림차순"
      ],
      "execution_count": 57,
      "outputs": [
        {
          "output_type": "stream",
          "text": [
            "   d  a  b  c\n",
            "0  0  1  2  3\n",
            "1  4  5  6  7\n",
            "\n",
            "\n",
            "   d  a  b  c\n",
            "0  0  1  2  3\n",
            "1  4  5  6  7\n",
            "\n",
            "\n",
            "   d  a  b  c\n",
            "1  4  5  6  7\n",
            "0  0  1  2  3\n"
          ],
          "name": "stdout"
        }
      ]
    },
    {
      "cell_type": "code",
      "metadata": {
        "colab": {
          "base_uri": "https://localhost:8080/"
        },
        "id": "t1uy6uu2hZee",
        "outputId": "352e54ba-df52-44b2-e12b-5edf84fb9dbb"
      },
      "source": [
        "import pandas as pd\n",
        "items = {'apple':{'count':None,'price':None},\n",
        "         'banana': {'count':None, 'price': 15000},\n",
        "         'melon': { 'count':7,'price': 1000},\n",
        "         'kiwi': {'count':20,'price': 500},\n",
        "         'mango': {'count':30,'price': 1500},\n",
        "         'orange': { 'count':4,'price': 700}}\n",
        "data = pd.DataFrame(items).T\n",
        "print(data)\n",
        "print(data.fillna(0))         # NA 0으로\n",
        "print(data.dropna())          # NA를 drop"
      ],
      "execution_count": 60,
      "outputs": [
        {
          "output_type": "stream",
          "text": [
            "       count  price\n",
            "apple   None   None\n",
            "banana   NaN  15000\n",
            "melon      7   1000\n",
            "kiwi      20    500\n",
            "mango     30   1500\n",
            "orange     4    700\n",
            "        count    price\n",
            "apple       0      0.0\n",
            "banana      0  15000.0\n",
            "melon       7   1000.0\n",
            "kiwi       20    500.0\n",
            "mango      30   1500.0\n",
            "orange      4    700.0\n",
            "       count price\n",
            "melon      7  1000\n",
            "kiwi      20   500\n",
            "mango     30  1500\n",
            "orange     4   700\n"
          ],
          "name": "stdout"
        }
      ]
    },
    {
      "cell_type": "code",
      "metadata": {
        "colab": {
          "base_uri": "https://localhost:8080/"
        },
        "id": "pFawTm4MhpWC",
        "outputId": "ee7b4dd3-0f33-49f4-d4ac-bf340eda9216"
      },
      "source": [
        "import pandas as pd\n",
        "# def f1(x):\n",
        "#     return x.sum()\n",
        "f1 = lambda x:x.sum()\n",
        "items = {'apple':{'count':10,'price':1500},\n",
        "         'banana': {'count':5, 'price': 15000},\n",
        "         'melon': { 'count':7,'price': 1000},\n",
        "         'kiwi': {'count':20,'price': 500},\n",
        "         'mango': {'count':30,'price': 1500},\n",
        "         'orange': { 'count':4,'price': 700}}\n",
        "data1 = pd.DataFrame(items).T # T는 transpose() 행열 변경\n",
        "print(data1)\n",
        "print(data1.apply(f1))  # 열별 합계\n",
        "print(data1.apply(f1, axis=1))  # 행별로 합계"
      ],
      "execution_count": 61,
      "outputs": [
        {
          "output_type": "stream",
          "text": [
            "        count  price\n",
            "apple      10   1500\n",
            "banana      5  15000\n",
            "melon       7   1000\n",
            "kiwi       20    500\n",
            "mango      30   1500\n",
            "orange      4    700\n",
            "count       76\n",
            "price    20200\n",
            "dtype: int64\n",
            "apple      1510\n",
            "banana    15005\n",
            "melon      1007\n",
            "kiwi        520\n",
            "mango      1530\n",
            "orange      704\n",
            "dtype: int64\n"
          ],
          "name": "stdout"
        }
      ]
    },
    {
      "cell_type": "code",
      "metadata": {
        "colab": {
          "base_uri": "https://localhost:8080/"
        },
        "id": "7gKJvnJ8hxAG",
        "outputId": "cbe09743-943e-4a48-f8f6-84b261c8e18b"
      },
      "source": [
        "import pandas as pd\n",
        "items = {'apple':{'count':10,'price':1500},\n",
        "         'banana': {'count':5, 'price': 15000},\n",
        "         'melon': { 'count':7,'price': 1000},\n",
        "         'kiwi': {'count':20,'price': 500},\n",
        "         'mango': {'count':30,'price': 1500},\n",
        "         'orange': { 'count':4,'price': 700}}\n",
        "data1 = pd.DataFrame(items).transpose() # 행열 변경\n",
        "print(data1)\n",
        "print(data1.applymap(lambda x:x*2))  # 건건이 적용"
      ],
      "execution_count": 65,
      "outputs": [
        {
          "output_type": "stream",
          "text": [
            "        count  price\n",
            "apple      10   1500\n",
            "banana      5  15000\n",
            "melon       7   1000\n",
            "kiwi       20    500\n",
            "mango      30   1500\n",
            "orange      4    700\n",
            "        count  price\n",
            "apple      20   3000\n",
            "banana     10  30000\n",
            "melon      14   2000\n",
            "kiwi       40   1000\n",
            "mango      60   3000\n",
            "orange      8   1400\n"
          ],
          "name": "stdout"
        }
      ]
    },
    {
      "cell_type": "code",
      "metadata": {
        "colab": {
          "base_uri": "https://localhost:8080/"
        },
        "id": "KjdJhgpYhyQz",
        "outputId": "b7053837-733d-4188-c8e9-9bbf2a061a59"
      },
      "source": [
        "import pandas as pd\n",
        "# dictionary\n",
        "data = {\"2015\": [990432,3448737,2890451,2466052],\n",
        "        \"2010\": [9631482, 3393191, 2632035, 2431774],\n",
        "        \"2005\": [9762546, 3512547, 2517680, 2456016],\n",
        "        \"2000\": [9853972, 3655437, 2466338, 2473990],\n",
        "        \"지역\": [\"수도권\",\"경상권\",\"수도권\",\"경상권\"],\n",
        "        \"2010-2015증가율\":[0.0283,0.0163,0.0982,0.0141]\n",
        "        }\n",
        "column=[\"지역\",\"2015\",\"2010\",\"2005\",\"2000\",\"2010-2015증가율\"]\n",
        "df = pd.DataFrame(data,columns=column)\n",
        "print(df['지역'])\n",
        "print(df[['2010','2015']])\n",
        "print(df['2010'])    # 컬럼명 x\n",
        "print(df[['2010']])  # 컬럼명 포함\n",
        "print(type(df['2010']))    # 컬럼명 x, df -> Series\n",
        "print(type(df[['2010']]))  # 컬럼명 포함  -> dataframe유지"
      ],
      "execution_count": 67,
      "outputs": [
        {
          "output_type": "stream",
          "text": [
            "0    수도권\n",
            "1    경상권\n",
            "2    수도권\n",
            "3    경상권\n",
            "Name: 지역, dtype: object\n",
            "      2010     2015\n",
            "0  9631482   990432\n",
            "1  3393191  3448737\n",
            "2  2632035  2890451\n",
            "3  2431774  2466052\n",
            "0    9631482\n",
            "1    3393191\n",
            "2    2632035\n",
            "3    2431774\n",
            "Name: 2010, dtype: int64\n",
            "      2010\n",
            "0  9631482\n",
            "1  3393191\n",
            "2  2632035\n",
            "3  2431774\n",
            "<class 'pandas.core.series.Series'>\n",
            "<class 'pandas.core.frame.DataFrame'>\n"
          ],
          "name": "stdout"
        }
      ]
    },
    {
      "cell_type": "code",
      "metadata": {
        "id": "ZJFp2ZK0iQqH"
      },
      "source": [
        "df.to_csv('test.csv')"
      ],
      "execution_count": 69,
      "outputs": []
    },
    {
      "cell_type": "code",
      "metadata": {
        "colab": {
          "base_uri": "https://localhost:8080/",
          "height": 175
        },
        "id": "xh4qx6l3iWRc",
        "outputId": "61facc76-02be-4c21-8aed-d16f868c5149"
      },
      "source": [
        "pd.read_csv('test.csv')"
      ],
      "execution_count": 70,
      "outputs": [
        {
          "output_type": "execute_result",
          "data": {
            "text/html": [
              "<div>\n",
              "<style scoped>\n",
              "    .dataframe tbody tr th:only-of-type {\n",
              "        vertical-align: middle;\n",
              "    }\n",
              "\n",
              "    .dataframe tbody tr th {\n",
              "        vertical-align: top;\n",
              "    }\n",
              "\n",
              "    .dataframe thead th {\n",
              "        text-align: right;\n",
              "    }\n",
              "</style>\n",
              "<table border=\"1\" class=\"dataframe\">\n",
              "  <thead>\n",
              "    <tr style=\"text-align: right;\">\n",
              "      <th></th>\n",
              "      <th>Unnamed: 0</th>\n",
              "      <th>지역</th>\n",
              "      <th>2015</th>\n",
              "      <th>2010</th>\n",
              "      <th>2005</th>\n",
              "      <th>2000</th>\n",
              "      <th>2010-2015증가율</th>\n",
              "    </tr>\n",
              "  </thead>\n",
              "  <tbody>\n",
              "    <tr>\n",
              "      <th>0</th>\n",
              "      <td>0</td>\n",
              "      <td>수도권</td>\n",
              "      <td>990432</td>\n",
              "      <td>9631482</td>\n",
              "      <td>9762546</td>\n",
              "      <td>9853972</td>\n",
              "      <td>0.0283</td>\n",
              "    </tr>\n",
              "    <tr>\n",
              "      <th>1</th>\n",
              "      <td>1</td>\n",
              "      <td>경상권</td>\n",
              "      <td>3448737</td>\n",
              "      <td>3393191</td>\n",
              "      <td>3512547</td>\n",
              "      <td>3655437</td>\n",
              "      <td>0.0163</td>\n",
              "    </tr>\n",
              "    <tr>\n",
              "      <th>2</th>\n",
              "      <td>2</td>\n",
              "      <td>수도권</td>\n",
              "      <td>2890451</td>\n",
              "      <td>2632035</td>\n",
              "      <td>2517680</td>\n",
              "      <td>2466338</td>\n",
              "      <td>0.0982</td>\n",
              "    </tr>\n",
              "    <tr>\n",
              "      <th>3</th>\n",
              "      <td>3</td>\n",
              "      <td>경상권</td>\n",
              "      <td>2466052</td>\n",
              "      <td>2431774</td>\n",
              "      <td>2456016</td>\n",
              "      <td>2473990</td>\n",
              "      <td>0.0141</td>\n",
              "    </tr>\n",
              "  </tbody>\n",
              "</table>\n",
              "</div>"
            ],
            "text/plain": [
              "   Unnamed: 0   지역     2015     2010     2005     2000  2010-2015증가율\n",
              "0           0  수도권   990432  9631482  9762546  9853972        0.0283\n",
              "1           1  경상권  3448737  3393191  3512547  3655437        0.0163\n",
              "2           2  수도권  2890451  2632035  2517680  2466338        0.0982\n",
              "3           3  경상권  2466052  2431774  2456016  2473990        0.0141"
            ]
          },
          "metadata": {
            "tags": []
          },
          "execution_count": 70
        }
      ]
    },
    {
      "cell_type": "code",
      "metadata": {
        "id": "jGG2ShEdiZVX"
      },
      "source": [
        ""
      ],
      "execution_count": null,
      "outputs": []
    }
  ]
}