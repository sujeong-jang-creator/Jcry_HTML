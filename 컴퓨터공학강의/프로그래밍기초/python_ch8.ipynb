{
  "nbformat": 4,
  "nbformat_minor": 0,
  "metadata": {
    "colab": {
      "name": "python_ch8.ipynb",
      "provenance": []
    },
    "kernelspec": {
      "name": "python3",
      "display_name": "Python 3"
    },
    "language_info": {
      "name": "python"
    }
  },
  "cells": [
    {
      "cell_type": "code",
      "metadata": {
        "id": "OgwRVj1aTjjn"
      },
      "source": [
        "file = open('test.txt','w', encoding='utf-8')\n",
        "file.write('Hello python\\n')\n",
        "file.write('안녕 컴동지들\\n')\n",
        "lines = ['안녕하세요','누구세요','반갑습니다\\n']\n",
        "# '\\n'.join 문장을 \\n을 포함하여 연결하라\n",
        "lines2 = ['대박\\n','사건\\n','허걱\\n']\n",
        "file.write('\\n'.join(lines)) # \\n이 포하되지 않았을 때\n",
        "file.writelines(lines2)      # join을 사용하지 않았을 때\n",
        "file.write(''.join(lines2)) # \\n이 포함되었을 때\n",
        "file.close()"
      ],
      "execution_count": 64,
      "outputs": []
    },
    {
      "cell_type": "code",
      "metadata": {
        "id": "VeEOoMUwTkRd"
      },
      "source": [
        "# 금요일, 오후 4시40분 test2.txt\n",
        "l1 = ['허걱','허각','허공']\n",
        "l2 = ['\\n구렁이','\\n팔렁이','\\n칠렁이']\n",
        "l3 = ['\\n구렁이','\\n구렁삼','\\n구렁사']\n",
        "file = open('test2.txt','w',encoding='utf-8')\n",
        "file.write('금요일\\n'); file.write('오후 4시40분\\n');\n",
        "file.write('\\n'.join(l1))\n",
        "file.writelines(l2)\n",
        "file.write(''.join(l3))\n",
        "file.close()"
      ],
      "execution_count": 65,
      "outputs": []
    },
    {
      "cell_type": "code",
      "metadata": {
        "colab": {
          "base_uri": "https://localhost:8080/"
        },
        "id": "OVHo2cGxwAGF",
        "outputId": "256eac65-fb73-4baf-c36a-1ab6601e4999"
      },
      "source": [
        "test1 = open('test.txt','r',encoding='utf-8')\n",
        "for line in test1:\n",
        "    print(line,end='')\n",
        "test1.close()\n",
        "test2 = open('test.txt','r',encoding='utf-8')\n",
        "content = test2.read()\n",
        "print(content)\n",
        "test2.close()\n",
        "test3 = open('test.txt','r',encoding='utf-8')\n",
        "lines = test3.readlines()\n",
        "print(lines)\n",
        "test3.close()"
      ],
      "execution_count": 66,
      "outputs": [
        {
          "output_type": "stream",
          "text": [
            "Hello python\n",
            "안녕 컴동지들\n",
            "안녕하세요\n",
            "누구세요\n",
            "반갑습니다\n",
            "대박\n",
            "사건\n",
            "허걱\n",
            "대박\n",
            "사건\n",
            "허걱\n",
            "Hello python\n",
            "안녕 컴동지들\n",
            "안녕하세요\n",
            "누구세요\n",
            "반갑습니다\n",
            "대박\n",
            "사건\n",
            "허걱\n",
            "대박\n",
            "사건\n",
            "허걱\n",
            "\n",
            "['Hello python\\n', '안녕 컴동지들\\n', '안녕하세요\\n', '누구세요\\n', '반갑습니다\\n', '대박\\n', '사건\\n', '허걱\\n', '대박\\n', '사건\\n', '허걱\\n']\n"
          ],
          "name": "stdout"
        }
      ]
    },
    {
      "cell_type": "code",
      "metadata": {
        "colab": {
          "base_uri": "https://localhost:8080/"
        },
        "id": "19ItDFnNwiVC",
        "outputId": "521c4bee-c19c-4c4b-80e3-0f13760239cc"
      },
      "source": [
        "file1 = open('test2.txt','r',encoding='utf-8')\n",
        "for line in file1: # 한줄씩 읽어서 처리\n",
        "    print(line, end='')\n",
        "file1.close()\n",
        "print('--------------')\n",
        "file2 = open('test2.txt','r',encoding='utf-8')\n",
        "content = file2.read() # 전부 읽기\n",
        "print(content)\n",
        "file2.close()\n",
        "print('==============')\n",
        "file3 = open('test2.txt','r',encoding='utf-8')\n",
        "lines = file3.readlines() # 읽어서 list형식\n",
        "print(lines)\n",
        "file3.close()"
      ],
      "execution_count": 67,
      "outputs": [
        {
          "output_type": "stream",
          "text": [
            "금요일\n",
            "오후 4시40분\n",
            "허걱\n",
            "허각\n",
            "허공\n",
            "구렁이\n",
            "팔렁이\n",
            "칠렁이\n",
            "구렁이\n",
            "구렁삼\n",
            "구렁사--------------\n",
            "금요일\n",
            "오후 4시40분\n",
            "허걱\n",
            "허각\n",
            "허공\n",
            "구렁이\n",
            "팔렁이\n",
            "칠렁이\n",
            "구렁이\n",
            "구렁삼\n",
            "구렁사\n",
            "==============\n",
            "['금요일\\n', '오후 4시40분\\n', '허걱\\n', '허각\\n', '허공\\n', '구렁이\\n', '팔렁이\\n', '칠렁이\\n', '구렁이\\n', '구렁삼\\n', '구렁사']\n"
          ],
          "name": "stdout"
        }
      ]
    },
    {
      "cell_type": "code",
      "metadata": {
        "id": "tJaPmhUzwyNs"
      },
      "source": [
        "f = open('add1.txt','w', encoding='utf-8')\n",
        "f.write('대박')\n",
        "f.close()\n",
        "# 기존에 있던 데이터를 지우고 새로 쓴다\n",
        "f = open('add1.txt','w', encoding='utf-8')\n",
        "f.write('사건\\n')\n",
        "f.close()\n",
        "# a(add) 기존에 데이터 뒤에 추가한다\n",
        "f = open('add1.txt','a', encoding='utf-8')\n",
        "f.write('자우지마')\n",
        "f.close()"
      ],
      "execution_count": 68,
      "outputs": []
    },
    {
      "cell_type": "code",
      "metadata": {
        "id": "UmX_93APxDX9"
      },
      "source": [
        "f1 = open('add1.txt','a',encoding='utf-8')\n",
        "for i in range(1,11):\n",
        "    f1.write('\\n{}개 추가했습니다'.format(i))\n",
        "f1.close()"
      ],
      "execution_count": 69,
      "outputs": []
    },
    {
      "cell_type": "code",
      "metadata": {
        "colab": {
          "base_uri": "https://localhost:8080/"
        },
        "id": "KveX9AdvxEq4",
        "outputId": "e732d926-270d-4651-ab21-908373ea5ede"
      },
      "source": [
        "f = open('bit.txt', 'wb')\n",
        "f.write('안녕 컴동지들'.encode())\n",
        "f.close()\n",
        "f = open('bit.txt', 'rb')\n",
        "data = f.read()\n",
        "# binary파일을 읽을 때는 반드시 decode해야 한다\n",
        "print(data.decode())\n",
        "f.close()"
      ],
      "execution_count": 70,
      "outputs": [
        {
          "output_type": "stream",
          "text": [
            "안녕 컴동지들\n"
          ],
          "name": "stdout"
        }
      ]
    },
    {
      "cell_type": "code",
      "metadata": {
        "colab": {
          "base_uri": "https://localhost:8080/"
        },
        "id": "arJaS621UBXQ",
        "outputId": "67677f89-7cd9-4fdd-cb23-151b4c0e7677"
      },
      "source": [
        "with open('t2.txt','w', encoding='utf-8') as f:\n",
        "    print('안녕', file=f)\n",
        "    print('대박', file=f)\n",
        "with open('t2.txt','r', encoding='utf-8') as f:\n",
        "    print(f.read())"
      ],
      "execution_count": 71,
      "outputs": [
        {
          "output_type": "stream",
          "text": [
            "안녕\n",
            "대박\n",
            "\n"
          ],
          "name": "stdout"
        }
      ]
    },
    {
      "cell_type": "code",
      "metadata": {
        "colab": {
          "base_uri": "https://localhost:8080/"
        },
        "id": "zXJDH570UD04",
        "outputId": "41f37c61-dbc2-4efc-b4ab-04bf7e47737d"
      },
      "source": [
        "import os\n",
        "# '/ 현재 디렉토리(폴더와 유사)\n",
        "# curlist = os.listdir(\"./\")\n",
        "curlist = os.listdir(\"./\")\n",
        "for name in curlist:\n",
        "    print(name)\n",
        "print(os.stat('./'))\n",
        "# mkdir make directory\n",
        "os.mkdir('imsi')\n",
        "# rmdir remove directory directory가 비워 있을 때만 가능\n",
        "os.rmdir('imsi')"
      ],
      "execution_count": 73,
      "outputs": [
        {
          "output_type": "stream",
          "text": [
            ".config\n",
            "test.txt\n",
            "add1.txt\n",
            "bit.txt\n",
            "test.sqlite\n",
            "test2.txt\n",
            "t2.txt\n",
            "sample_data\n",
            "os.stat_result(st_mode=16877, st_ino=1835032, st_dev=51, st_nlink=1, st_uid=0, st_gid=0, st_size=4096, st_atime=1625918842, st_mtime=1625918813, st_ctime=1625918813)\n"
          ],
          "name": "stdout"
        }
      ]
    },
    {
      "cell_type": "code",
      "metadata": {
        "colab": {
          "base_uri": "https://localhost:8080/"
        },
        "id": "z_lxSAN1UD4I",
        "outputId": "bc365cd7-3b8d-4bad-f6f0-f94c559cdfe7"
      },
      "source": [
        "import pickle\n",
        "class Person:\n",
        "  def __init__(self, num, name):\n",
        "    self.num = num\n",
        "    self.name= name\n",
        "\n",
        "p1 = Person(1,'철수'); p2 = Person(2,'영희')\n",
        "li = [p1, p2]\n",
        "# pickle는 byte단위로 데이터 저장할 때 사용\n",
        "with open('test.txt','wb') as f:\n",
        "    pickle.dump(li, f)\n",
        "with open('test.txt','rb') as f:\n",
        "    # load 객체로 된 byte데이터 읽을 때\n",
        "    result = pickle.load(f)\n",
        "    for i in result:\n",
        "      print(i.num, i.name)"
      ],
      "execution_count": 78,
      "outputs": [
        {
          "output_type": "stream",
          "text": [
            "1 철수\n",
            "2 영희\n"
          ],
          "name": "stdout"
        }
      ]
    },
    {
      "cell_type": "code",
      "metadata": {
        "colab": {
          "base_uri": "https://localhost:8080/"
        },
        "id": "KsKZG6vKVAfN",
        "outputId": "d950884f-66fb-4e09-ef73-e107603a4a76"
      },
      "source": [
        "with open('test2.txt', encoding='utf-8') as f: # with open을 이용할 경우 자동으로 close\n",
        "  tmp = f.read()\n",
        "print(tmp)"
      ],
      "execution_count": 81,
      "outputs": [
        {
          "output_type": "stream",
          "text": [
            "금요일\n",
            "오후 4시40분\n",
            "허걱\n",
            "허각\n",
            "허공\n",
            "구렁이\n",
            "팔렁이\n",
            "칠렁이\n",
            "구렁이\n",
            "구렁삼\n",
            "구렁사\n"
          ],
          "name": "stdout"
        }
      ]
    },
    {
      "cell_type": "code",
      "metadata": {
        "colab": {
          "base_uri": "https://localhost:8080/"
        },
        "id": "9tJHwvcBxFSw",
        "outputId": "f9aa37a2-87b5-4d1d-a91d-2162f91ab232"
      },
      "source": [
        ""
      ],
      "execution_count": 36,
      "outputs": [
        {
          "output_type": "execute_result",
          "data": {
            "text/plain": [
              "<sqlalchemy.engine.cursor.LegacyCursorResult at 0x7fc4b3231190>"
            ]
          },
          "metadata": {
            "tags": []
          },
          "execution_count": 36
        }
      ]
    },
    {
      "cell_type": "code",
      "metadata": {
        "id": "H_n95bjzNJAk"
      },
      "source": [
        ""
      ],
      "execution_count": null,
      "outputs": []
    }
  ]
}