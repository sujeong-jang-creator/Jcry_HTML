{
  "nbformat": 4,
  "nbformat_minor": 0,
  "metadata": {
    "colab": {
      "name": "python_ch5.ipynb",
      "provenance": []
    },
    "kernelspec": {
      "name": "python3",
      "display_name": "Python 3"
    },
    "language_info": {
      "name": "python"
    }
  },
  "cells": [
    {
      "cell_type": "code",
      "metadata": {
        "colab": {
          "base_uri": "https://localhost:8080/"
        },
        "id": "Mda3LIv9k0ax",
        "outputId": "7b022e3d-c5f2-408d-ebcc-7d243f4db1ee"
      },
      "source": [
        "def func(count):\n",
        "    if count>0:\n",
        "        print(count,'현재')\n",
        "        func(count-1)\n",
        "    print('결과',count)\n",
        "func(10)"
      ],
      "execution_count": 3,
      "outputs": [
        {
          "output_type": "stream",
          "text": [
            "10 현재\n",
            "9 현재\n",
            "8 현재\n",
            "7 현재\n",
            "6 현재\n",
            "5 현재\n",
            "4 현재\n",
            "3 현재\n",
            "2 현재\n",
            "1 현재\n",
            "결과 0\n",
            "결과 1\n",
            "결과 2\n",
            "결과 3\n",
            "결과 4\n",
            "결과 5\n",
            "결과 6\n",
            "결과 7\n",
            "결과 8\n",
            "결과 9\n",
            "결과 10\n"
          ],
          "name": "stdout"
        }
      ]
    },
    {
      "cell_type": "code",
      "metadata": {
        "colab": {
          "base_uri": "https://localhost:8080/",
          "height": 360
        },
        "id": "gIsiz9fQlK3H",
        "outputId": "324b763b-2646-4287-eb90-d010805241f0"
      },
      "source": [
        "def no_idea():\n",
        "    print('나는 아무 생각이 없다')\n",
        "    print('왜냐하면 아무 생각이 없기 때문이다.')\n",
        "    no_idea()"
      ],
      "execution_count": 22,
      "outputs": [
        {
          "output_type": "error",
          "ename": "UnboundLocalError",
          "evalue": "ignored",
          "traceback": [
            "\u001b[0;31m---------------------------------------------------------------------------\u001b[0m",
            "\u001b[0;31mUnboundLocalError\u001b[0m                         Traceback (most recent call last)",
            "\u001b[0;32m<ipython-input-22-f180867c24fe>\u001b[0m in \u001b[0;36m<module>\u001b[0;34m()\u001b[0m\n\u001b[1;32m      4\u001b[0m         \u001b[0ma\u001b[0m \u001b[0;34m=\u001b[0m \u001b[0ma\u001b[0m\u001b[0;34m+\u001b[0m\u001b[0;36m1\u001b[0m\u001b[0;34m\u001b[0m\u001b[0;34m\u001b[0m\u001b[0m\n\u001b[1;32m      5\u001b[0m     \u001b[0mfunc2\u001b[0m\u001b[0;34m(\u001b[0m\u001b[0;34m)\u001b[0m\u001b[0;34m\u001b[0m\u001b[0;34m\u001b[0m\u001b[0m\n\u001b[0;32m----> 6\u001b[0;31m \u001b[0mfunc1\u001b[0m\u001b[0;34m(\u001b[0m\u001b[0;34m)\u001b[0m\u001b[0;34m\u001b[0m\u001b[0;34m\u001b[0m\u001b[0m\n\u001b[0m",
            "\u001b[0;32m<ipython-input-22-f180867c24fe>\u001b[0m in \u001b[0;36mfunc1\u001b[0;34m()\u001b[0m\n\u001b[1;32m      3\u001b[0m     \u001b[0;32mdef\u001b[0m \u001b[0mfunc2\u001b[0m\u001b[0;34m(\u001b[0m\u001b[0;34m)\u001b[0m\u001b[0;34m:\u001b[0m\u001b[0;34m\u001b[0m\u001b[0;34m\u001b[0m\u001b[0m\n\u001b[1;32m      4\u001b[0m         \u001b[0ma\u001b[0m \u001b[0;34m=\u001b[0m \u001b[0ma\u001b[0m\u001b[0;34m+\u001b[0m\u001b[0;36m1\u001b[0m\u001b[0;34m\u001b[0m\u001b[0;34m\u001b[0m\u001b[0m\n\u001b[0;32m----> 5\u001b[0;31m     \u001b[0mfunc2\u001b[0m\u001b[0;34m(\u001b[0m\u001b[0;34m)\u001b[0m\u001b[0;34m\u001b[0m\u001b[0;34m\u001b[0m\u001b[0m\n\u001b[0m\u001b[1;32m      6\u001b[0m \u001b[0mfunc1\u001b[0m\u001b[0;34m(\u001b[0m\u001b[0;34m)\u001b[0m\u001b[0;34m\u001b[0m\u001b[0;34m\u001b[0m\u001b[0m\n",
            "\u001b[0;32m<ipython-input-22-f180867c24fe>\u001b[0m in \u001b[0;36mfunc2\u001b[0;34m()\u001b[0m\n\u001b[1;32m      2\u001b[0m     \u001b[0ma\u001b[0m \u001b[0;34m=\u001b[0m \u001b[0;36m1\u001b[0m\u001b[0;34m\u001b[0m\u001b[0;34m\u001b[0m\u001b[0m\n\u001b[1;32m      3\u001b[0m     \u001b[0;32mdef\u001b[0m \u001b[0mfunc2\u001b[0m\u001b[0;34m(\u001b[0m\u001b[0;34m)\u001b[0m\u001b[0;34m:\u001b[0m\u001b[0;34m\u001b[0m\u001b[0;34m\u001b[0m\u001b[0m\n\u001b[0;32m----> 4\u001b[0;31m         \u001b[0ma\u001b[0m \u001b[0;34m=\u001b[0m \u001b[0ma\u001b[0m\u001b[0;34m+\u001b[0m\u001b[0;36m1\u001b[0m\u001b[0;34m\u001b[0m\u001b[0;34m\u001b[0m\u001b[0m\n\u001b[0m\u001b[1;32m      5\u001b[0m     \u001b[0mfunc2\u001b[0m\u001b[0;34m(\u001b[0m\u001b[0;34m)\u001b[0m\u001b[0;34m\u001b[0m\u001b[0;34m\u001b[0m\u001b[0m\n\u001b[1;32m      6\u001b[0m \u001b[0mfunc1\u001b[0m\u001b[0;34m(\u001b[0m\u001b[0;34m)\u001b[0m\u001b[0;34m\u001b[0m\u001b[0;34m\u001b[0m\u001b[0m\n",
            "\u001b[0;31mUnboundLocalError\u001b[0m: local variable 'a' referenced before assignment"
          ]
        }
      ]
    },
    {
      "cell_type": "code",
      "metadata": {
        "colab": {
          "base_uri": "https://localhost:8080/"
        },
        "id": "bA3qJHDQl1Rt",
        "outputId": "8148206f-62a8-40d7-ce1d-62934a5a0e8a"
      },
      "source": [
        "x = [23, 45, 76]\n",
        "for i, s in enumerate(x):\n",
        "    # i에는 index, s에는 값이 추출\n",
        "    print(i,':', s)"
      ],
      "execution_count": 43,
      "outputs": [
        {
          "output_type": "stream",
          "text": [
            "0 : 23\n",
            "1 : 45\n",
            "2 : 76\n"
          ],
          "name": "stdout"
        }
      ]
    },
    {
      "cell_type": "code",
      "metadata": {
        "id": "DurwXtuKnLU9"
      },
      "source": [
        "result = map(lambda x:x+1, (1,2,3,4))"
      ],
      "execution_count": 29,
      "outputs": []
    },
    {
      "cell_type": "code",
      "metadata": {
        "colab": {
          "base_uri": "https://localhost:8080/"
        },
        "id": "dAFaf_AWrIqa",
        "outputId": "d9b5c149-9066-494f-e166-81c743dc540b"
      },
      "source": [
        "def fat1(num):\n",
        "    if num > 0:\n",
        "        return fat1(num - 1) * num\n",
        "    #  fat1(4)*5-> fat1(3)*4*5 -> fat(2)*3*4*5\n",
        "    #  -> fat1(1)*2*3*4*5 -> fat1(0)*1*2*3*4*5\n",
        "    #  -> 1 * 2 * 3 * 4 * 5\n",
        "    else:\n",
        "        return 1\n",
        "print(fat1(5))"
      ],
      "execution_count": 44,
      "outputs": [
        {
          "output_type": "stream",
          "text": [
            "120\n"
          ],
          "name": "stdout"
        }
      ]
    },
    {
      "cell_type": "code",
      "metadata": {
        "colab": {
          "base_uri": "https://localhost:8080/"
        },
        "id": "xpkxGzCOrN8X",
        "outputId": "04090f11-2399-497d-f771-37ab562c14c4"
      },
      "source": [
        "# 재귀함수를 사용하지 않고 factorial 값 구하기\n",
        "def fat1(num):\n",
        "    result = 1\n",
        "    for i in range(1,num + 1):\n",
        "        result *= i\n",
        "    return result\n",
        "print(fat1(5))\n",
        "print(fat1(6))"
      ],
      "execution_count": 45,
      "outputs": [
        {
          "output_type": "stream",
          "text": [
            "120\n",
            "720\n"
          ],
          "name": "stdout"
        }
      ]
    },
    {
      "cell_type": "code",
      "metadata": {
        "colab": {
          "base_uri": "https://localhost:8080/"
        },
        "id": "Y9rd8z5vwQkA",
        "outputId": "a4d61376-f833-4635-8e63-dfb0e0b2bc38"
      },
      "source": [
        "li = [1,2,3,4,5,6,7]\n",
        "result = list(filter(lambda x:x%2!=0,li))\n",
        "print(result)"
      ],
      "execution_count": 46,
      "outputs": [
        {
          "output_type": "stream",
          "text": [
            "[1, 3, 5, 7]\n"
          ],
          "name": "stdout"
        }
      ]
    },
    {
      "cell_type": "code",
      "metadata": {
        "colab": {
          "base_uri": "https://localhost:8080/"
        },
        "id": "YuWOhCuGy40j",
        "outputId": "32f2f0e3-cd5d-45f6-ef24-b317b9205cbc"
      },
      "source": [
        "import os\n",
        "os.environ"
      ],
      "execution_count": 40,
      "outputs": [
        {
          "output_type": "execute_result",
          "data": {
            "text/plain": [
              "environ({'NO_GCE_CHECK': 'True', 'GCS_READ_CACHE_BLOCK_SIZE_MB': '16', 'CLOUDSDK_CONFIG': '/content/.config', 'CUDA_VERSION': '11.0.3', 'PATH': '/usr/local/nvidia/bin:/usr/local/cuda/bin:/usr/local/sbin:/usr/local/bin:/usr/sbin:/usr/bin:/sbin:/bin:/tools/node/bin:/tools/google-cloud-sdk/bin:/opt/bin', 'HOME': '/root', 'LD_LIBRARY_PATH': '/usr/local/nvidia/lib:/usr/local/nvidia/lib64', 'LANG': 'en_US.UTF-8', 'SHELL': '/bin/bash', 'LIBRARY_PATH': '/usr/local/cuda/lib64/stubs', 'SHLVL': '0', 'GCE_METADATA_TIMEOUT': '0', 'NCCL_VERSION': '2.7.8', 'NVIDIA_VISIBLE_DEVICES': 'all', 'DEBIAN_FRONTEND': 'noninteractive', 'CUDNN_VERSION': '8.0.4.30', 'LAST_FORCED_REBUILD': '20210614', 'JPY_PARENT_PID': '51', 'PYTHONPATH': '/env/python', 'DATALAB_SETTINGS_OVERRIDES': '{\"kernelManagerProxyPort\":6000,\"kernelManagerProxyHost\":\"172.28.0.3\",\"jupyterArgs\":[\"--ip=\\\\\"172.28.0.2\\\\\"\"],\"debugAdapterMultiplexerPath\":\"/usr/local/bin/dap_multiplexer\",\"enableLsp\":true}', 'ENV': '/root/.bashrc', 'GLIBCXX_FORCE_NEW': '1', 'NVIDIA_DRIVER_CAPABILITIES': 'compute,utility', 'TF_FORCE_GPU_ALLOW_GROWTH': 'true', 'LD_PRELOAD': '/usr/lib/x86_64-linux-gnu/libtcmalloc.so.4', 'NVIDIA_REQUIRE_CUDA': 'cuda>=11.0 brand=tesla,driver>=418,driver<419 brand=tesla,driver>=440,driver<441 brand=tesla,driver>=450,driver<451', 'OLDPWD': '/', 'HOSTNAME': '48ad6cc17987', 'COLAB_GPU': '0', 'PWD': '/', 'CLOUDSDK_PYTHON': 'python3', 'GLIBCPP_FORCE_NEW': '1', 'PYTHONWARNINGS': 'ignore:::pip._internal.cli.base_command', 'TBE_CREDS_ADDR': '172.28.0.1:8008', 'TERM': 'xterm-color', 'CLICOLOR': '1', 'PAGER': 'cat', 'GIT_PAGER': 'cat', 'MPLBACKEND': 'module://ipykernel.pylab.backend_inline', 'PYDEVD_USE_FRAME_EVAL': 'NO'})"
            ]
          },
          "metadata": {
            "tags": []
          },
          "execution_count": 40
        }
      ]
    },
    {
      "cell_type": "code",
      "metadata": {
        "colab": {
          "base_uri": "https://localhost:8080/"
        },
        "id": "9Op_ge3Zy6Wi",
        "outputId": "c6cc1409-2034-4208-8736-3ed234140bc7"
      },
      "source": [
        "li = [0,1,2,3,4,5,6,7,8,9,10]\n",
        "# 5보다 큰 숫자만 출력\n",
        "result = list(filter(lambda x:x > 5, li))\n",
        "print(result)\n",
        "# 홀수만 출력\n",
        "result = list(filter(lambda x:x %2 == 1,li))\n",
        "print(result)\n"
      ],
      "execution_count": 47,
      "outputs": [
        {
          "output_type": "stream",
          "text": [
            "[6, 7, 8, 9, 10]\n",
            "[1, 3, 5, 7, 9]\n"
          ],
          "name": "stdout"
        }
      ]
    },
    {
      "cell_type": "code",
      "metadata": {
        "colab": {
          "base_uri": "https://localhost:8080/"
        },
        "id": "WwjtZ2wMy8el",
        "outputId": "2e2ed8bb-9493-414a-b291-350ab6d239f6"
      },
      "source": [
        "def print_something(v):\n",
        "    print(v)\n",
        "# print_something('철수')\n",
        "f = print_something # 함수명을 변수에 저장하여 사용 가능\n",
        "f(123)"
      ],
      "execution_count": 48,
      "outputs": [
        {
          "output_type": "stream",
          "text": [
            "123\n"
          ],
          "name": "stdout"
        }
      ]
    },
    {
      "cell_type": "code",
      "metadata": {
        "colab": {
          "base_uri": "https://localhost:8080/"
        },
        "id": "QQa4BfXzy-xM",
        "outputId": "897a0f12-449f-49a3-95df-099aa2fd43a9"
      },
      "source": [
        "def plus(x, y):\n",
        "    print(x + y)\n",
        "def minus(x, y):\n",
        "    print(x - y)\n",
        "# plus(2,3)\n",
        "# minus(2,3)\n",
        "f = [plus, minus] # 함수명을 list의 요소처럼 사용\n",
        "f[0](2, 3)\n",
        "f[1](2, 3)"
      ],
      "execution_count": 49,
      "outputs": [
        {
          "output_type": "stream",
          "text": [
            "5\n",
            "-1\n"
          ],
          "name": "stdout"
        }
      ]
    },
    {
      "cell_type": "code",
      "metadata": {
        "colab": {
          "base_uri": "https://localhost:8080/"
        },
        "id": "2Tgxac9q0chi",
        "outputId": "d1fee267-3935-471d-cb0e-b0e68c11ee34"
      },
      "source": [
        "def anyoung():\n",
        "    print('안녕하세요')\n",
        "def hello():\n",
        "    print(\"Hello \")\n",
        "def greet(f):\n",
        "    f()\n",
        "# 함수의 이름을 매개변수 처럼 사용\n",
        "greet(anyoung)\n",
        "greet(hello)"
      ],
      "execution_count": 50,
      "outputs": [
        {
          "output_type": "stream",
          "text": [
            "안녕하세요\n",
            "Hello \n"
          ],
          "name": "stdout"
        }
      ]
    },
    {
      "cell_type": "code",
      "metadata": {
        "colab": {
          "base_uri": "https://localhost:8080/"
        },
        "id": "vEx2yY7L0f4v",
        "outputId": "212a5fce-4820-4e9f-f691-d825522b76bd"
      },
      "source": [
        "def anyoung():\n",
        "    print('안녕하세요')\n",
        "def hello():\n",
        "    print(\"Hello \")\n",
        "def greet(f): # 함수이름도 return사용 가능\n",
        "    if f == 'k': result = anyoung\n",
        "    else: result = hello\n",
        "    return result\n",
        "x = greet('k')\n",
        "x()\n",
        "x = greet('e')\n",
        "x()"
      ],
      "execution_count": 51,
      "outputs": [
        {
          "output_type": "stream",
          "text": [
            "안녕하세요\n",
            "Hello \n"
          ],
          "name": "stdout"
        }
      ]
    },
    {
      "cell_type": "code",
      "metadata": {
        "colab": {
          "base_uri": "https://localhost:8080/"
        },
        "id": "JkW90Xzw0jin",
        "outputId": "edf79232-b37d-4cc6-b128-28a8b9305386"
      },
      "source": [
        "def insertion_sort(some_list):\n",
        "   for i in range(len(some_list)):\n",
        "       key = some_list[i]\n",
        "       j = i - 1\n",
        "       while j >= 0 and some_list[j] > key:\n",
        "           some_list[j + 1] = some_list[j]\n",
        "           j = j - 1\n",
        "       some_list[j + 1] = key\n",
        "some_list = [11, 3, 6, 4, 12, 1, 2]\n",
        "insertion_sort(some_list)\n",
        "print(some_list)"
      ],
      "execution_count": 52,
      "outputs": [
        {
          "output_type": "stream",
          "text": [
            "[1, 2, 3, 4, 6, 11, 12]\n"
          ],
          "name": "stdout"
        }
      ]
    },
    {
      "cell_type": "code",
      "metadata": {
        "colab": {
          "base_uri": "https://localhost:8080/"
        },
        "id": "TGE53WFa01Pb",
        "outputId": "2817c1b1-7f65-4427-c4b1-f4a9b1d6e69b"
      },
      "source": [
        "def f1():\n",
        "    return 1\n",
        "print(f1())\n",
        "f = lambda :1\n",
        "print(f())\n",
        "\n",
        "def f2(x, y):\n",
        "    return x + y\n",
        "print(f2(3, 6))\n",
        "#    lambda 인수 : return할 내용\n",
        "f3 = lambda x,y:x + y\n",
        "print(f3(3,6))"
      ],
      "execution_count": 53,
      "outputs": [
        {
          "output_type": "stream",
          "text": [
            "1\n",
            "1\n",
            "9\n",
            "9\n"
          ],
          "name": "stdout"
        }
      ]
    },
    {
      "cell_type": "code",
      "metadata": {
        "colab": {
          "base_uri": "https://localhost:8080/"
        },
        "id": "QK2dELrl03CT",
        "outputId": "f178722a-6d18-49fe-99d7-2733ee97dd78"
      },
      "source": [
        "def f1(x):\n",
        "    return x * x\n",
        "list1 = [1, 2, 3, 4, 5]\n",
        "list2 = []\n",
        "# for i in list1:\n",
        "#     print(f1(i))\n",
        "for i in list1:\n",
        "    list2.append(f1(i))\n",
        "print(list2)\n",
        "# list1안의 요소들을 함수 f1안에 대입하여 처리\n",
        "result = list(map(f1, list1))\n",
        "print(result)\n",
        "# 여기서 f1대신에 lamda함수, map은 for문 대신\n",
        "result2 = list(map(lambda x:x*x,list1))\n",
        "print(result2)"
      ],
      "execution_count": 54,
      "outputs": [
        {
          "output_type": "stream",
          "text": [
            "[1, 4, 9, 16, 25]\n",
            "[1, 4, 9, 16, 25]\n",
            "[1, 4, 9, 16, 25]\n"
          ],
          "name": "stdout"
        }
      ]
    },
    {
      "cell_type": "code",
      "metadata": {
        "colab": {
          "base_uri": "https://localhost:8080/"
        },
        "id": "dw7U3Gu60670",
        "outputId": "4249e37b-9b55-49c4-9bd5-77ea2de9d4d6"
      },
      "source": [
        "a1 = [1,2,3,4,5,6,7,8,9]\n",
        "# map과 lambda를 사용하여 3제곱\n",
        "result = list(map(lambda x:x*x*x, a1))\n",
        "print(result)\n",
        "result2 = list(map(lambda a,x : a*x, a1,a1))\n",
        "print(result2)"
      ],
      "execution_count": 62,
      "outputs": [
        {
          "output_type": "stream",
          "text": [
            "[1, 8, 27, 64, 125, 216, 343, 512, 729]\n",
            "[1, 4, 9, 16, 25, 36, 49, 64, 81]\n"
          ],
          "name": "stdout"
        }
      ]
    },
    {
      "cell_type": "code",
      "metadata": {
        "colab": {
          "base_uri": "https://localhost:8080/"
        },
        "id": "Bf3VRBN_08iD",
        "outputId": "e97f2218-387c-44ac-cf84-2ff3281a4bfa"
      },
      "source": [
        "score = [12, 67, 99]\n",
        "name = \"hellojango\"\n",
        "print(max(score))\n",
        "print(min(score))\n",
        "print(max(name))\n",
        "print(min(name))"
      ],
      "execution_count": 63,
      "outputs": [
        {
          "output_type": "stream",
          "text": [
            "99\n",
            "12\n",
            "o\n",
            "a\n"
          ],
          "name": "stdout"
        }
      ]
    },
    {
      "cell_type": "code",
      "metadata": {
        "colab": {
          "base_uri": "https://localhost:8080/"
        },
        "id": "Zk8Ks0lF1R0F",
        "outputId": "cac26c12-3dd7-4b0f-cf10-82aab095e011"
      },
      "source": [
        "import os\n",
        "print(os.environ)\n",
        "print(os.environ['PATH'])\n",
        "\n",
        "print(os.chdir('/'))\n",
        "print(os.getcwd())"
      ],
      "execution_count": 67,
      "outputs": [
        {
          "output_type": "stream",
          "text": [
            "environ({'NO_GCE_CHECK': 'True', 'GCS_READ_CACHE_BLOCK_SIZE_MB': '16', 'CLOUDSDK_CONFIG': '/content/.config', 'CUDA_VERSION': '11.0.3', 'PATH': '/usr/local/nvidia/bin:/usr/local/cuda/bin:/usr/local/sbin:/usr/local/bin:/usr/sbin:/usr/bin:/sbin:/bin:/tools/node/bin:/tools/google-cloud-sdk/bin:/opt/bin', 'HOME': '/root', 'LD_LIBRARY_PATH': '/usr/local/nvidia/lib:/usr/local/nvidia/lib64', 'LANG': 'en_US.UTF-8', 'SHELL': '/bin/bash', 'LIBRARY_PATH': '/usr/local/cuda/lib64/stubs', 'SHLVL': '0', 'GCE_METADATA_TIMEOUT': '0', 'NCCL_VERSION': '2.7.8', 'NVIDIA_VISIBLE_DEVICES': 'all', 'DEBIAN_FRONTEND': 'noninteractive', 'CUDNN_VERSION': '8.0.4.30', 'LAST_FORCED_REBUILD': '20210614', 'JPY_PARENT_PID': '51', 'PYTHONPATH': '/env/python', 'DATALAB_SETTINGS_OVERRIDES': '{\"kernelManagerProxyPort\":6000,\"kernelManagerProxyHost\":\"172.28.0.3\",\"jupyterArgs\":[\"--ip=\\\\\"172.28.0.2\\\\\"\"],\"debugAdapterMultiplexerPath\":\"/usr/local/bin/dap_multiplexer\",\"enableLsp\":true}', 'ENV': '/root/.bashrc', 'GLIBCXX_FORCE_NEW': '1', 'NVIDIA_DRIVER_CAPABILITIES': 'compute,utility', 'TF_FORCE_GPU_ALLOW_GROWTH': 'true', 'LD_PRELOAD': '/usr/lib/x86_64-linux-gnu/libtcmalloc.so.4', 'NVIDIA_REQUIRE_CUDA': 'cuda>=11.0 brand=tesla,driver>=418,driver<419 brand=tesla,driver>=440,driver<441 brand=tesla,driver>=450,driver<451', 'OLDPWD': '/', 'HOSTNAME': '48ad6cc17987', 'COLAB_GPU': '0', 'PWD': '/', 'CLOUDSDK_PYTHON': 'python3', 'GLIBCPP_FORCE_NEW': '1', 'PYTHONWARNINGS': 'ignore:::pip._internal.cli.base_command', 'TBE_CREDS_ADDR': '172.28.0.1:8008', 'TERM': 'xterm-color', 'CLICOLOR': '1', 'PAGER': 'cat', 'GIT_PAGER': 'cat', 'MPLBACKEND': 'module://ipykernel.pylab.backend_inline', 'PYDEVD_USE_FRAME_EVAL': 'NO'})\n",
            "/usr/local/nvidia/bin:/usr/local/cuda/bin:/usr/local/sbin:/usr/local/bin:/usr/sbin:/usr/bin:/sbin:/bin:/tools/node/bin:/tools/google-cloud-sdk/bin:/opt/bin\n",
            "None\n",
            "/\n"
          ],
          "name": "stdout"
        }
      ]
    },
    {
      "cell_type": "code",
      "metadata": {
        "colab": {
          "base_uri": "https://localhost:8080/"
        },
        "id": "COg_kkTB1mZt",
        "outputId": "ba0c9231-7768-4923-95de-f54a07ddceb4"
      },
      "source": [
        "import random\n",
        "# random.random 0과 1사이의 실수\n",
        "print(random.random())\n",
        "# 1 과 45사이의 정수를 랜덤\n",
        "print(random.randint(1,45))\n",
        "data = [1,2,3,4,5,6]\n",
        "# data를 랜덤하게 섞는다\n",
        "random.shuffle(data)\n",
        "print(data)"
      ],
      "execution_count": 68,
      "outputs": [
        {
          "output_type": "stream",
          "text": [
            "0.8524865046386684\n",
            "33\n",
            "[5, 3, 1, 2, 4, 6]\n"
          ],
          "name": "stdout"
        }
      ]
    },
    {
      "cell_type": "code",
      "metadata": {
        "colab": {
          "base_uri": "https://localhost:8080/"
        },
        "id": "BioqFy_Z1wzB",
        "outputId": "57b268c2-287f-4038-83ed-e296914b091d"
      },
      "source": [
        "def rec_sum(tot,num): # 함수내에서 자신의 함수를 호출\n",
        "    if num > 0:\n",
        "        tot += num\n",
        "        rec_sum(tot,num - 1)\n",
        "    else:\n",
        "        print(\"합계 :\", tot)\n",
        "rec_sum(0,10)\n",
        "rec_sum(0,7)"
      ],
      "execution_count": 69,
      "outputs": [
        {
          "output_type": "stream",
          "text": [
            "합계 : 55\n",
            "합계 : 28\n"
          ],
          "name": "stdout"
        }
      ]
    },
    {
      "cell_type": "code",
      "metadata": {
        "colab": {
          "base_uri": "https://localhost:8080/"
        },
        "id": "M9VlgW101z_R",
        "outputId": "a8c587b0-7fff-4d84-d896-7df92423a29a"
      },
      "source": [
        "def rec_f(num): # 재귀함수 자기가 자기를 호출하는 함수\n",
        "    if num > 0:\n",
        "        print(num)\n",
        "        rec_f(num - 1)\n",
        "    else:\n",
        "        print(\"끝\")\n",
        "rec_f(6)"
      ],
      "execution_count": 70,
      "outputs": [
        {
          "output_type": "stream",
          "text": [
            "6\n",
            "5\n",
            "4\n",
            "3\n",
            "2\n",
            "1\n",
            "끝\n"
          ],
          "name": "stdout"
        }
      ]
    },
    {
      "cell_type": "code",
      "metadata": {
        "colab": {
          "base_uri": "https://localhost:8080/"
        },
        "id": "lR_Jx6QS14QD",
        "outputId": "3e160872-41dc-4d4d-ccb8-525bee3e5cc5"
      },
      "source": [
        "li = [ 78, 34, 67, 99]\n",
        "print(sorted(li)) # default 오름차순\n",
        "print(sorted(li, reverse=True)) # revere는 내림 차순\n",
        "print(li)\n",
        "li.sort() # 원본 데이터의 순서 변경\n",
        "print(li)"
      ],
      "execution_count": 71,
      "outputs": [
        {
          "output_type": "stream",
          "text": [
            "[34, 67, 78, 99]\n",
            "[99, 78, 67, 34]\n",
            "[78, 34, 67, 99]\n",
            "[34, 67, 78, 99]\n"
          ],
          "name": "stdout"
        }
      ]
    },
    {
      "cell_type": "code",
      "metadata": {
        "colab": {
          "base_uri": "https://localhost:8080/"
        },
        "id": "A3FaPttV2Cct",
        "outputId": "b4d98306-39b7-4f38-85e2-f26babcabb68"
      },
      "source": [
        "import sys\n",
        "print(sys.path)"
      ],
      "execution_count": 72,
      "outputs": [
        {
          "output_type": "stream",
          "text": [
            "['', '/content', '/env/python', '/usr/lib/python37.zip', '/usr/lib/python3.7', '/usr/lib/python3.7/lib-dynload', '/usr/local/lib/python3.7/dist-packages', '/usr/lib/python3/dist-packages', '/usr/local/lib/python3.7/dist-packages/IPython/extensions', '/root/.ipython']\n"
          ],
          "name": "stdout"
        }
      ]
    },
    {
      "cell_type": "code",
      "metadata": {
        "colab": {
          "base_uri": "https://localhost:8080/"
        },
        "id": "zhsDSbDT2F76",
        "outputId": "930054a5-8cca-4e1c-f20f-99708fe1d254"
      },
      "source": [
        "import time\n",
        "print(time.time())\n",
        "print(time.localtime(time.time()))\n",
        "print(time.strftime('%Y/%m/%d %H:%M:%S',time.localtime(time.time())))"
      ],
      "execution_count": 75,
      "outputs": [
        {
          "output_type": "stream",
          "text": [
            "1625407665.9651113\n",
            "time.struct_time(tm_year=2021, tm_mon=7, tm_mday=4, tm_hour=14, tm_min=7, tm_sec=45, tm_wday=6, tm_yday=185, tm_isdst=0)\n",
            "2021/07/04 14:07:45\n"
          ],
          "name": "stdout"
        }
      ]
    },
    {
      "cell_type": "code",
      "metadata": {
        "colab": {
          "base_uri": "https://localhost:8080/"
        },
        "id": "A3DxILNs2Isz",
        "outputId": "2fc73401-b071-4d30-e5f5-34ba237ecc37"
      },
      "source": [
        "import time\n",
        "print('대박')\n",
        "time.sleep(2)\n",
        "print('사건')"
      ],
      "execution_count": 76,
      "outputs": [
        {
          "output_type": "stream",
          "text": [
            "대박\n",
            "사건\n"
          ],
          "name": "stdout"
        }
      ]
    },
    {
      "cell_type": "code",
      "metadata": {
        "colab": {
          "base_uri": "https://localhost:8080/"
        },
        "id": "ILZ_kwdg2NNZ",
        "outputId": "ef7b2d18-d4a3-46d9-828e-b8149cbb61c8"
      },
      "source": [
        "a1 = [90, 85, 95, 80, 90, 100, 85, 75, 85, 80]\n",
        "a2 = [95, 90, 90, 90, 95, 100, 90, 80, 95, 90]\n",
        "# 값 두개를 튜플형식으로 묶어 준다\n",
        "a = list(zip(a1, a2))\n",
        "print(a)\n",
        "for i, j in a:\n",
        "    print(i+j)"
      ],
      "execution_count": 77,
      "outputs": [
        {
          "output_type": "stream",
          "text": [
            "[(90, 95), (85, 90), (95, 90), (80, 90), (90, 95), (100, 100), (85, 90), (75, 80), (85, 95), (80, 90)]\n",
            "185\n",
            "175\n",
            "185\n",
            "170\n",
            "185\n",
            "200\n",
            "175\n",
            "155\n",
            "180\n",
            "170\n"
          ],
          "name": "stdout"
        }
      ]
    },
    {
      "cell_type": "code",
      "metadata": {
        "id": "CEsRgd3T2Pgy"
      },
      "source": [
        ""
      ],
      "execution_count": null,
      "outputs": []
    }
  ]
}