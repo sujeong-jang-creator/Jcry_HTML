{
  "nbformat": 4,
  "nbformat_minor": 0,
  "metadata": {
    "colab": {
      "name": "python_ch9.ipynb",
      "provenance": []
    },
    "kernelspec": {
      "name": "python3",
      "display_name": "Python 3"
    },
    "language_info": {
      "name": "python"
    }
  },
  "cells": [
    {
      "cell_type": "code",
      "metadata": {
        "colab": {
          "base_uri": "https://localhost:8080/"
        },
        "id": "qakGcEVCYqpc",
        "outputId": "cb05dbe6-96ec-41d4-9469-1ff711d311b6"
      },
      "source": [
        "import time, os\n",
        "from multiprocessing import Pool\n",
        "\n",
        "\n",
        "\n",
        "def func(x):\n",
        "    print(\"value {} is in Process ID : {}\".format(x, os.getpid()))\n",
        "    return x**5\n",
        "\n",
        "    \n",
        "\n",
        "if __name__ == \"__main__\":\n",
        "    start = int(time.time())\n",
        "    num_pool = 100  # 2\n",
        "    pool = Pool(num_pool)\n",
        "    print(pool.map(func, range(100)))\n",
        "    print(\"***run time(sec) :\", int(time.time()) - start)"
      ],
      "execution_count": 8,
      "outputs": [
        {
          "output_type": "stream",
          "text": [
            "value 0 is in PID : 6100\n",
            "value 9 is in PID : 6100\n",
            "value 13 is in PID : 6100\n",
            "value 16 is in PID : 6116\n",
            "value 22 is in PID : 6100\n",
            "value 30 is in PID : 6100\n",
            "value 27 is in PID : 6116\n",
            "value 42 is in PID : 6116\n",
            "value 18 is in PID : 6114\n",
            "value 5 is in PID : 6105\n",
            "value 12 is in PID : 6111\n",
            "value 21 is in PID : 6121\n",
            "value 20 is in PID : 6118\n",
            "value 4 is in PID : 6104\n",
            "value 39 is in PID : 6138\n",
            "value 36 is in PID : 6100\n",
            "value 25 is in PID : 6124\n",
            "value 29 is in PID : 6127\n",
            "value 28 is in PID : 6126\n",
            "value 37 is in PID : 6136\n",
            "value 43 is in PID : 6143\n",
            "value 67 is in PID : 6167\n",
            "value 58 is in PID : 6158\n",
            "value 69 is in PID : 6169\n",
            "value 54 is in PID : 6154\n",
            "value 50 is in PID : 6150\n",
            "value 59 is in PID : 6159\n",
            "value 33 is in PID : 6130\n",
            "value 56 is in PID : 6156\n",
            "value 10 is in PID : 6109\n",
            "value 32 is in PID : 6129\n",
            "value 72 is in PID : 6172\n",
            "value 8 is in PID : 6108\n",
            "value 7 is in PID : 6107\n",
            "value 40 is in PID : 6139\n",
            "value 31 is in PID : 6128\n",
            "value 19 is in PID : 6117\n",
            "value 26 is in PID : 6125\n",
            "value 14 is in PID : 6113\n",
            "value 53 is in PID : 6153\n",
            "value 60 is in PID : 6160\n",
            "value 57 is in PID : 6157\n",
            "value 88 is in PID : 6188\n",
            "value 75 is in PID : 6175\n",
            "value 1 is in PID : 6101\n",
            "value 41 is in PID : 6140\n",
            "value 83 is in PID : 6183\n",
            "value 87 is in PID : 6187\n",
            "value 24 is in PID : 6123\n",
            "value 46 is in PID : 6144\n",
            "value 11 is in PID : 6110\n",
            "value 91 is in PID : 6191\n",
            "value 2 is in PID : 6102\n",
            "value 78 is in PID : 6178\n",
            "value 65 is in PID : 6165\n",
            "value 34 is in PID : 6131\n",
            "value 61 is in PID : 6161\n",
            "value 79 is in PID : 6179\n",
            "value 77 is in PID : 6177\n",
            "value 90 is in PID : 6190\n",
            "value 63 is in PID : 6163\n",
            "value 99 is in PID : 6199\n",
            "value 66 is in PID : 6166\n",
            "value 51 is in PID : 6151\n",
            "value 44 is in PID : 6141\n",
            "value 73 is in PID : 6173\n",
            "value 68 is in PID : 6168\n",
            "value 96 is in PID : 6193\n",
            "value 55 is in PID : 6155\n",
            "value 62 is in PID : 6162\n",
            "value 52 is in PID : 6152\n",
            "value 70 is in PID : 6170\n",
            "value 82 is in PID : 6182\n",
            "value 71 is in PID : 6171\n",
            "value 86 is in PID : 6186\n",
            "[0, 1, 32, 243, 1024, 3125, 7776, 16807, 32768, 59049, 100000, 161051, 248832, 371293, 537824, 759375, 1048576, 1419857, 1889568, 2476099, 3200000, 4084101, 5153632, 6436343, 7962624, 9765625, 11881376, 14348907, 17210368, 20511149, 24300000, 28629151, 33554432, 39135393, 45435424, 52521875, 60466176, 69343957, 79235168, 90224199, 102400000, 115856201, 130691232, 147008443, 164916224, 184528125, 205962976, 229345007, 254803968, 282475249, 312500000, 345025251, 380204032, 418195493, 459165024, 503284375, 550731776, 601692057, 656356768, 714924299, 777600000, 844596301, 916132832, 992436543, 1073741824, 1160290625, 1252332576, 1350125107, 1453933568, 1564031349, 1680700000, 1804229351, 1934917632, 2073071593, 2219006624, 2373046875, 2535525376, 2706784157, 2887174368, 3077056399, 3276800000, 3486784401, 3707398432, 3939040643, 4182119424, 4437053125, 4704270176, 4984209207, 5277319168, 5584059449, 5904900000, 6240321451, 6590815232, 6956883693, 7339040224, 7737809375, 8153726976, 8587340257, 9039207968, 9509900499]\n",
            "***run time(sec) : 2\n",
            "value 97 is in PID : 6198\n",
            "value 95 is in PID : 6195\n",
            "value 35 is in PID : 6135\n",
            "value 64 is in PID : 6164\n",
            "value 85 is in PID : 6185\n",
            "value 81 is in PID : 6181\n",
            "value 74 is in PID : 6174\n",
            "value 98 is in PID : 6194\n",
            "value 48 is in PID : 6148\n",
            "value 76 is in PID : 6176\n",
            "value 80 is in PID : 6180\n",
            "value 3 is in PID : 6103\n",
            "value 92 is in PID : 6114\n",
            "value 94 is in PID : 6121\n",
            "value 15 is in PID : 6115\n",
            "value 23 is in PID : 6122\n",
            "value 6 is in PID : 6106\n",
            "value 38 is in PID : 6137\n",
            "value 49 is in PID : 6149\n",
            "value 17 is in PID : 6112\n",
            "value 93 is in PID : 6192\n",
            "value 45 is in PID : 6142\n",
            "value 89 is in PID : 6189\n",
            "value 84 is in PID : 6184\n",
            "value 47 is in PID : 6147\n"
          ],
          "name": "stdout"
        }
      ]
    },
    {
      "cell_type": "code",
      "metadata": {
        "colab": {
          "base_uri": "https://localhost:8080/"
        },
        "id": "Zl8Ve0LmZOvQ",
        "outputId": "9e29d913-1b29-48e9-8e33-11a7b11023de"
      },
      "source": [
        "import time, os\n",
        "from multiprocessing import Pool\n",
        "\n",
        "def func(x):\n",
        "    return x[0] * x[1]\n",
        "\n",
        "    \n",
        "\n",
        "if __name__ == \"__main__\":\n",
        "    start = int(time.time())\n",
        "    num_pool = 100  # 2\n",
        "    pool = Pool(num_pool)\n",
        "    print(pool.map(func, zip(range(100),range(100))))\n",
        "    print(\"***run time(sec) :\", int(time.time()) - start)"
      ],
      "execution_count": 9,
      "outputs": [
        {
          "output_type": "stream",
          "text": [
            "[0, 1, 4, 9, 16, 25, 36, 49, 64, 81, 100, 121, 144, 169, 196, 225, 256, 289, 324, 361, 400, 441, 484, 529, 576, 625, 676, 729, 784, 841, 900, 961, 1024, 1089, 1156, 1225, 1296, 1369, 1444, 1521, 1600, 1681, 1764, 1849, 1936, 2025, 2116, 2209, 2304, 2401, 2500, 2601, 2704, 2809, 2916, 3025, 3136, 3249, 3364, 3481, 3600, 3721, 3844, 3969, 4096, 4225, 4356, 4489, 4624, 4761, 4900, 5041, 5184, 5329, 5476, 5625, 5776, 5929, 6084, 6241, 6400, 6561, 6724, 6889, 7056, 7225, 7396, 7569, 7744, 7921, 8100, 8281, 8464, 8649, 8836, 9025, 9216, 9409, 9604, 9801]\n",
            "***run time(sec) : 2\n"
          ],
          "name": "stdout"
        }
      ]
    },
    {
      "cell_type": "code",
      "metadata": {
        "colab": {
          "base_uri": "https://localhost:8080/"
        },
        "id": "PMdzQywCadEh",
        "outputId": "f570b703-aad9-476f-9e63-5727b15d4eb7"
      },
      "source": [
        "import time, os\n",
        "from multiprocessing import Pool\n",
        "from functools import partial\n",
        "\n",
        "def func(x, y):\n",
        "    return x * y\n",
        "\n",
        "    \n",
        "\n",
        "if __name__ == \"__main__\":\n",
        "    start = int(time.time())\n",
        "    num_pool = 100  # 2\n",
        "    pool = Pool(num_pool)\n",
        "    print(pool.map(partial(func,y= 3), range(100)))\n",
        "    print(\"***run time(sec) :\", int(time.time()) - start)"
      ],
      "execution_count": 10,
      "outputs": [
        {
          "output_type": "stream",
          "text": [
            "[0, 3, 6, 9, 12, 15, 18, 21, 24, 27, 30, 33, 36, 39, 42, 45, 48, 51, 54, 57, 60, 63, 66, 69, 72, 75, 78, 81, 84, 87, 90, 93, 96, 99, 102, 105, 108, 111, 114, 117, 120, 123, 126, 129, 132, 135, 138, 141, 144, 147, 150, 153, 156, 159, 162, 165, 168, 171, 174, 177, 180, 183, 186, 189, 192, 195, 198, 201, 204, 207, 210, 213, 216, 219, 222, 225, 228, 231, 234, 237, 240, 243, 246, 249, 252, 255, 258, 261, 264, 267, 270, 273, 276, 279, 282, 285, 288, 291, 294, 297]\n",
            "***run time(sec) : 2\n"
          ],
          "name": "stdout"
        }
      ]
    },
    {
      "cell_type": "code",
      "metadata": {
        "id": "_sLbEP5jbgWO"
      },
      "source": [
        ""
      ],
      "execution_count": null,
      "outputs": []
    }
  ]
}