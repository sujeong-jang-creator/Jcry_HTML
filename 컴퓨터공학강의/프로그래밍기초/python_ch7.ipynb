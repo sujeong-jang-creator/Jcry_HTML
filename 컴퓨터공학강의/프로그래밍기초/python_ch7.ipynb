{
  "nbformat": 4,
  "nbformat_minor": 0,
  "metadata": {
    "colab": {
      "name": "python_ch7.ipynb",
      "provenance": []
    },
    "kernelspec": {
      "name": "python3",
      "display_name": "Python 3"
    },
    "language_info": {
      "name": "python"
    }
  },
  "cells": [
    {
      "cell_type": "code",
      "metadata": {
        "id": "FRJZM1KzLh5U",
        "colab": {
          "base_uri": "https://localhost:8080/",
          "height": 209
        },
        "outputId": "9dae5ced-8e98-4534-8f4b-389f95ade50d"
      },
      "source": [
        "# 추상클래스는 ABCMeta를 상속 받고 추상메소드가 있어야 함\n",
        "from abc import ABCMeta, abstractmethod\n",
        "class Abstract1 (metaclass=ABCMeta):\n",
        "    attr = \"추상클래스\"\n",
        "    @abstractmethod\n",
        "    def m1(self):\n",
        "        pass\n",
        "    def m2(self):\n",
        "        print('대박')\n",
        "#추상클래스는 객체를 못 만듬\n",
        "a1 = Abstract1()"
      ],
      "execution_count": 1,
      "outputs": [
        {
          "output_type": "error",
          "ename": "TypeError",
          "evalue": "ignored",
          "traceback": [
            "\u001b[0;31m---------------------------------------------------------------------------\u001b[0m",
            "\u001b[0;31mTypeError\u001b[0m                                 Traceback (most recent call last)",
            "\u001b[0;32m<ipython-input-1-5601cb69c986>\u001b[0m in \u001b[0;36m<module>\u001b[0;34m()\u001b[0m\n\u001b[1;32m      9\u001b[0m         \u001b[0mprint\u001b[0m\u001b[0;34m(\u001b[0m\u001b[0;34m'대박'\u001b[0m\u001b[0;34m)\u001b[0m\u001b[0;34m\u001b[0m\u001b[0;34m\u001b[0m\u001b[0m\n\u001b[1;32m     10\u001b[0m \u001b[0;31m#추상클래스는 객체를 못 만듬\u001b[0m\u001b[0;34m\u001b[0m\u001b[0;34m\u001b[0m\u001b[0;34m\u001b[0m\u001b[0m\n\u001b[0;32m---> 11\u001b[0;31m \u001b[0ma1\u001b[0m \u001b[0;34m=\u001b[0m \u001b[0mAbstract1\u001b[0m\u001b[0;34m(\u001b[0m\u001b[0;34m)\u001b[0m\u001b[0;34m\u001b[0m\u001b[0;34m\u001b[0m\u001b[0m\n\u001b[0m",
            "\u001b[0;31mTypeError\u001b[0m: Can't instantiate abstract class Abstract1 with abstract methods m1"
          ]
        }
      ]
    },
    {
      "cell_type": "code",
      "metadata": {
        "colab": {
          "base_uri": "https://localhost:8080/"
        },
        "id": "JxXfk0IGL1bF",
        "outputId": "69366b40-abf6-45e8-9e26-ee73f79b3e36"
      },
      "source": [
        "from abc import *\n",
        "class A (metaclass=ABCMeta):\n",
        "    def prn(self):\n",
        "        print(\"대박\")\n",
        "    @abstractmethod\n",
        "    def p2(self):\n",
        "        pass\n",
        "# 추상클래스를 상속 받은 클래스는 반드시 추상메소드를 재정의\n",
        "class A1(A):\n",
        "    def aa(self):\n",
        "        print('사건')\n",
        "    def p2(self):\n",
        "        print(\"아 이건 필수네\")\n",
        "a1 = A1()\n",
        "a1.aa(); a1.p2()"
      ],
      "execution_count": 2,
      "outputs": [
        {
          "output_type": "stream",
          "text": [
            "사건\n",
            "아 이건 필수네\n"
          ],
          "name": "stdout"
        }
      ]
    },
    {
      "cell_type": "code",
      "metadata": {
        "id": "JDrAPB0KL4wz",
        "colab": {
          "base_uri": "https://localhost:8080/"
        },
        "outputId": "3ce90afb-9031-4d73-c9ee-0ac271043f9c"
      },
      "source": [
        "from abc import *\n",
        "class Animal(metaclass=ABCMeta):\n",
        "    def __init__(self,eat1=\"그냥\"):\n",
        "        self.eat1 = eat1\n",
        "    def eat(self): print(\"먹어야 산다\")\n",
        "    # 추상메서드 상속받은 자식이 재정의 해야 한다\n",
        "    @abstractmethod\n",
        "    def move(self): pass\n",
        "class Bird(Animal):\n",
        "    def move(self):\n",
        "        print('하늘을 난다 {}'.format(self.eat1))\n",
        "class Person(Animal):\n",
        "    def move(self): print('두발로 걷는다 {}'.format(self.eat1))\n",
        "class Fish(Animal):\n",
        "    def move(self): print(\"지느러미로 헤엄친다\")\n",
        "b1 = Bird();  p1 = Person(\"대박\");  f1 = Fish()\n",
        "animal = [b1, p1, f1]\n",
        "for an in animal:\n",
        "    print('==============')\n",
        "    an.eat(); an.move()"
      ],
      "execution_count": 3,
      "outputs": [
        {
          "output_type": "stream",
          "text": [
            "==============\n",
            "먹어야 산다\n",
            "하늘을 난다 그냥\n",
            "==============\n",
            "먹어야 산다\n",
            "두발로 걷는다 대박\n",
            "==============\n",
            "먹어야 산다\n",
            "지느러미로 헤엄친다\n"
          ],
          "name": "stdout"
        }
      ]
    },
    {
      "cell_type": "code",
      "metadata": {
        "id": "EEg4fq-nPEdx",
        "colab": {
          "base_uri": "https://localhost:8080/"
        },
        "outputId": "c479b394-9a33-4084-8c7b-c8495948895b"
      },
      "source": [
        "class A:\n",
        "    def m1(self):\n",
        "        print(\"점심시간\")\n",
        "class B(A):\n",
        "    def m2(self):\n",
        "        print(\"1차 프로젝트 종료일\")\n",
        "class C(B):\n",
        "    def m3(self):\n",
        "        print(\"뭘 그래\")\n",
        "c1 = C()\n",
        "c1.m1(); c1.m2(); c1.m3()"
      ],
      "execution_count": 5,
      "outputs": [
        {
          "output_type": "stream",
          "text": [
            "점심시간\n",
            "1차 프로젝트 종료일\n",
            "뭘 그래\n"
          ],
          "name": "stdout"
        }
      ]
    },
    {
      "cell_type": "code",
      "metadata": {
        "id": "VOqoQyW2PUWV",
        "colab": {
          "base_uri": "https://localhost:8080/"
        },
        "outputId": "848bbef4-1e13-43eb-a2dc-990f20148f3b"
      },
      "source": [
        "class Call:\n",
        "    # __call__: 객체를 메서드처럼 호출할 때 실행\n",
        "    def __call__(self, *a):\n",
        "        print('대박이야 :')\n",
        "        for i in a:\n",
        "            print(i)\n",
        "c1 = Call()\n",
        "c1()\n",
        "c1('뭐지','허걱','허각','허공')"
      ],
      "execution_count": 6,
      "outputs": [
        {
          "output_type": "stream",
          "text": [
            "대박이야 :\n",
            "대박이야 :\n",
            "뭐지\n",
            "허걱\n",
            "허각\n",
            "허공\n"
          ],
          "name": "stdout"
        }
      ]
    },
    {
      "cell_type": "code",
      "metadata": {
        "id": "Hb65Qdd6RKmr",
        "colab": {
          "base_uri": "https://localhost:8080/"
        },
        "outputId": "2dab4a56-f041-416e-c0db-d3026743c083"
      },
      "source": [
        "while True:\n",
        "    try:\n",
        "        li = [1, 2, 3]\n",
        "        print('인덱스 번호를 입력하세요')\n",
        "        num1 = input()\n",
        "        if num1 == 'x': break\n",
        "        num = int(num1)\n",
        "        print('{} / 2 = {}'.format(li[num], li[num]/2))\n",
        "    except Exception as err:\n",
        "        print(\"에러다 {}\".format(err))\n",
        "    else: # 에러가 발생하지 않았을 때 할 실행문\n",
        "        print('잘했어 친구')\n",
        "    finally: # 에러 발생여부와 관계없이 항생 실행\n",
        "        print('난 무조건이야 !!')"
      ],
      "execution_count": 7,
      "outputs": [
        {
          "output_type": "stream",
          "text": [
            "인덱스 번호를 입력하세요\n",
            "2\n",
            "3 / 2 = 1.5\n",
            "잘했어 치타\n",
            "난 무조건, 무조건이야 !!\n",
            "인덱스 번호를 입력하세요\n",
            "ㅌ\n",
            "에궁 에러 invalid literal for int() with base 10: 'ㅌ'\n",
            "난 무조건, 무조건이야 !!\n",
            "인덱스 번호를 입력하세요\n",
            "x\n",
            "난 무조건, 무조건이야 !!\n"
          ],
          "name": "stdout"
        }
      ]
    },
    {
      "cell_type": "code",
      "metadata": {
        "colab": {
          "base_uri": "https://localhost:8080/"
        },
        "id": "HWyD9-9CRMGp",
        "outputId": "9e568f93-e781-4f7c-fc38-3b164f89e573"
      },
      "source": [
        "from abc import *\n",
        "class Employ(metaclass=ABCMeta):\n",
        "    def __init__(self, name):   self.name=name\n",
        "    @abstractmethod\n",
        "    # 직원마다 급여체계가 다르다\n",
        "    def cal_sal(self):\n",
        "        pass\n",
        "    def bonus(self):\n",
        "        self.sal = self.cal_sal()\n",
        "        self.bonus = self.sal * 0.1\n",
        "    def prn(self):\n",
        "        print('----------')\n",
        "        print('이름 : {}'.format(self.name))\n",
        "        print('급여 : {0:.2f}원'.format(self.sal))\n",
        "        print('보너스 : {0:.2f}원'.format(self.bonus))\n",
        "class SalaryMan(Employ):\n",
        "    def __init__(self, name, annual):\n",
        "        super().__init__(name); self.annual = annual\n",
        "    def cal_sal(self): return  self.annual/12\n",
        "    def prn(self):\n",
        "        super().prn()\n",
        "        print('연봉 : {}원'.format(self.annual))\n",
        "class HourlyMan(Employ):\n",
        "    def __init__(self, name, work_hour, money_per_hour):\n",
        "        super().__init__(name); self.work_hour = work_hour\n",
        "        self.money_per_hour = money_per_hour\n",
        "    def cal_sal(self): return self.work_hour * self.money_per_hour\n",
        "    def prn(self):\n",
        "        super().prn()\n",
        "        print('단가 : {}원'.format(self.money_per_hour))\n",
        "        print('근무 : {}시간'.format(self.work_hour))\n",
        "s1 = SalaryMan('유느님', 500000)\n",
        "s2 = SalaryMan('신동엽', 400000)\n",
        "s3 = SalaryMan('이영자', 380000)\n",
        "h1 = HourlyMan('알리',15,22000)\n",
        "h2 = HourlyMan('IU',10, 25000)\n",
        "h3 = HourlyMan('제니',5, 18000)\n",
        "emps = [s1, s2, s3, h1, h2, h3]\n",
        "for emp in emps:\n",
        "    emp.bonus()\n",
        "    emp.prn()"
      ],
      "execution_count": 8,
      "outputs": [
        {
          "output_type": "stream",
          "text": [
            "----------\n",
            "이름 : 유느님\n",
            "급여 : 41666.67원\n",
            "보너스 : 4166.67원\n",
            "연봉 : 500000원\n",
            "----------\n",
            "이름 : 신동엽\n",
            "급여 : 33333.33원\n",
            "보너스 : 3333.33원\n",
            "연봉 : 400000원\n",
            "----------\n",
            "이름 : 이영자\n",
            "급여 : 31666.67원\n",
            "보너스 : 3166.67원\n",
            "연봉 : 380000원\n",
            "----------\n",
            "이름 : 알리\n",
            "급여 : 330000.00원\n",
            "보너스 : 33000.00원\n",
            "단가 : 22000원\n",
            "근무 : 15시간\n",
            "----------\n",
            "이름 : IU\n",
            "급여 : 250000.00원\n",
            "보너스 : 25000.00원\n",
            "단가 : 25000원\n",
            "근무 : 10시간\n",
            "----------\n",
            "이름 : 제니\n",
            "급여 : 90000.00원\n",
            "보너스 : 9000.00원\n",
            "단가 : 18000원\n",
            "근무 : 5시간\n"
          ],
          "name": "stdout"
        }
      ]
    },
    {
      "cell_type": "code",
      "metadata": {
        "id": "gcAfniupRNF-",
        "colab": {
          "base_uri": "https://localhost:8080/"
        },
        "outputId": "be0f1f74-775d-46f3-9b1a-7594c4b43913"
      },
      "source": [
        "result = 0\n",
        "try:#0  1  2  index3번째  데이터 없기 때문에\n",
        "    # [1, 2, 3][3]\n",
        "    # \"a\"+1\n",
        "    4 / 0\n",
        "except TypeError:    result += 1\n",
        "except ZeroDivisionError:   result += 2\n",
        "except IndexError:   result += 3\n",
        "finally:\n",
        "    result += 4\n",
        "print(result)"
      ],
      "execution_count": 9,
      "outputs": [
        {
          "output_type": "stream",
          "text": [
            "6\n"
          ],
          "name": "stdout"
        }
      ]
    },
    {
      "cell_type": "code",
      "metadata": {
        "colab": {
          "base_uri": "https://localhost:8080/"
        },
        "id": "A_p-TrhSVyrh",
        "outputId": "8c5d843d-56ff-47c9-b664-295e8dbd0f95"
      },
      "source": [
        "# Generator Expression\n",
        "# 내부함수인 yield를 수행\n",
        "g1 = (n*n for n in range(21))\n",
        "# print(list(g1))\n",
        "for i in range(10):\n",
        "     val = next(g1)\n",
        "     print(val)\n",
        "# 나머지 데이터 출력\n",
        "# for i in g1:\n",
        "#     print(i)"
      ],
      "execution_count": 10,
      "outputs": [
        {
          "output_type": "stream",
          "text": [
            "0\n",
            "1\n",
            "4\n",
            "9\n",
            "16\n",
            "25\n",
            "36\n",
            "49\n",
            "64\n",
            "81\n"
          ],
          "name": "stdout"
        }
      ]
    },
    {
      "cell_type": "code",
      "metadata": {
        "id": "uIHo6KFUVzmI",
        "colab": {
          "base_uri": "https://localhost:8080/"
        },
        "outputId": "766c7459-5f11-4c08-a71e-2d965579ef0d"
      },
      "source": [
        "def yourRange(start, end):\n",
        "    current = start\n",
        "    while current < end:\n",
        "        yield current\n",
        "        current+= 1\n",
        "    return\n",
        "\n",
        "for i in yourRange(0, 5):\n",
        "    print(i)"
      ],
      "execution_count": 11,
      "outputs": [
        {
          "output_type": "stream",
          "text": [
            "0\n",
            "1\n",
            "2\n",
            "3\n",
            "4\n"
          ],
          "name": "stdout"
        }
      ]
    },
    {
      "cell_type": "code",
      "metadata": {
        "id": "mpNXk86bYYMj",
        "colab": {
          "base_uri": "https://localhost:8080/"
        },
        "outputId": "04c214d7-81a0-445e-a85d-e94375ca2c4b"
      },
      "source": [
        "class Base:\n",
        "    def m1(self):\n",
        "        print(\"대박\")\n",
        "class Derived(Base): # 파이썬의 살속은 ()\n",
        "    def m2(self):\n",
        "        print(\"사건\")\n",
        "if __name__ == \"__main__\":\n",
        "    b1 = Base(); b1.m1(); # b1.m2() # Base에 m2라는 메소드가 없음\n",
        "    d1 = Derived(); d1.m1();  d1.m2()\n",
        "    # Derived에 없는 메소드  m1()이 실행되는 이유는 상속"
      ],
      "execution_count": 12,
      "outputs": [
        {
          "output_type": "stream",
          "text": [
            "대박\n",
            "대박\n",
            "사건\n"
          ],
          "name": "stdout"
        }
      ]
    },
    {
      "cell_type": "code",
      "metadata": {
        "colab": {
          "base_uri": "https://localhost:8080/"
        },
        "id": "Q8gnzYetYc8Y",
        "outputId": "0120058b-f27c-4f13-f0bc-e6afebae2f68"
      },
      "source": [
        "# 1**3, 2**3,... 10**3\n",
        "li = [ n**n for n in range(1,11)]\n",
        "print(li)"
      ],
      "execution_count": 14,
      "outputs": [
        {
          "output_type": "stream",
          "text": [
            "[1, 4, 27, 256, 3125, 46656, 823543, 16777216, 387420489, 10000000000]\n"
          ],
          "name": "stdout"
        }
      ]
    },
    {
      "cell_type": "code",
      "metadata": {
        "id": "UnbyW5jmYznj",
        "colab": {
          "base_uri": "https://localhost:8080/"
        },
        "outputId": "47148f61-4584-40ed-c68c-6a5053bad49b"
      },
      "source": [
        "class A:\n",
        "    def m1(self):\n",
        "        print(\"난 A\")\n",
        "class B:\n",
        "    def m2(self):\n",
        "        print(\"난 B\")\n",
        "class C:\n",
        "    def m3(self):\n",
        "        print(\"난 C\")\n",
        "class F(A, B, C):\n",
        "    pass\n",
        "f1 = F()\n",
        "f1.m1(); f1.m2(); f1.m3()"
      ],
      "execution_count": 15,
      "outputs": [
        {
          "output_type": "stream",
          "text": [
            "난 A\n",
            "난 B\n",
            "난 C\n"
          ],
          "name": "stdout"
        }
      ]
    },
    {
      "cell_type": "code",
      "metadata": {
        "colab": {
          "base_uri": "https://localhost:8080/"
        },
        "id": "kje9k77ejl36",
        "outputId": "1887cb28-d666-4487-981a-bb41190d3d4a"
      },
      "source": [
        "class MyException(Exception):\n",
        "    def __init__(self, arg):\n",
        "        super().__init__('정수가 아녀 : {}'.format(arg))\n",
        "def conver(num):\n",
        "    if num.isdigit():\n",
        "        return int(num)\n",
        "    else:\n",
        "        raise MyException(num)\n",
        "try:\n",
        "    print('숫자를 입력하세요')\n",
        "    num = input()\n",
        "    a = conver(num)\n",
        "except MyException as err:\n",
        "    print(\"에러네 : {}\".format(err))\n",
        "else:\n",
        "    print('입력한 수 {} 타입 {}'.format(a, type(a)))\n"
      ],
      "execution_count": 16,
      "outputs": [
        {
          "output_type": "stream",
          "text": [
            "숫자를 입력하세요\n",
            "2.5\n",
            "에러네 : 정수가 아녀 : 2.5\n"
          ],
          "name": "stdout"
        }
      ]
    },
    {
      "cell_type": "code",
      "metadata": {
        "colab": {
          "base_uri": "https://localhost:8080/"
        },
        "id": "MidSt61Njn6M",
        "outputId": "07c5c1a0-e15e-463b-dd54-cf1f9e49be27"
      },
      "source": [
        "class A1:\n",
        "    def m1(self):\n",
        "        print('난 A1야')\n",
        "# overriding은 부모와 매개변수와 이름이 같은 메서드\n",
        "# 재정의, 현재 객체와 가까운 메서드 사용\n",
        "class A2(A1):\n",
        "    def m1(self):\n",
        "        print('난 A2야')\n",
        "class A3(A2):\n",
        "    def m1(self):\n",
        "        print('난 A3야')\n",
        "a1 = A1(); a2 = A2(); a3 = A3();\n",
        "a1.m1();  a2.m1();  a3.m1()"
      ],
      "execution_count": 17,
      "outputs": [
        {
          "output_type": "stream",
          "text": [
            "난 A1야\n",
            "난 A2야\n",
            "난 A3야\n"
          ],
          "name": "stdout"
        }
      ]
    },
    {
      "cell_type": "code",
      "metadata": {
        "colab": {
          "base_uri": "https://localhost:8080/"
        },
        "id": "B8UbQCQvjumq",
        "outputId": "405e0343-9e9b-4980-b294-3a64aa82d903"
      },
      "source": [
        "try:\n",
        "    print('숫자를 입력하세요')\n",
        "    num = int(input())\n",
        "    print('숫자 :',num)\n",
        "    # 무조건 에러 발생, 테스트 등에서 강제 종료\n",
        "    raise Exception('에러야')\n",
        "except Exception as err:\n",
        "    print(\"에궁 {}\".format(err))"
      ],
      "execution_count": 19,
      "outputs": [
        {
          "output_type": "stream",
          "text": [
            "숫자를 입력하세요\n",
            "2\n",
            "숫자 : 2\n",
            "에궁 에러야\n"
          ],
          "name": "stdout"
        }
      ]
    },
    {
      "cell_type": "code",
      "metadata": {
        "colab": {
          "base_uri": "https://localhost:8080/"
        },
        "id": "-G9AqQ21jxjT",
        "outputId": "59670125-7ae8-4f8e-f73a-142603b60571"
      },
      "source": [
        "class Base:\n",
        "    def __init__(self, name):\n",
        "        print('Base.__init__()')\n",
        "        self.message = ' 안뇽'\n",
        "        print(name)\n",
        "# super() 무모의 생성자를 가르킴\n",
        "class Derived(Base):\n",
        "    def __init__(self):\n",
        "        print('Derived __init__()')\n",
        "        super().__init__('승현')\n",
        "        # self.message 부모릐 변수를 살속 받아서 사용\n",
        "        print('메세지 : {}'.format(self.message))\n",
        "d1 = Derived()\n"
      ],
      "execution_count": 23,
      "outputs": [
        {
          "output_type": "stream",
          "text": [
            "Derived __init__()\n",
            "Base.__init__()\n",
            "승현\n",
            "메세지 :  안뇽\n"
          ],
          "name": "stdout"
        }
      ]
    },
    {
      "cell_type": "code",
      "metadata": {
        "colab": {
          "base_uri": "https://localhost:8080/"
        },
        "id": "NKgMgeDPj8CC",
        "outputId": "3e93d3a0-c49e-44e1-84ea-436359a4bdb4"
      },
      "source": [
        "class A:\n",
        "    def __init__(self,name, age):\n",
        "        print(\"A__init__\")\n",
        "        self.name = name; self.age = age\n",
        "class B(A):\n",
        "    def __init__(self):\n",
        "        print(\"B__init__\")\n",
        "        super().__init__('승현', 15)\n",
        "    def print(self):\n",
        "        print(\"이름 : {}, 나이 : {}\".format(self.name, self.age))\n",
        "b1 = B(); b1.print()"
      ],
      "execution_count": 22,
      "outputs": [
        {
          "output_type": "stream",
          "text": [
            "B__init__\n",
            "A__init__\n",
            "이름 : 승현, 나이 : 15\n"
          ],
          "name": "stdout"
        }
      ]
    },
    {
      "cell_type": "code",
      "metadata": {
        "id": "o23f8N83kEGd"
      },
      "source": [
        ""
      ],
      "execution_count": null,
      "outputs": []
    }
  ]
}