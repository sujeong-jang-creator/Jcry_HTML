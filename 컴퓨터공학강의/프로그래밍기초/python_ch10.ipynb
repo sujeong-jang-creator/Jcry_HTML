{
  "nbformat": 4,
  "nbformat_minor": 0,
  "metadata": {
    "colab": {
      "name": "python_ch10.ipynb",
      "provenance": []
    },
    "kernelspec": {
      "name": "python3",
      "display_name": "Python 3"
    },
    "language_info": {
      "name": "python"
    }
  },
  "cells": [
    {
      "cell_type": "code",
      "metadata": {
        "id": "KzJAOUpzVSqM"
      },
      "source": [
        "import sqlalchemy\n",
        "engine = sqlalchemy.create_engine('sqlite:///test.sqlite')\n",
        "conn = engine.connect()\n",
        "conn.execute('CREATE TABLE test (col1 text, col2 text)')\n",
        "conn.execute(\"INSERT INTO test VALUES ('test1','test2')\")\n",
        "conn.execute('select * from test').fetchall()\n",
        "conn.close()"
      ],
      "execution_count": 1,
      "outputs": []
    },
    {
      "cell_type": "code",
      "metadata": {
        "colab": {
          "base_uri": "https://localhost:8080/"
        },
        "id": "YKK-eVO7VfiN",
        "outputId": "6e0ce264-7391-425f-ae00-9f77b35468a7"
      },
      "source": [
        "!pip install boto3"
      ],
      "execution_count": 4,
      "outputs": [
        {
          "output_type": "stream",
          "text": [
            "Collecting boto3\n",
            "\u001b[?25l  Downloading https://files.pythonhosted.org/packages/7a/65/c5fa632ca1c243d0f757c09cc4656f361dc1a9555f0b6d442e374f7ca8f6/boto3-1.17.109-py2.py3-none-any.whl (131kB)\n",
            "\u001b[K     |████████████████████████████████| 133kB 4.0MB/s \n",
            "\u001b[?25hCollecting botocore<1.21.0,>=1.20.109\n",
            "\u001b[?25l  Downloading https://files.pythonhosted.org/packages/07/53/779ef784d896647f53e629143b5002adee52ea4574aa3dfaa8a9fe322c92/botocore-1.20.109-py2.py3-none-any.whl (7.7MB)\n",
            "\u001b[K     |████████████████████████████████| 7.7MB 5.0MB/s \n",
            "\u001b[?25hCollecting s3transfer<0.5.0,>=0.4.0\n",
            "\u001b[?25l  Downloading https://files.pythonhosted.org/packages/63/d0/693477c688348654ddc21dcdce0817653a294aa43f41771084c25e7ff9c7/s3transfer-0.4.2-py2.py3-none-any.whl (79kB)\n",
            "\u001b[K     |████████████████████████████████| 81kB 7.6MB/s \n",
            "\u001b[?25hCollecting jmespath<1.0.0,>=0.7.1\n",
            "  Downloading https://files.pythonhosted.org/packages/07/cb/5f001272b6faeb23c1c9e0acc04d48eaaf5c862c17709d20e3469c6e0139/jmespath-0.10.0-py2.py3-none-any.whl\n",
            "Requirement already satisfied: python-dateutil<3.0.0,>=2.1 in /usr/local/lib/python3.7/dist-packages (from botocore<1.21.0,>=1.20.109->boto3) (2.8.1)\n",
            "Collecting urllib3<1.27,>=1.25.4\n",
            "\u001b[?25l  Downloading https://files.pythonhosted.org/packages/5f/64/43575537846896abac0b15c3e5ac678d787a4021e906703f1766bfb8ea11/urllib3-1.26.6-py2.py3-none-any.whl (138kB)\n",
            "\u001b[K     |████████████████████████████████| 143kB 42.7MB/s \n",
            "\u001b[?25hRequirement already satisfied: six>=1.5 in /usr/local/lib/python3.7/dist-packages (from python-dateutil<3.0.0,>=2.1->botocore<1.21.0,>=1.20.109->boto3) (1.15.0)\n",
            "\u001b[31mERROR: requests 2.23.0 has requirement urllib3!=1.25.0,!=1.25.1,<1.26,>=1.21.1, but you'll have urllib3 1.26.6 which is incompatible.\u001b[0m\n",
            "\u001b[31mERROR: datascience 0.10.6 has requirement folium==0.2.1, but you'll have folium 0.8.3 which is incompatible.\u001b[0m\n",
            "Installing collected packages: urllib3, jmespath, botocore, s3transfer, boto3\n",
            "  Found existing installation: urllib3 1.24.3\n",
            "    Uninstalling urllib3-1.24.3:\n",
            "      Successfully uninstalled urllib3-1.24.3\n",
            "Successfully installed boto3-1.17.109 botocore-1.20.109 jmespath-0.10.0 s3transfer-0.4.2 urllib3-1.26.6\n"
          ],
          "name": "stdout"
        }
      ]
    },
    {
      "cell_type": "code",
      "metadata": {
        "colab": {
          "base_uri": "https://localhost:8080/",
          "height": 360
        },
        "id": "LJuxLbXXVVYI",
        "outputId": "06bc9eea-c8b5-43ce-96ae-a54bab281e86"
      },
      "source": [
        "import boto3\n",
        "\n",
        "client = boto3.client(\n",
        "        's3',\n",
        "        aws_access_key_id='accessKeyId',\n",
        "        aws_secret_access_key='secretAccessKey',\n",
        "        use_ssl=False\n",
        ")\n",
        "obj = client.get_object(Bucket='bucketName', Key='object_key')"
      ],
      "execution_count": 5,
      "outputs": [
        {
          "output_type": "error",
          "ename": "ClientError",
          "evalue": "ignored",
          "traceback": [
            "\u001b[0;31m---------------------------------------------------------------------------\u001b[0m",
            "\u001b[0;31mClientError\u001b[0m                               Traceback (most recent call last)",
            "\u001b[0;32m<ipython-input-5-e68d93956e95>\u001b[0m in \u001b[0;36m<module>\u001b[0;34m()\u001b[0m\n\u001b[1;32m      7\u001b[0m         \u001b[0muse_ssl\u001b[0m\u001b[0;34m=\u001b[0m\u001b[0;32mFalse\u001b[0m\u001b[0;34m\u001b[0m\u001b[0;34m\u001b[0m\u001b[0m\n\u001b[1;32m      8\u001b[0m )\n\u001b[0;32m----> 9\u001b[0;31m \u001b[0mobj\u001b[0m \u001b[0;34m=\u001b[0m \u001b[0mclient\u001b[0m\u001b[0;34m.\u001b[0m\u001b[0mget_object\u001b[0m\u001b[0;34m(\u001b[0m\u001b[0mBucket\u001b[0m\u001b[0;34m=\u001b[0m\u001b[0;34m'bucketName'\u001b[0m\u001b[0;34m,\u001b[0m \u001b[0mKey\u001b[0m\u001b[0;34m=\u001b[0m\u001b[0;34m'object_key'\u001b[0m\u001b[0;34m)\u001b[0m\u001b[0;34m\u001b[0m\u001b[0;34m\u001b[0m\u001b[0m\n\u001b[0m",
            "\u001b[0;32m/usr/local/lib/python3.7/dist-packages/botocore/client.py\u001b[0m in \u001b[0;36m_api_call\u001b[0;34m(self, *args, **kwargs)\u001b[0m\n\u001b[1;32m    384\u001b[0m                     \"%s() only accepts keyword arguments.\" % py_operation_name)\n\u001b[1;32m    385\u001b[0m             \u001b[0;31m# The \"self\" in this scope is referring to the BaseClient.\u001b[0m\u001b[0;34m\u001b[0m\u001b[0;34m\u001b[0m\u001b[0;34m\u001b[0m\u001b[0m\n\u001b[0;32m--> 386\u001b[0;31m             \u001b[0;32mreturn\u001b[0m \u001b[0mself\u001b[0m\u001b[0;34m.\u001b[0m\u001b[0m_make_api_call\u001b[0m\u001b[0;34m(\u001b[0m\u001b[0moperation_name\u001b[0m\u001b[0;34m,\u001b[0m \u001b[0mkwargs\u001b[0m\u001b[0;34m)\u001b[0m\u001b[0;34m\u001b[0m\u001b[0;34m\u001b[0m\u001b[0m\n\u001b[0m\u001b[1;32m    387\u001b[0m \u001b[0;34m\u001b[0m\u001b[0m\n\u001b[1;32m    388\u001b[0m         \u001b[0m_api_call\u001b[0m\u001b[0;34m.\u001b[0m\u001b[0m__name__\u001b[0m \u001b[0;34m=\u001b[0m \u001b[0mstr\u001b[0m\u001b[0;34m(\u001b[0m\u001b[0mpy_operation_name\u001b[0m\u001b[0;34m)\u001b[0m\u001b[0;34m\u001b[0m\u001b[0;34m\u001b[0m\u001b[0m\n",
            "\u001b[0;32m/usr/local/lib/python3.7/dist-packages/botocore/client.py\u001b[0m in \u001b[0;36m_make_api_call\u001b[0;34m(self, operation_name, api_params)\u001b[0m\n\u001b[1;32m    703\u001b[0m             \u001b[0merror_code\u001b[0m \u001b[0;34m=\u001b[0m \u001b[0mparsed_response\u001b[0m\u001b[0;34m.\u001b[0m\u001b[0mget\u001b[0m\u001b[0;34m(\u001b[0m\u001b[0;34m\"Error\"\u001b[0m\u001b[0;34m,\u001b[0m \u001b[0;34m{\u001b[0m\u001b[0;34m}\u001b[0m\u001b[0;34m)\u001b[0m\u001b[0;34m.\u001b[0m\u001b[0mget\u001b[0m\u001b[0;34m(\u001b[0m\u001b[0;34m\"Code\"\u001b[0m\u001b[0;34m)\u001b[0m\u001b[0;34m\u001b[0m\u001b[0;34m\u001b[0m\u001b[0m\n\u001b[1;32m    704\u001b[0m             \u001b[0merror_class\u001b[0m \u001b[0;34m=\u001b[0m \u001b[0mself\u001b[0m\u001b[0;34m.\u001b[0m\u001b[0mexceptions\u001b[0m\u001b[0;34m.\u001b[0m\u001b[0mfrom_code\u001b[0m\u001b[0;34m(\u001b[0m\u001b[0merror_code\u001b[0m\u001b[0;34m)\u001b[0m\u001b[0;34m\u001b[0m\u001b[0;34m\u001b[0m\u001b[0m\n\u001b[0;32m--> 705\u001b[0;31m             \u001b[0;32mraise\u001b[0m \u001b[0merror_class\u001b[0m\u001b[0;34m(\u001b[0m\u001b[0mparsed_response\u001b[0m\u001b[0;34m,\u001b[0m \u001b[0moperation_name\u001b[0m\u001b[0;34m)\u001b[0m\u001b[0;34m\u001b[0m\u001b[0;34m\u001b[0m\u001b[0m\n\u001b[0m\u001b[1;32m    706\u001b[0m         \u001b[0;32melse\u001b[0m\u001b[0;34m:\u001b[0m\u001b[0;34m\u001b[0m\u001b[0;34m\u001b[0m\u001b[0m\n\u001b[1;32m    707\u001b[0m             \u001b[0;32mreturn\u001b[0m \u001b[0mparsed_response\u001b[0m\u001b[0;34m\u001b[0m\u001b[0;34m\u001b[0m\u001b[0m\n",
            "\u001b[0;31mClientError\u001b[0m: An error occurred (InvalidAccessKeyId) when calling the GetObject operation: The AWS Access Key Id you provided does not exist in our records."
          ]
        }
      ]
    },
    {
      "cell_type": "code",
      "metadata": {
        "colab": {
          "base_uri": "https://localhost:8080/"
        },
        "id": "VigA3h4FVY_K",
        "outputId": "79252c53-497f-4189-8566-cbd907ba3025"
      },
      "source": [
        "import re\n",
        "p = re.compile('a.b')  # \\n을 제외한 문자\n",
        "m = p.match('a\\nb')\n",
        "print(m)\n",
        "m = p.match('akb')\n",
        "print(m)\n",
        "m = p.match('a.b')\n",
        "print(m)\n",
        "p = re.compile('a.b', re.DOTALL) # \\n도 매치하독 함\n",
        "m = p.match('a\\nb')\n",
        "print(m)\n",
        "m = p.match('akb')\n",
        "print(m)"
      ],
      "execution_count": 6,
      "outputs": [
        {
          "output_type": "stream",
          "text": [
            "None\n",
            "<re.Match object; span=(0, 3), match='akb'>\n",
            "<re.Match object; span=(0, 3), match='a.b'>\n",
            "<re.Match object; span=(0, 3), match='a\\nb'>\n",
            "<re.Match object; span=(0, 3), match='akb'>\n"
          ],
          "name": "stdout"
        }
      ]
    },
    {
      "cell_type": "code",
      "metadata": {
        "colab": {
          "base_uri": "https://localhost:8080/"
        },
        "id": "8jo4Bzm2Vq04",
        "outputId": "557a1b00-ee68-45f7-a187-41d560b1d056"
      },
      "source": [
        "import re\n",
        "p = re.compile(\"a[.]{3,}\") # 점(.)이 3자이상\n",
        "# p = re.compile(\"a.{3,}\") # \\n을 제외하고 아무글자나 3자이상\n",
        "print(p.match(\"acccb\"))\n",
        "print(p.match(\"a....b\"))\n",
        "print(p.match(\"aaab\"))\n",
        "print(p.match(\"a.cccb\"))"
      ],
      "execution_count": 7,
      "outputs": [
        {
          "output_type": "stream",
          "text": [
            "None\n",
            "<re.Match object; span=(0, 5), match='a....'>\n",
            "None\n",
            "None\n"
          ],
          "name": "stdout"
        }
      ]
    },
    {
      "cell_type": "code",
      "metadata": {
        "colab": {
          "base_uri": "https://localhost:8080/"
        },
        "id": "RibBRfstVsDy",
        "outputId": "f0d0f6f0-d00c-4c7d-e902-fd017cca5459"
      },
      "source": [
        "import re\n",
        "p = re.compile(\"[a-z]+\") # 영문자 소문자 여러개\n",
        "#             012345678\n",
        "m = p.search(\"5 python\")\n",
        "print(m.start() + m.end()) # 2 + 8\n",
        "# m.start() pattern에 맞는 첫번째 인덱스\n",
        "# m.end() pattern에 맞는 마지막 인덱스"
      ],
      "execution_count": 8,
      "outputs": [
        {
          "output_type": "stream",
          "text": [
            "10\n"
          ],
          "name": "stdout"
        }
      ]
    },
    {
      "cell_type": "code",
      "metadata": {
        "colab": {
          "base_uri": "https://localhost:8080/"
        },
        "id": "Rg231ZZ9VthE",
        "outputId": "33d87215-ff8d-4d31-84b4-87e9f57279f2"
      },
      "source": [
        "import re\n",
        "data = \"\"\"\n",
        "park 010-1234-5678\n",
        "kim 010-1111-2222\"\"\"\n",
        "#               이름      전화번호 1,2 전화번호 끝 4자리\n",
        "p = re.compile('(\\w+)\\s(\\d+[-]\\d+)[-](\\d+)')\n",
        "print(p.sub(\"\\g<2>-**** \\g<1>\", data))\n",
        "print('========================')\n",
        "for i in data.split(\"\\n\"): # 3건 공란,2건\n",
        "    m = p.search(i)\n",
        "    if m != None:\n",
        "        print(m.group(2)+\"-****\"+\" \"+m.group(1))"
      ],
      "execution_count": 9,
      "outputs": [
        {
          "output_type": "stream",
          "text": [
            "\n",
            "010-1234-**** park\n",
            "010-1111-**** kim\n",
            "========================\n",
            "010-1234-**** park\n",
            "010-1111-**** kim\n"
          ],
          "name": "stdout"
        }
      ]
    },
    {
      "cell_type": "code",
      "metadata": {
        "colab": {
          "base_uri": "https://localhost:8080/"
        },
        "id": "CYSpq2eaVu4l",
        "outputId": "d6d1e934-8b37-4b53-8ed0-03aa1c956522"
      },
      "source": [
        "import re\n",
        "phone = \"\"\" \n",
        "park 010-9999-9988 \n",
        "kim 010-9909-7789 \n",
        "lee 010-8789-7768\n",
        "\"\"\"\n",
        "p = re.compile('(\\d{3}[-]\\d{3,4})[-]\\d{4}')\n",
        "print(p.sub(\"\\g<1>-####\", phone))\n"
      ],
      "execution_count": 10,
      "outputs": [
        {
          "output_type": "stream",
          "text": [
            " \n",
            "park 010-9999-#### \n",
            "kim 010-9909-#### \n",
            "lee 010-8789-####\n",
            "\n"
          ],
          "name": "stdout"
        }
      ]
    },
    {
      "cell_type": "code",
      "metadata": {
        "colab": {
          "base_uri": "https://localhost:8080/"
        },
        "id": "HG_7oTNFVwqg",
        "outputId": "515cad68-0e46-4ed0-a45f-7b3b6a8211ea"
      },
      "source": [
        "import re\n",
        "email = \"park@naver.com,kim@daum.net,lee@myhome.co.kr\"\n",
        "p = re.compile(\".*[@].*[.](?=com$|net$).*$\")\n",
        "for i in email.split(\",\"):\n",
        "    m = p.match(i)\n",
        "    if m != None:\n",
        "        print(m.group())"
      ],
      "execution_count": 11,
      "outputs": [
        {
          "output_type": "stream",
          "text": [
            "park@naver.com\n",
            "kim@daum.net\n"
          ],
          "name": "stdout"
        }
      ]
    },
    {
      "cell_type": "code",
      "metadata": {
        "colab": {
          "base_uri": "https://localhost:8080/"
        },
        "id": "Xrok4mh7VxxO",
        "outputId": "2582a2fd-77b4-40f9-9c30-33de8003a28e"
      },
      "source": [
        "import re\n",
        "# r은 raw 첫글자 _또는 영문자 두번째부터 숫자/문자 여러개\n",
        "p = re.compile(r'[_a-zA-Z]\\w*')\n",
        "m = p.search('123 abc 123 def')  # 조건에 맞는 단어 하나\n",
        "print(m.group())\n",
        "m = p.findall('123 abc 123 def') # 조건에 맞는 것 모두, 리스트형식\n",
        "print(m)\n",
        "p = re.compile('the')\n",
        "print(p.findall('The cat was hungry,He was scared because of the cat'))\n",
        "p = re.compile('the', re.I) # I : ignore 대소문자 구별 안함\n",
        "print(p.findall('The cat was hungry,He was scared because of the cat'))"
      ],
      "execution_count": 12,
      "outputs": [
        {
          "output_type": "stream",
          "text": [
            "abc\n",
            "['abc', 'def']\n",
            "['the']\n",
            "['The', 'the']\n"
          ],
          "name": "stdout"
        }
      ]
    },
    {
      "cell_type": "code",
      "metadata": {
        "colab": {
          "base_uri": "https://localhost:8080/"
        },
        "id": "CkJbeCEbVz50",
        "outputId": "4243e95c-eeeb-41e6-e8dc-188604ab4f14"
      },
      "source": [
        "import re\n",
        "p = re.compile('(ABC)+') # ABC묶여 있음\n",
        "m = p.match('ABCABCABCAABB OK')\n",
        "print(m)\n",
        "print(m.group())"
      ],
      "execution_count": 21,
      "outputs": [
        {
          "output_type": "stream",
          "text": [
            "<re.Match object; span=(0, 9), match='ABCABCABC'>\n",
            "ABCABCABC\n"
          ],
          "name": "stdout"
        }
      ]
    },
    {
      "cell_type": "code",
      "metadata": {
        "colab": {
          "base_uri": "https://localhost:8080/"
        },
        "id": "fmx5-B6mWB1m",
        "outputId": "0c293dbb-95a1-42af-e6e0-0e20f67bb25b"
      },
      "source": [
        "import re\n",
        "p = re.compile('[a-z]', re.I) # re.I 대소문자 구별 안함\n",
        "m = p.match('python')\n",
        "print(m)\n",
        "m = p.match(\"Python\")\n",
        "print(m)\n",
        "m = p.match('PYTHON')\n",
        "print(m)"
      ],
      "execution_count": 22,
      "outputs": [
        {
          "output_type": "stream",
          "text": [
            "<re.Match object; span=(0, 1), match='p'>\n",
            "<re.Match object; span=(0, 1), match='P'>\n",
            "<re.Match object; span=(0, 1), match='P'>\n"
          ],
          "name": "stdout"
        }
      ]
    },
    {
      "cell_type": "code",
      "metadata": {
        "colab": {
          "base_uri": "https://localhost:8080/"
        },
        "id": "9XJql_TqWkzC",
        "outputId": "f68b682b-fc40-4bfc-b850-50d938ba5a57"
      },
      "source": [
        "import re\n",
        "match1 = re.match('[0-9]','1234')\n",
        "print(match1.group())\n",
        "match1 = re.match('[0-9]','abc')\n",
        "print(match1)\n",
        "match1 = re.match('[0-9]+','1234')\n",
        "print(match1)\n",
        "print(match1.group())"
      ],
      "execution_count": 23,
      "outputs": [
        {
          "output_type": "stream",
          "text": [
            "1\n",
            "None\n",
            "<re.Match object; span=(0, 4), match='1234'>\n",
            "1234\n"
          ],
          "name": "stdout"
        }
      ]
    },
    {
      "cell_type": "code",
      "metadata": {
        "colab": {
          "base_uri": "https://localhost:8080/"
        },
        "id": "tCz5OWppWqD9",
        "outputId": "ddc37f15-090e-4012-a1ab-4915d2eead84"
      },
      "source": [
        "import re\n",
        "p = re.compile(\"Crow|Servo\")\n",
        "m = p.match('CrowHello')\n",
        "print(m)\n",
        "# ^ 시작\n",
        "p = re.search('^Life','Life is too short')\n",
        "print(p)\n",
        "p = re.search('^Life','My Life')\n",
        "print(p)\n"
      ],
      "execution_count": 25,
      "outputs": [
        {
          "output_type": "stream",
          "text": [
            "<re.Match object; span=(0, 4), match='Crow'>\n",
            "<re.Match object; span=(0, 4), match='Life'>\n",
            "None\n"
          ],
          "name": "stdout"
        }
      ]
    },
    {
      "cell_type": "code",
      "metadata": {
        "colab": {
          "base_uri": "https://localhost:8080/"
        },
        "id": "WIwHRr07Wr_H",
        "outputId": "d09e516b-52f4-4b79-d4a6-6d4714c29e62"
      },
      "source": [
        "import re\n",
        "# $는 끝나는 문자 short으로 끝나는 가\n",
        "print(re.search('short$', 'Life is too short, you need python'))\n",
        "print(re.search('short$', 'Life is too short'))\n",
        "print(re.search('[$]', 'Life is too $ short')) # $ 끝, [$]문자 $\n",
        "print(re.search('\\$', 'Life is too $ short'))  # \\$도 문자 $"
      ],
      "execution_count": 26,
      "outputs": [
        {
          "output_type": "stream",
          "text": [
            "None\n",
            "<re.Match object; span=(12, 17), match='short'>\n",
            "<re.Match object; span=(12, 13), match='$'>\n",
            "<re.Match object; span=(12, 13), match='$'>\n"
          ],
          "name": "stdout"
        }
      ]
    },
    {
      "cell_type": "code",
      "metadata": {
        "colab": {
          "base_uri": "https://localhost:8080/"
        },
        "id": "enwefvbmWtC2",
        "outputId": "9e887dc6-78b4-4267-b13e-5988983f2b9a"
      },
      "source": [
        "import re\n",
        "p1 = re.compile(r'\\bclass\\b')  # \\b공란 스페이스\n",
        "p2 = re.compile(r'class')\n",
        "print(p1.search('no class at all'))\n",
        "print(p2.search('no class at all'))\n",
        "print(p1.search('the declassified algorithm'))\n",
        "print(p2.search('the declassified algorithm'))"
      ],
      "execution_count": 27,
      "outputs": [
        {
          "output_type": "stream",
          "text": [
            "<re.Match object; span=(3, 8), match='class'>\n",
            "<re.Match object; span=(3, 8), match='class'>\n",
            "None\n",
            "<re.Match object; span=(6, 11), match='class'>\n"
          ],
          "name": "stdout"
        }
      ]
    },
    {
      "cell_type": "code",
      "metadata": {
        "colab": {
          "base_uri": "https://localhost:8080/"
        },
        "id": "iwXmwxcdWuwu",
        "outputId": "51a462f7-61d2-402c-d0c8-a0c9e0ce986e"
      },
      "source": [
        "import re\n",
        "p1 = re.compile(r'\\Bclass\\B')  # \\B 공란/스페이스가 없는 것\n",
        "p2 = re.compile(r'class')\n",
        "print(p1.search('no class at all'))\n",
        "print(p2.search('no class at all'))\n",
        "print(p1.search('the declassified algorithm'))\n",
        "print(p2.search('the declassified algorithm'))"
      ],
      "execution_count": 28,
      "outputs": [
        {
          "output_type": "stream",
          "text": [
            "None\n",
            "<re.Match object; span=(3, 8), match='class'>\n",
            "<re.Match object; span=(6, 11), match='class'>\n",
            "<re.Match object; span=(6, 11), match='class'>\n"
          ],
          "name": "stdout"
        }
      ]
    },
    {
      "cell_type": "code",
      "metadata": {
        "colab": {
          "base_uri": "https://localhost:8080/"
        },
        "id": "OlhdsxZBWwFy",
        "outputId": "56bf1075-99cb-4a6c-8737-3d3de63ce889"
      },
      "source": [
        "import re\n",
        "# python으로 시작, 공백, 숫자/문자 1자이상\n",
        "p = re.compile('^python\\s\\w+', re.M)\n",
        "data = \"\"\"python one\n",
        "life is too short\n",
        "python two\n",
        "you need python\n",
        "python three\"\"\"\n",
        "print(p.findall(data))"
      ],
      "execution_count": 29,
      "outputs": [
        {
          "output_type": "stream",
          "text": [
            "['python one', 'python two', 'python three']\n"
          ],
          "name": "stdout"
        }
      ]
    },
    {
      "cell_type": "code",
      "metadata": {
        "colab": {
          "base_uri": "https://localhost:8080/"
        },
        "id": "kzbFER8TWxn2",
        "outputId": "814a37ba-bd5a-4e18-c2d1-ef9044ae5809"
      },
      "source": [
        "import re\n",
        "# python으로 시작, 공백, 숫자/문자 1자이상\n",
        "p = re.compile('^python\\s\\w+', re.M) # 여러줄 각각이 python으로 시작\n",
        "# p = re.compile('\\Apython\\s\\w+')\n",
        "p = re.compile('\\Apython\\s\\w+', re.M) # 첫번째 줄에 python시작\n",
        "data = \"\"\"python one\n",
        "life is too short\n",
        "python two\n",
        "you need python\n",
        "python three\"\"\"\n",
        "print(p.findall(data))"
      ],
      "execution_count": 30,
      "outputs": [
        {
          "output_type": "stream",
          "text": [
            "['python one']\n"
          ],
          "name": "stdout"
        }
      ]
    },
    {
      "cell_type": "code",
      "metadata": {
        "colab": {
          "base_uri": "https://localhost:8080/"
        },
        "id": "U2tVmhtAWy0o",
        "outputId": "54e0360f-7238-498c-9dd7-d5856534eed9"
      },
      "source": [
        "import re\n",
        "st = \"foo.bar,autoexec.bat,sendmail.cf,a.exe\"\n",
        "# \\n제외한 어떤 문자라도 여러번 반복+점(.)+bat로 끝나지 않는\n",
        "# \\n을 제외한 여러 문자\n",
        "p = re.compile('.*[.](?!bat$|exe$).*$') # exe로 끝나는 것도 추가 제외\n",
        "for i in st.split(\",\"):\n",
        "    m = p.match(i)\n",
        "    if m != None:\n",
        "        print(m.group())"
      ],
      "execution_count": 33,
      "outputs": [
        {
          "output_type": "stream",
          "text": [
            "foo.bar\n",
            "sendmail.cf\n"
          ],
          "name": "stdout"
        }
      ]
    },
    {
      "cell_type": "code",
      "metadata": {
        "colab": {
          "base_uri": "https://localhost:8080/"
        },
        "id": "9HoEKvxlYJjV",
        "outputId": "bca7c9a1-8b70-454c-82ff-521113d2409a"
      },
      "source": [
        "import re\n",
        "p = re.compile(\"(blue|white|red)\")\n",
        "m = p.sub('color','blue socks and red shoes and white hat')\n",
        "print(m)\n",
        "# sub :변경, subn : 변경과 변경된 갯수를 튜플로 반환\n"
      ],
      "execution_count": 38,
      "outputs": [
        {
          "output_type": "stream",
          "text": [
            "color socks and color shoes and color hat\n"
          ],
          "name": "stdout"
        }
      ]
    },
    {
      "cell_type": "markdown",
      "metadata": {
        "id": "IkiMCec4YQhY"
      },
      "source": [
        "## 그룹핑?"
      ]
    },
    {
      "cell_type": "code",
      "metadata": {
        "colab": {
          "base_uri": "https://localhost:8080/"
        },
        "id": "5HMYmFzIW18x",
        "outputId": "a6484515-c3ec-4391-b4f0-29edfe969f4a"
      },
      "source": [
        "# 괄호를 통해서 그룹핑을 할 수 있다.\n",
        "# 그 후에 \\g<그룹번호>를 통해 불러올 수 있다.\n",
        "\n",
        "\n",
        "# 주민번호 뒷자리를 별표로 변경\n",
        "import re  # 정규식을 지원하는 모듈\n",
        "data = \"\"\" \n",
        "park 800905-1049118\n",
        "kim  700905-1059119 \n",
        "\"\"\"\n",
        "pat = re.compile(\"(\\d{6})-(\\d{7})\") # 숫자6자리-숫자7자리\n",
        "print(pat.sub(\"\\g<1>-*******\",data))        # \\g\n"
      ],
      "execution_count": 42,
      "outputs": [
        {
          "output_type": "stream",
          "text": [
            " \n",
            "park 800905-*******\n",
            "kim  700905-******* \n",
            "\n"
          ],
          "name": "stdout"
        }
      ]
    },
    {
      "cell_type": "code",
      "metadata": {
        "id": "nnK43uLxXVZE"
      },
      "source": [
        ""
      ],
      "execution_count": null,
      "outputs": []
    }
  ]
}