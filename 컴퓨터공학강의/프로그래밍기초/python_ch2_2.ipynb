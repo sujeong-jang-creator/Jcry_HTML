{
  "nbformat": 4,
  "nbformat_minor": 0,
  "metadata": {
    "colab": {
      "name": "chap2-2.ipynb",
      "provenance": [],
      "collapsed_sections": []
    },
    "kernelspec": {
      "name": "python3",
      "display_name": "Python 3"
    },
    "language_info": {
      "name": "python"
    }
  },
  "cells": [
    {
      "cell_type": "code",
      "metadata": {
        "colab": {
          "base_uri": "https://localhost:8080/"
        },
        "id": "v9EDjWz6uK4H",
        "outputId": "2b2024eb-4a78-4b76-a059-40732ee38495"
      },
      "source": [
        "x = 5  # call by value\n",
        "y = x  # 기본형은 값을 전달\n",
        "print(x, y)\n",
        "y = 3\n",
        "print(x, y)"
      ],
      "execution_count": null,
      "outputs": [
        {
          "output_type": "stream",
          "text": [
            "5 5\n",
            "5 3\n"
          ],
          "name": "stdout"
        }
      ]
    },
    {
      "cell_type": "code",
      "metadata": {
        "colab": {
          "base_uri": "https://localhost:8080/"
        },
        "id": "2B-ZNVpUuWc5",
        "outputId": "63e118f3-9bba-4212-90a4-4f985798eeff"
      },
      "source": [
        "x = [2,3,5,7,11] # 참조형 call by reference\n",
        "y = x            # 주소 pointer를 넘김\n",
        "y[2] = 4\n",
        "print(x)\n",
        "print(y)"
      ],
      "execution_count": null,
      "outputs": [
        {
          "output_type": "stream",
          "text": [
            "[2, 3, 4, 7, 11]\n",
            "[2, 3, 4, 7, 11]\n"
          ],
          "name": "stdout"
        }
      ]
    },
    {
      "cell_type": "code",
      "metadata": {
        "colab": {
          "base_uri": "https://localhost:8080/"
        },
        "id": "G9JlR3mtuYPa",
        "outputId": "050682d0-33a2-460d-91e2-cfcd63e4ce59"
      },
      "source": [
        "x = [2,3,5,7,11]\n",
        "y = list(x)   # x에 있는 데이터를 가지고 와서\n",
        "              # y가 새로 만든 주소에 데이터를 저장장y[2] = 4\n",
        "print(x)\n",
        "print(y)"
      ],
      "execution_count": null,
      "outputs": [
        {
          "output_type": "stream",
          "text": [
            "[2, 3, 5, 7, 11]\n",
            "[2, 3, 5, 7, 11]\n"
          ],
          "name": "stdout"
        }
      ]
    },
    {
      "cell_type": "code",
      "metadata": {
        "colab": {
          "base_uri": "https://localhost:8080/"
        },
        "id": "I1rcydr1uZvd",
        "outputId": "448ac029-948f-469a-a717-e26ed4cb5971"
      },
      "source": [
        "list= [6,4,3]\n",
        "list.append(4)\n",
        "list.append([5,6])\n",
        "print(list)\n",
        "list2 = [7, 3,6,2,1]\n",
        "# sort()는 원본 데이터를 변경\n",
        "list2.sort()\n",
        "print(list2)\n",
        "list3 = [\"l\",'a','c','b']\n",
        "list3.sort()\n",
        "print(list3)"
      ],
      "execution_count": null,
      "outputs": [
        {
          "output_type": "stream",
          "text": [
            "[6, 4, 3, 4, [5, 6]]\n",
            "[1, 2, 3, 6, 7]\n",
            "['a', 'b', 'c', 'l']\n"
          ],
          "name": "stdout"
        }
      ]
    },
    {
      "cell_type": "code",
      "metadata": {
        "colab": {
          "base_uri": "https://localhost:8080/"
        },
        "id": "SwwbPe9yubFS",
        "outputId": "2f0e8b1d-a27d-4fb7-983a-a23cfecbaba1"
      },
      "source": [
        "num = [3, 5, 6, 7]\n",
        "# 문자열은 특정 index값을 변경하지 못하지만 list 변경 가능\n",
        "num[1] = 12\n",
        "num[0] = num[2] + num[3]\n",
        "print(num)"
      ],
      "execution_count": null,
      "outputs": [
        {
          "output_type": "stream",
          "text": [
            "[13, 12, 6, 7]\n"
          ],
          "name": "stdout"
        }
      ]
    },
    {
      "cell_type": "code",
      "metadata": {
        "colab": {
          "base_uri": "https://localhost:8080/"
        },
        "id": "uiT73_sfud95",
        "outputId": "caefdb77-6d0f-45a9-9e14-9eae5b768986"
      },
      "source": [
        "num = [1, 6, 8,2,4,6,1,7, 6]\n",
        "# count해당하는 요소가 몇개인지 센다\n",
        "print(num.count(6))\n",
        "print(num.count(1))\n",
        "# extend 를 list를 추가할 때 사용\n",
        "num.extend([4, 7])\n",
        "print(num)\n",
        "# 요소 1개 추가\n",
        "num.append(4)\n",
        "print(num)\n",
        "# +가 extend와 유사한 형태\n",
        "num = num+[7,8]\n",
        "print(num )\n"
      ],
      "execution_count": null,
      "outputs": [
        {
          "output_type": "stream",
          "text": [
            "3\n",
            "2\n",
            "[1, 6, 8, 2, 4, 6, 1, 7, 6, 4, 7]\n",
            "[1, 6, 8, 2, 4, 6, 1, 7, 6, 4, 7, 4]\n",
            "[1, 6, 8, 2, 4, 6, 1, 7, 6, 4, 7, 4, 7, 8]\n"
          ],
          "name": "stdout"
        }
      ]
    },
    {
      "cell_type": "code",
      "metadata": {
        "colab": {
          "base_uri": "https://localhost:8080/"
        },
        "id": "jjjOkhGiug2z",
        "outputId": "fccca809-8207-4104-b6e2-34cc2d4f937c"
      },
      "source": [
        "# key가 중복되면 앞의 데이터는 무시\n",
        "d1 = {'이름':'수지','나이':25,'취미':'욕하기','나이':12}\n",
        "print(d1)\n",
        "print(d1['나이'])\n",
        "print(d1['이름'])\n",
        "print(len(d1))\n",
        "d1['이름'] = '다혜'  # 해당하는 key의 값이 변경\n",
        "print(d1['이름'])\n",
        "del d1['나이']   # key에 해당하는 데이터 삭제\n",
        "print(d1)"
      ],
      "execution_count": null,
      "outputs": [
        {
          "output_type": "stream",
          "text": [
            "{'이름': '수지', '나이': 12, '취미': '욕하기'}\n",
            "12\n",
            "수지\n",
            "3\n",
            "다혜\n",
            "{'이름': '다혜', '취미': '욕하기'}\n"
          ],
          "name": "stdout"
        }
      ]
    },
    {
      "cell_type": "code",
      "metadata": {
        "colab": {
          "base_uri": "https://localhost:8080/"
        },
        "id": "QC9XCH-1ujWx",
        "outputId": "67941243-0bdb-4bf5-b45c-6996de997241"
      },
      "source": [
        "d1 = {'이름':'하니','나이':23,'취미':'코 후비기'}\n",
        "print(d1.keys())\n",
        "print(d1.values())\n",
        "print(d1.items())\n",
        "d2 = d1.copy()\n",
        "d1.clear()\n",
        "print(d1)\n",
        "print(d2)\n",
        "print(d2.get('이름'))\n",
        "print(d2.get('나이','대박'))\n",
        "print(d2.get('고향','대박')) # 키가 없으면 출력"
      ],
      "execution_count": null,
      "outputs": [
        {
          "output_type": "stream",
          "text": [
            "dict_keys(['이름', '나이', '취미'])\n",
            "dict_values(['하니', 23, '코 후비기'])\n",
            "dict_items([('이름', '하니'), ('나이', 23), ('취미', '코 후비기')])\n",
            "{}\n",
            "{'이름': '하니', '나이': 23, '취미': '코 후비기'}\n",
            "하니\n",
            "23\n",
            "대박\n"
          ],
          "name": "stdout"
        }
      ]
    },
    {
      "cell_type": "code",
      "metadata": {
        "colab": {
          "base_uri": "https://localhost:8080/"
        },
        "id": "J4FNymZeukm9",
        "outputId": "65b76bf4-f3ee-42f6-bb0a-e384c321e0dd"
      },
      "source": [
        "d1 = {}\n",
        "d1['이름'] = '수지'\n",
        "d1['나이'] = 25\n",
        "print(d1)\n",
        "# 값는 리스트등 여러개 가능\n",
        "d2 = {'이름':['철수', '영희']}\n",
        "print(d2)\n",
        "# key는 하나\n",
        "# d3 = {['이름,나이']:'몰라'}"
      ],
      "execution_count": null,
      "outputs": [
        {
          "output_type": "stream",
          "text": [
            "{'이름': '수지', '나이': 25}\n",
            "{'이름': ['철수', '영희']}\n"
          ],
          "name": "stdout"
        }
      ]
    },
    {
      "cell_type": "code",
      "metadata": {
        "colab": {
          "base_uri": "https://localhost:8080/"
        },
        "id": "Qa0VPpfAupqw",
        "outputId": "6a8cb320-6eb2-4f38-8d60-7a6534b11de2"
      },
      "source": [
        "# 4, 5, 8,2를 가진 num list 생성\n",
        "num = [4,5,8,2]; print(num)\n",
        "# 뒤에 11 추가\n",
        "num.append(11); print(num)\n",
        "# 1번째 인덱스에 17 추가\n",
        "num.insert(1,17); print(num)\n",
        "# 5 샥제\n",
        "num.remove(5); print(num)\n",
        "# 3번째 인덱스에 1로 변경\n",
        "num[3] = 1;  print(num)\n",
        "# 데이터를 거꾸로 출력\n",
        "num.reverse();  print(num)\n",
        "# 데이터를 정열하고 출력\n",
        "num.sort();  print(num)\n",
        "# 17의 인덱스 번호\n",
        "print(num.index(17))"
      ],
      "execution_count": null,
      "outputs": [
        {
          "output_type": "stream",
          "text": [
            "[4, 5, 8, 2]\n",
            "[4, 5, 8, 2, 11]\n",
            "[4, 17, 5, 8, 2, 11]\n",
            "[4, 17, 8, 2, 11]\n",
            "[4, 17, 8, 1, 11]\n",
            "[11, 1, 8, 17, 4]\n",
            "[1, 4, 8, 11, 17]\n",
            "4\n"
          ],
          "name": "stdout"
        }
      ]
    },
    {
      "cell_type": "code",
      "metadata": {
        "colab": {
          "base_uri": "https://localhost:8080/"
        },
        "id": "QWk1ho25uzFM",
        "outputId": "ad577b6a-1335-4faf-d3a7-21b6af2ce6f0"
      },
      "source": [
        "num = [5, 7, 8]; print(num)\n",
        "# 9추가\n",
        "num.append(9); print(num)\n",
        "# [11, 23} 추가\n",
        "num.extend([11,23]); print(num)\n",
        "# [1, 5]를 +로 추가\n",
        "num = num + [1, 5]; print(num)\n",
        "# 5의 갯수를 count\n",
        "print(num.count(5))\n",
        "# pop으로 마지막 데이터 출력하고\n",
        "print(num.pop()); print(num)\n",
        "# 인덱스 2번 데이터를 pop으로 출력하고 num 출력\n",
        "print(num.pop(2)); print(num)"
      ],
      "execution_count": null,
      "outputs": [
        {
          "output_type": "stream",
          "text": [
            "[5, 7, 8]\n",
            "[5, 7, 8, 9]\n",
            "[5, 7, 8, 9, 11, 23]\n",
            "[5, 7, 8, 9, 11, 23, 1, 5]\n",
            "2\n",
            "5\n",
            "[5, 7, 8, 9, 11, 23, 1]\n",
            "8\n",
            "[5, 7, 9, 11, 23, 1]\n"
          ],
          "name": "stdout"
        }
      ]
    },
    {
      "cell_type": "code",
      "metadata": {
        "colab": {
          "base_uri": "https://localhost:8080/"
        },
        "id": "rs36vyQHu05W",
        "outputId": "8ba8d02c-857f-4f68-f4d2-13568a7d1004"
      },
      "source": [
        "greetings = [\"안녕\", \"니하오\", \"곤니찌와\", \"올라\", \"싸와디캅\", \"헬로\", \"봉주르\"]\n",
        "# range는 0부터 값 앞에 까지 (7이면 6까지)\n",
        "# 안녕부터 출력\n",
        "for i in range(len(greetings)):\n",
        "    print(greetings[i])\n",
        "print('----------------')\n",
        "# 봉주르 부터\n",
        "while greetings:\n",
        "    print(greetings.pop())"
      ],
      "execution_count": null,
      "outputs": [
        {
          "output_type": "stream",
          "text": [
            "안녕\n",
            "니하오\n",
            "곤니찌와\n",
            "올라\n",
            "싸와디캅\n",
            "헬로\n",
            "봉주르\n",
            "----------------\n",
            "봉주르\n",
            "헬로\n",
            "싸와디캅\n",
            "올라\n",
            "곤니찌와\n",
            "니하오\n",
            "안녕\n"
          ],
          "name": "stdout"
        }
      ]
    },
    {
      "cell_type": "code",
      "metadata": {
        "colab": {
          "base_uri": "https://localhost:8080/"
        },
        "id": "qcEfpcHnu2QB",
        "outputId": "2351dd10-4b74-48dc-ab27-870d556401a4"
      },
      "source": [
        "names = [\"호동\",\"재석\",\"포동\",\"희철\",\"효리\"]\n",
        "# 인덱스 1번째에 \"하니\"추가\n",
        "names.insert(1,'하니')\n",
        "# 인덱스 3번째에 [\"아이유\", \"제니\"] 추가\n",
        "names[3:3] = [\"아이유\", \"제니\"]\n",
        "# index 0번째 데이터 삭제\n",
        "# 값을 지울 때 names.remove(\"호동\");\n",
        "del names[0]\n",
        "# 인덱스를 이용하여 처음부터 끝 까지 출력\n",
        "for i in range(len(names)):\n",
        "    print(names[i])\n",
        "print('==============')\n",
        "# 데이터를 직접 가져와서 처음부터 끝까지 출력\n",
        "for i in names:\n",
        "    print(i)\n",
        "# pop을 사용해서 뒤부터 출력\n",
        "print('==============')\n",
        "while names:\n",
        "    print(names.pop())"
      ],
      "execution_count": null,
      "outputs": [
        {
          "output_type": "stream",
          "text": [
            "하니\n",
            "재석\n",
            "아이유\n",
            "제니\n",
            "포동\n",
            "희철\n",
            "효리\n",
            "==============\n",
            "하니\n",
            "재석\n",
            "아이유\n",
            "제니\n",
            "포동\n",
            "희철\n",
            "효리\n",
            "==============\n",
            "효리\n",
            "희철\n",
            "포동\n",
            "제니\n",
            "아이유\n",
            "재석\n",
            "하니\n"
          ],
          "name": "stdout"
        }
      ]
    },
    {
      "cell_type": "code",
      "metadata": {
        "colab": {
          "base_uri": "https://localhost:8080/"
        },
        "id": "ZdvQHOIau3dL",
        "outputId": "97ae7fe9-eaeb-457e-d72c-3c859cfccabd"
      },
      "source": [
        "names = [\"호동\",\"재석\",\"포동\",\"희철\",\"효리\"]\n",
        "# 가나다 순 출력\n",
        "print(sorted(names))\n",
        "# 입력의 역순으로 출력 (원본 데이터 변경)\n",
        "names.reverse()\n",
        "print(names)\n",
        "# 원본 데이터 변경하여 출력\n",
        "names.sort()\n",
        "print(names)\n",
        "# names를 내림차순으로 출력\n",
        "print(sorted(names, reverse=True))\n",
        "# 원본 데이터를 변경하여 내림차순 출력\n",
        "names.sort(reverse=True)\n",
        "print(names)"
      ],
      "execution_count": null,
      "outputs": [
        {
          "output_type": "stream",
          "text": [
            "['재석', '포동', '호동', '효리', '희철']\n",
            "['효리', '희철', '포동', '재석', '호동']\n",
            "['재석', '포동', '호동', '효리', '희철']\n",
            "['희철', '효리', '호동', '포동', '재석']\n",
            "['희철', '효리', '호동', '포동', '재석']\n"
          ],
          "name": "stdout"
        }
      ]
    },
    {
      "cell_type": "code",
      "metadata": {
        "colab": {
          "base_uri": "https://localhost:8080/"
        },
        "id": "jv-WZQ9zu46D",
        "outputId": "1d5a38b1-f131-4ce1-8721-d2cb819856d6"
      },
      "source": [
        "names = [\"호동\",\"재석\",\"포동\",\"희철\",\"효리\"]\n",
        "# in은 값이 포함되어 있는지 확인\n",
        "print(\"포동\" in names)\n",
        "print(\"제니\" in names)\n",
        "# not in은 값이 포함되지 않았는지 확인\n",
        "print(\"포동\" not in names)\n",
        "print(\"제니\" not in names)"
      ],
      "execution_count": null,
      "outputs": [
        {
          "output_type": "stream",
          "text": [
            "True\n",
            "False\n",
            "False\n",
            "True\n"
          ],
          "name": "stdout"
        }
      ]
    },
    {
      "cell_type": "code",
      "metadata": {
        "colab": {
          "base_uri": "https://localhost:8080/"
        },
        "id": "Nb3RKP75u6vP",
        "outputId": "25dacc2d-7861-4d00-97bc-939cac5ddd3e"
      },
      "source": [
        "num = [1, 2, 3]\n",
        "# insert 특정한 인덱스 위치에 데이터 추가\n",
        "num.insert(0,7)\n",
        "num.insert(2,6)\n",
        "print(num)\n",
        "num[3] = 12\n",
        "print(num)\n",
        "num.remove(6)\n",
        "print(num)"
      ],
      "execution_count": null,
      "outputs": [
        {
          "output_type": "stream",
          "text": [
            "[7, 1, 6, 2, 3]\n",
            "[7, 1, 6, 12, 3]\n",
            "[7, 1, 12, 3]\n"
          ],
          "name": "stdout"
        }
      ]
    },
    {
      "cell_type": "code",
      "metadata": {
        "colab": {
          "base_uri": "https://localhost:8080/"
        },
        "id": "vg3zM1S5u8Nt",
        "outputId": "85265c74-a23d-432f-c0f0-a9220f208553"
      },
      "source": [
        "family = {}\n",
        "family['어머니'] = 'grace'\n",
        "family['아버지'] = 'chris'\n",
        "family['아들'] = 'young'\n",
        "family['딸'] = 'kay'\n",
        "for k, v in family.items():\n",
        "    print('{} : {}'.format(k, v))"
      ],
      "execution_count": null,
      "outputs": [
        {
          "output_type": "stream",
          "text": [
            "어머니 : grace\n",
            "아버지 : chris\n",
            "아들 : young\n",
            "딸 : kay\n"
          ],
          "name": "stdout"
        }
      ]
    },
    {
      "cell_type": "code",
      "metadata": {
        "colab": {
          "base_uri": "https://localhost:8080/"
        },
        "id": "BFn_agaHu9tu",
        "outputId": "12d0d158-02e0-432d-d12a-1f0e1bfe8d73"
      },
      "source": [
        "# 빈 리스트 만들기\n",
        "numbers = []  # numbers 에 자연수 1 부터 10 까지 추가\n",
        "numbers[:] = range(1,11)\n",
        "print(numbers)\n",
        "# numbers 에서 홀수 제거\n",
        "del numbers[::2]\n",
        "print(numbers)\n",
        "# numbers 에서 짝수 제거\n",
        "# del numbers[1::2]\n",
        "# print(numbers)\n",
        "# numbers 의 인덱스 0 자리에 20 이라는 값 삽입\n",
        "numbers[0] = 20\n",
        "print(numbers)\n",
        "# numbers 를 정렬해서 출력\n",
        "numbers.sort()\n",
        "print(numbers)\n"
      ],
      "execution_count": null,
      "outputs": [
        {
          "output_type": "stream",
          "text": [
            "[1, 2, 3, 4, 5, 6, 7, 8, 9, 10]\n",
            "[2, 4, 6, 8, 10]\n",
            "[20, 4, 6, 8, 10]\n",
            "[4, 6, 8, 10, 20]\n"
          ],
          "name": "stdout"
        }
      ]
    },
    {
      "cell_type": "code",
      "metadata": {
        "colab": {
          "base_uri": "https://localhost:8080/"
        },
        "id": "I_cFmHLsvAMu",
        "outputId": "a72a89ad-5a85-4c99-a1d0-ccb7ef8f5753"
      },
      "source": [
        "inner = [2, 7, 8]\n",
        "# list안에 list추가 : 중첩리스트\n",
        "outer = [\"제니\", inner, \"효리\"]\n",
        "print(outer)\n",
        "inner[1] = 45\n",
        "print(outer)\n",
        "score = [[67,78,88],[88,78,91],[34,67,88]]\n",
        "print(score[1])\n",
        "print(score[2][1])"
      ],
      "execution_count": null,
      "outputs": [
        {
          "output_type": "stream",
          "text": [
            "['제니', [2, 7, 8], '효리']\n",
            "['제니', [2, 45, 8], '효리']\n",
            "[88, 78, 91]\n",
            "67\n"
          ],
          "name": "stdout"
        }
      ]
    },
    {
      "cell_type": "code",
      "metadata": {
        "colab": {
          "base_uri": "https://localhost:8080/"
        },
        "id": "CUuVWsGZvIsr",
        "outputId": "baa6596a-559e-4668-eb79-1fa05aadc371"
      },
      "source": [
        "num = [34, 56, 12, 11, 7, 4]\n",
        "# 마지막 데이터를 가져와서 버린다\n",
        "print(num.pop())\n",
        "print(num)\n",
        "print(num.pop())\n",
        "print(num)\n",
        "# 인덱스를 사용하면 해당하는 인덱스 데이터를 가져와서 버린다\n",
        "print(num.pop(1))\n",
        "print(num)"
      ],
      "execution_count": null,
      "outputs": [
        {
          "output_type": "stream",
          "text": [
            "4\n",
            "[34, 56, 12, 11, 7]\n",
            "7\n",
            "[34, 56, 12, 11]\n",
            "56\n",
            "[34, 12, 11]\n"
          ],
          "name": "stdout"
        }
      ]
    },
    {
      "cell_type": "code",
      "metadata": {
        "colab": {
          "base_uri": "https://localhost:8080/"
        },
        "id": "NEyVWy2KvSVO",
        "outputId": "37648776-9461-4f38-ba86-ef005fe6f4eb"
      },
      "source": [
        "hashset = set()  # set 생성 데이터 없는 경우 {} x\n",
        "print(hashset)\n",
        "hashset = {1, 2, 3}  # 데이터가 있을 경우는 {}로 생성\n",
        "print(hashset)\n",
        "hashset = set((1,2,3,2))  # 중복된 2는 하나만 인자로 됨\n",
        "print(hashset)\n",
        "hashset = set('hello world') # 중복된 것 제외하고 임으로 순서\n",
        "print(hashset)\n",
        "hashset = set([1,6,7,6,1])\n",
        "print(hashset)"
      ],
      "execution_count": null,
      "outputs": [
        {
          "output_type": "stream",
          "text": [
            "set()\n",
            "{1, 2, 3}\n",
            "{1, 2, 3}\n",
            "{'l', 'r', 'o', 'd', 'h', ' ', 'w', 'e'}\n",
            "{1, 6, 7}\n"
          ],
          "name": "stdout"
        }
      ]
    },
    {
      "cell_type": "code",
      "metadata": {
        "colab": {
          "base_uri": "https://localhost:8080/"
        },
        "id": "3IuqMebPvXQc",
        "outputId": "f78ea8f0-0aad-4258-ee77-ab5008fe3383"
      },
      "source": [
        "s1 = {3, 5, 7}\n",
        "s1.add(6)\n",
        "s2 = s1.copy() # 주소가 아니라 데이터 자체 복사\n",
        "s1.add(9)\n",
        "print(s1)\n",
        "print(s2)\n",
        "s1.discard(5)\n",
        "s1.remove(7)\n",
        "print(s1)\n",
        "s1.discard(10) # 없는 숫자를 discard하면 그냥 통과\n",
        "# s1.remove(10)  # 없는 숫자를 remove하면 에러\n",
        "print(s2)\n",
        "# pop데이터를 하나씩 추출하여 제거\n",
        "while s2:\n",
        "    print(s2.pop())"
      ],
      "execution_count": null,
      "outputs": [
        {
          "output_type": "stream",
          "text": [
            "{3, 5, 6, 7, 9}\n",
            "{3, 5, 6, 7}\n",
            "{3, 6, 9}\n",
            "{3, 5, 6, 7}\n",
            "3\n",
            "5\n",
            "6\n",
            "7\n"
          ],
          "name": "stdout"
        }
      ]
    },
    {
      "cell_type": "code",
      "metadata": {
        "colab": {
          "base_uri": "https://localhost:8080/"
        },
        "id": "NgLQ0XblvaDx",
        "outputId": "52cfb9e0-8ef6-42a3-d01f-45cc04b9fc44"
      },
      "source": [
        "a1 = {1,2,3,4,5}\n",
        "a2 = {4,5,6,7,8}\n",
        "a3 = {9,10,11,12}\n",
        "# union합집합 : 공통 부분을 한번만 추출\n",
        "print(a1.union(a2))\n",
        "# intersection공통집합, 교집한\n",
        "print(a1.intersection(a2))\n",
        "# difference는 차집합\n",
        "print(a1.difference(a2))\n",
        "# 공통되지 않은 부분만 출력\n",
        "print(a1.symmetric_difference(a2))\n",
        "print(a1.isdisjoint(a2))  # 교집합이 없으면 True\n",
        "print(a1.isdisjoint(a3))"
      ],
      "execution_count": null,
      "outputs": [
        {
          "output_type": "stream",
          "text": [
            "{1, 2, 3, 4, 5, 6, 7, 8}\n",
            "{4, 5}\n",
            "{1, 2, 3}\n",
            "{1, 2, 3, 6, 7, 8}\n",
            "False\n",
            "True\n"
          ],
          "name": "stdout"
        }
      ]
    },
    {
      "cell_type": "code",
      "metadata": {
        "colab": {
          "base_uri": "https://localhost:8080/"
        },
        "id": "20slp11fvbpM",
        "outputId": "31434a99-31b7-42bc-b548-a65218bed417"
      },
      "source": [
        "numbers = [1, 2, 3, 4, 5, 6]\n",
        "#          0       1      2       3\n",
        "#         -4      -3     -2      -1\n",
        "names = [\"윤수\", \"혜린\", \"태호\", \"영훈\"]\n",
        "print(names[2])\n",
        "print(names[-2])\n",
        "print(numbers[3])\n",
        "print(numbers[-1])\n",
        "print(numbers[3:])  # 뒤는 모두\n",
        "print(names[:-3])   # 앞이 모두\n",
        "print(names[1:3])   # 시작: 끝 앞까지"
      ],
      "execution_count": null,
      "outputs": [
        {
          "output_type": "stream",
          "text": [
            "태호\n",
            "태호\n",
            "4\n",
            "6\n",
            "[4, 5, 6]\n",
            "['윤수']\n",
            "['혜린', '태호']\n"
          ],
          "name": "stdout"
        }
      ]
    },
    {
      "cell_type": "code",
      "metadata": {
        "colab": {
          "base_uri": "https://localhost:8080/"
        },
        "id": "APItCCLuvfwq",
        "outputId": "20fb258b-74dd-4914-eeed-93ef5c60b6ff"
      },
      "source": [
        "num = [6, 8, 4, 9, 5]\n",
        "# reverse는 큰순서\n",
        "print(sorted(num, reverse=True))\n",
        "print(num)\n",
        "num.sort(reverse=True)\n",
        "print(num)"
      ],
      "execution_count": null,
      "outputs": [
        {
          "output_type": "stream",
          "text": [
            "[9, 8, 6, 5, 4]\n",
            "[6, 8, 4, 9, 5]\n",
            "[9, 8, 6, 5, 4]\n"
          ],
          "name": "stdout"
        }
      ]
    },
    {
      "cell_type": "code",
      "metadata": {
        "colab": {
          "base_uri": "https://localhost:8080/"
        },
        "id": "aOKD9o20vhTw",
        "outputId": "6af6cb16-d1f3-48be-9a7e-2457746fcdc7"
      },
      "source": [
        "data = ['Morning', 'Afternoon', 'evening' ,'Night' ]\n",
        "data.sort()\n",
        "print(data)\n",
        "# 정렬하는 동안은 전부 소문자로 변경하여 처리\n",
        "data.sort(key=str.lower)\n",
        "print(data)"
      ],
      "execution_count": null,
      "outputs": [
        {
          "output_type": "stream",
          "text": [
            "['Afternoon', 'Morning', 'Night', 'evening']\n",
            "['Afternoon', 'evening', 'Morning', 'Night']\n"
          ],
          "name": "stdout"
        }
      ]
    },
    {
      "cell_type": "code",
      "metadata": {
        "colab": {
          "base_uri": "https://localhost:8080/"
        },
        "id": "13gTtLDlvjDE",
        "outputId": "bada4b16-1fb9-4e0b-bba2-e7ad2b8adeeb"
      },
      "source": [
        "num = [6, 8, 4, 9, 5]\n",
        "# sorted는 원본 데이터는 그대로 두고 결과만 정렬\n",
        "print(sorted(num))\n",
        "num1 = sorted(num)\n",
        "print(num)\n",
        "# reverse()원본 데이터의 순서를 뒤부터 재배치\n",
        "num.reverse()\n",
        "print(num)\n",
        "# sort는 원본 데이터를 변경하고 결과는 반환하디 않는다\n",
        "num.sort()\n",
        "print(num)"
      ],
      "execution_count": null,
      "outputs": [
        {
          "output_type": "stream",
          "text": [
            "[4, 5, 6, 8, 9]\n",
            "[6, 8, 4, 9, 5]\n",
            "[5, 9, 4, 8, 6]\n",
            "[4, 5, 6, 8, 9]\n"
          ],
          "name": "stdout"
        }
      ]
    },
    {
      "cell_type": "code",
      "metadata": {
        "colab": {
          "base_uri": "https://localhost:8080/"
        },
        "id": "_1DB8Y2EvktJ",
        "outputId": "6d49d8a9-62eb-4c77-8ecd-42b114f6b4ff"
      },
      "source": [
        "t1 = ()\n",
        "t2 = (1,)  # 인자가 하나인 경우 뒤에 ,\n",
        "t3 = (1)   # ()속에 있는 정수를 대입\n",
        "t4 = (1,2,3)\n",
        "t5 = 1,2,3  # ()를 생략할 수 있다\n",
        "t6 = ('a','b',('ab','bc')) # 중첩 튜플도 가능\n",
        "print(type(t1))\n",
        "print(t2, type(t2))\n",
        "print(t3, type(t3))\n",
        "print(t4, type(t4))\n",
        "print(t5, type(t5))\n",
        "print(t6, type(t6))"
      ],
      "execution_count": null,
      "outputs": [
        {
          "output_type": "stream",
          "text": [
            "<class 'tuple'>\n",
            "(1,) <class 'tuple'>\n",
            "1 <class 'int'>\n",
            "(1, 2, 3) <class 'tuple'>\n",
            "(1, 2, 3) <class 'tuple'>\n",
            "('a', 'b', ('ab', 'bc')) <class 'tuple'>\n"
          ],
          "name": "stdout"
        }
      ]
    },
    {
      "cell_type": "code",
      "metadata": {
        "id": "5cnHobW5vr2V",
        "colab": {
          "base_uri": "https://localhost:8080/"
        },
        "outputId": "7c2d89a1-6220-4ce6-e89a-7b10942eaccd"
      },
      "source": [
        "# 튜플 변경하지 못하는 경우를 제외하고는 list같음\n",
        "a1 = (1, 2)\n",
        "a2 = (3, 4)\n",
        "print(a1+a2)\n",
        "print(a1*3)\n",
        "b1 = [1,2]\n",
        "b2=[3,4]\n",
        "print(b1+b2)\n",
        "print(b1*3)\n",
        "print(len(a1))"
      ],
      "execution_count": null,
      "outputs": [
        {
          "output_type": "stream",
          "text": [
            "(1, 2, 3, 4)\n",
            "(1, 2, 1, 2, 1, 2)\n",
            "[1, 2, 3, 4]\n",
            "[1, 2, 1, 2, 1, 2]\n",
            "2\n"
          ],
          "name": "stdout"
        }
      ]
    },
    {
      "cell_type": "code",
      "metadata": {
        "id": "7MLEMoW7vtn7"
      },
      "source": [
        ""
      ],
      "execution_count": null,
      "outputs": []
    }
  ]
}