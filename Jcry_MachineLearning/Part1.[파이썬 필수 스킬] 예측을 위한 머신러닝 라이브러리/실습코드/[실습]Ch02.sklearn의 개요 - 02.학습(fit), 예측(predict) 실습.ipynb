{
  "nbformat": 4,
  "nbformat_minor": 0,
  "metadata": {
    "colab": {
      "name": "ch01-part-04-sklearn-실습",
      "provenance": [],
      "collapsed_sections": []
    },
    "kernelspec": {
      "name": "python3",
      "display_name": "Python 3"
    }
  },
  "cells": [
    {
      "cell_type": "code",
      "metadata": {
        "id": "e7FbfkBhIkTs",
        "colab_type": "code",
        "colab": {}
      },
      "source": [
        "import numpy as np\n",
        "from sklearn.linear_model import LinearRegression"
      ],
      "execution_count": 0,
      "outputs": []
    },
    {
      "cell_type": "code",
      "metadata": {
        "id": "6mbsGFOL686M",
        "colab_type": "code",
        "colab": {}
      },
      "source": [
        "# reshape 코드입력"
      ],
      "execution_count": 0,
      "outputs": []
    },
    {
      "cell_type": "code",
      "metadata": {
        "id": "yRZSXmTTIyDs",
        "colab_type": "code",
        "colab": {}
      },
      "source": [
        "x = # reshape 코드입력\n",
        "y = # reshape 코드입력"
      ],
      "execution_count": 0,
      "outputs": []
    },
    {
      "cell_type": "code",
      "metadata": {
        "id": "zxeoKPMpI4o6",
        "colab_type": "code",
        "colab": {}
      },
      "source": [
        "x"
      ],
      "execution_count": 0,
      "outputs": []
    },
    {
      "cell_type": "code",
      "metadata": {
        "id": "Nlx4kjkrI5N5",
        "colab_type": "code",
        "colab": {}
      },
      "source": [
        "y"
      ],
      "execution_count": 0,
      "outputs": []
    },
    {
      "cell_type": "markdown",
      "metadata": {
        "id": "lrYy3kXBJMxu",
        "colab_type": "text"
      },
      "source": [
        "## 모델의 선언, fit(학습), predict(예측)"
      ]
    },
    {
      "cell_type": "code",
      "metadata": {
        "id": "JJ9T6KAtI5hw",
        "colab_type": "code",
        "colab": {}
      },
      "source": [
        "# 모델 선언\n",
        "model = # 코드입력"
      ],
      "execution_count": 0,
      "outputs": []
    },
    {
      "cell_type": "code",
      "metadata": {
        "id": "5dhecI6k0a3J",
        "colab_type": "code",
        "colab": {}
      },
      "source": [
        "model"
      ],
      "execution_count": 0,
      "outputs": []
    },
    {
      "cell_type": "code",
      "metadata": {
        "id": "m9eilQAYI8W2",
        "colab_type": "code",
        "colab": {}
      },
      "source": [
        "# 학습\n",
        "model.# 코드입력"
      ],
      "execution_count": 0,
      "outputs": []
    },
    {
      "cell_type": "code",
      "metadata": {
        "id": "06JEQA_bI9mz",
        "colab_type": "code",
        "colab": {}
      },
      "source": [
        "# 예측\n",
        "prediction = model.# 코드입력"
      ],
      "execution_count": 0,
      "outputs": []
    },
    {
      "cell_type": "code",
      "metadata": {
        "id": "2l_GkdT7JX8q",
        "colab_type": "code",
        "colab": {}
      },
      "source": [
        "prediction"
      ],
      "execution_count": 0,
      "outputs": []
    },
    {
      "cell_type": "code",
      "metadata": {
        "id": "c_61c-i-Jp85",
        "colab_type": "code",
        "colab": {}
      },
      "source": [
        ""
      ],
      "execution_count": 0,
      "outputs": []
    }
  ]
}